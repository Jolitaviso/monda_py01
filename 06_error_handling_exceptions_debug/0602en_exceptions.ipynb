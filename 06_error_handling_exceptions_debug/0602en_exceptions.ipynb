{
 "cells": [
  {
   "cell_type": "markdown",
   "metadata": {},
   "source": [
    "# Exceptions\n",
    "\n",
    "## TypeError\n",
    "\n",
    "One of the errors that can occur due to the improper use of data types is a `TypeError`. \n",
    ">For example, when trying to concatenate different data types:"
   ]
  },
  {
   "cell_type": "code",
   "execution_count": 13,
   "metadata": {},
   "outputs": [
    {
     "ename": "TypeError",
     "evalue": "can only concatenate str (not \"int\") to str",
     "output_type": "error",
     "traceback": [
      "\u001b[1;31m---------------------------------------------------------------------------\u001b[0m",
      "\u001b[1;31mTypeError\u001b[0m                                 Traceback (most recent call last)",
      "Cell \u001b[1;32mIn[13], line 3\u001b[0m\n\u001b[0;32m      1\u001b[0m number \u001b[38;5;241m=\u001b[39m \u001b[38;5;241m42\u001b[39m\n\u001b[0;32m      2\u001b[0m name \u001b[38;5;241m=\u001b[39m \u001b[38;5;124m\"\u001b[39m\u001b[38;5;124mJohn\u001b[39m\u001b[38;5;124m\"\u001b[39m\n\u001b[1;32m----> 3\u001b[0m result \u001b[38;5;241m=\u001b[39m \u001b[43mname\u001b[49m\u001b[43m \u001b[49m\u001b[38;5;241;43m+\u001b[39;49m\u001b[43m \u001b[49m\u001b[43mnumber\u001b[49m  \u001b[38;5;66;03m# TypeError: can only concatenate str (not \"int\") to str\u001b[39;00m\n",
      "\u001b[1;31mTypeError\u001b[0m: can only concatenate str (not \"int\") to str"
     ]
    }
   ],
   "source": [
    "number = 42\n",
    "name = \"John\"\n",
    "result = name + number  # TypeError: can only concatenate str (not \"int\") to str"
   ]
  },
  {
   "cell_type": "markdown",
   "metadata": {},
   "source": [
    "For error handling, we use `try` and `except` blocks, \n",
    ">which allow us to handle exceptions and continue the program's execution:"
   ]
  },
  {
   "cell_type": "code",
   "execution_count": 14,
   "metadata": {},
   "outputs": [
    {
     "name": "stdout",
     "output_type": "stream",
     "text": [
      "Error: cannot concatenate 'str' and 'int' data types\n"
     ]
    }
   ],
   "source": [
    "number = 42\n",
    "name = \"John\"\n",
    "try:\n",
    "    result = name + number\n",
    "except TypeError:\n",
    "    print(\"Error: cannot concatenate 'str' and 'int' data types\")  # Error: cannot concatenate 'str' and 'int' data types"
   ]
  },
  {
   "cell_type": "markdown",
   "metadata": {},
   "source": [
    "# `Quick assignment 1: TypeError Assignment`\n",
    "\n",
    "1. Create a program that attempts to add an integer and a string together.\n",
    "1. Use a `try` and `except` block to catch the `TypeError` and print an error message."
   ]
  },
  {
   "cell_type": "code",
   "execution_count": 18,
   "metadata": {},
   "outputs": [
    {
     "name": "stdout",
     "output_type": "stream",
     "text": [
      "Error: Cannot add an integer and a string.\n"
     ]
    }
   ],
   "source": [
    "def add_int_and_string(x, y):\n",
    "    try:\n",
    "        result = x + y\n",
    "        print(\"Sum:\", result)\n",
    "    except TypeError:\n",
    "        print(\"Error: Cannot add an integer and a string.\")\n",
    "\n",
    "# Example usage:\n",
    "integer_value = 5\n",
    "string_value = \"10\"\n",
    "\n",
    "add_int_and_string(integer_value, string_value)"
   ]
  },
  {
   "cell_type": "markdown",
   "metadata": {},
   "source": [
    "## NameError\n",
    "Using an undefined variable results in a `NameError`, \n",
    ">for example:"
   ]
  },
  {
   "cell_type": "code",
   "execution_count": null,
   "metadata": {},
   "outputs": [],
   "source": [
    "a = 10\n",
    "print(b)  # NameError: name 'b' is not defined"
   ]
  },
  {
   "cell_type": "markdown",
   "metadata": {},
   "source": [
    "This code will raise a `NameError` because the variable 'b' was not defined earlier in the program. \n",
    ">One way to handle this error is to use `try` and `except` blocks:"
   ]
  },
  {
   "cell_type": "code",
   "execution_count": null,
   "metadata": {},
   "outputs": [],
   "source": [
    "a = 10\n",
    "try:\n",
    "    print(b)\n",
    "except NameError:\n",
    "    print(\"Error: variable was not defined\")  # Error: variable was not defined"
   ]
  },
  {
   "cell_type": "markdown",
   "metadata": {},
   "source": [
    "# `Quick assignment 2: NameError Assignment`\n",
    "\n",
    "1. Write a program that tries to print a variable that has not been defined.\n",
    "1. Use a `try` and `except` block to catch the `NameError` and display a custom error message."
   ]
  },
  {
   "cell_type": "code",
   "execution_count": 20,
   "metadata": {},
   "outputs": [
    {
     "name": "stdout",
     "output_type": "stream",
     "text": [
      "Error: The variable 'undefined_variable' is not defined.\n"
     ]
    }
   ],
   "source": [
    "def print_undefined_variable():\n",
    "    try:\n",
    "        # Attempting to print an undefined variable\n",
    "        print(undefined_variable)\n",
    "    except NameError:\n",
    "        print(\"Error: The variable 'undefined_variable' is not defined.\")\n",
    "\n",
    "# Example usage:\n",
    "print_undefined_variable()"
   ]
  },
  {
   "cell_type": "markdown",
   "metadata": {},
   "source": [
    "## ValueError, ZeroDivisionError\n",
    "`ValueError` occurs when attempting to convert a value to the correct data type, but it cannot be done due to incorrect or invalid values,\n",
    "\n",
    ">for example:"
   ]
  },
  {
   "cell_type": "code",
   "execution_count": null,
   "metadata": {},
   "outputs": [],
   "source": [
    "try:\n",
    "    x = int('abc')\n",
    "except ValueError:\n",
    "    print(\"Error: cannot convert value to a number\")  # Error: cannot convert value to a number"
   ]
  },
  {
   "cell_type": "markdown",
   "metadata": {},
   "source": [
    "# `Quick assignment 3: ValueError Assignment`\n",
    "\n",
    "1. Develop a program that attempts to convert a non-numeric string to an integer (e.g., \"abc\" to int).\n",
    "1. Use a `try` and `except` block to handle the `ValueError` and print an error message."
   ]
  },
  {
   "cell_type": "code",
   "execution_count": 31,
   "metadata": {},
   "outputs": [
    {
     "name": "stdout",
     "output_type": "stream",
     "text": [
      "Error: Cannot convert 'abc' to an integer.\n"
     ]
    }
   ],
   "source": [
    "def convert_to_integer(value):\n",
    "    try:\n",
    "        # Attempting to convert the string to an integer\n",
    "        result = int(value)\n",
    "        print(\"Converted value:\", result)\n",
    "    except ValueError:\n",
    "        print(f\"Error: Cannot convert '{value}' to an integer.\")\n",
    "\n",
    "# Example usage:\n",
    "non_numeric_string = \"abc\"\n",
    "convert_to_integer(non_numeric_string)\n"
   ]
  },
  {
   "cell_type": "markdown",
   "metadata": {},
   "source": [
    "`ZeroDivisionError` is raised when attempting to divide a number by zero. This is an invalid mathematical operation, so it raises this error when you try to perform it. \n",
    "\n",
    ">For example:"
   ]
  },
  {
   "cell_type": "code",
   "execution_count": null,
   "metadata": {},
   "outputs": [],
   "source": [
    "try:\n",
    "    x = 1/0\n",
    "except ZeroDivisionError:\n",
    "    print(\"Error: cannot divide by zero\")  # Error: cannot divide by zero"
   ]
  },
  {
   "cell_type": "markdown",
   "metadata": {},
   "source": [
    "# `Quick assignment 4: ZeroDivisionError Assignment`\n",
    "\n",
    "1. Create a program that divides a number by zero (e.g., `1 / 0`).\n",
    "1. Use a `try` and `except` block to catch the `ZeroDivisionError` and display an error message."
   ]
  },
  {
   "cell_type": "code",
   "execution_count": 34,
   "metadata": {},
   "outputs": [
    {
     "name": "stdout",
     "output_type": "stream",
     "text": [
      "Error: Cannot divide by zero.\n"
     ]
    }
   ],
   "source": [
    "def divide_by_zero(number):\n",
    "    try:\n",
    "        # Attempting to divide the number by zero\n",
    "        result = number / 0\n",
    "        print(\"Result of division:\", result)\n",
    "    except ZeroDivisionError:\n",
    "        print(\"Error: Cannot divide by zero.\")\n",
    "\n",
    "# Example usage:\n",
    "number_to_divide = 5\n",
    "divide_by_zero(number_to_divide)"
   ]
  },
  {
   "cell_type": "markdown",
   "metadata": {},
   "source": [
    "## IndexError for Lists, KeyError for Dictionaries\n",
    "`IndexError` occurs when trying to access a list element that does not exist at the specified index, \n",
    "\n",
    ">for example:"
   ]
  },
  {
   "cell_type": "code",
   "execution_count": 35,
   "metadata": {},
   "outputs": [
    {
     "name": "stdout",
     "output_type": "stream",
     "text": [
      "Error: index exceeds the list's boundaries\n"
     ]
    }
   ],
   "source": [
    "my_list = [1, 2, 3]\n",
    "\n",
    "try:\n",
    "    print(my_list[3])\n",
    "except IndexError:\n",
    "    print(\"Error: index exceeds the list's boundaries\")  # Error: index exceeds the list's boundaries"
   ]
  },
  {
   "cell_type": "markdown",
   "metadata": {},
   "source": [
    "# `Quick assignment 5: IndexError Assignment`\n",
    "\n",
    "1. Write a program that tries to access an element in a list using an index that is out of range.\n",
    "1. Use a `try` and `except` block to handle the `IndexError` and print a custom error message."
   ]
  },
  {
   "cell_type": "code",
   "execution_count": 38,
   "metadata": {},
   "outputs": [
    {
     "name": "stdout",
     "output_type": "stream",
     "text": [
      "Error: Index 10 is out of range for the given list.\n"
     ]
    }
   ],
   "source": [
    "def access_list_element(my_list, index):\n",
    "    try:\n",
    "        # Attempting to access an element using the specified index\n",
    "        result = my_list[index]\n",
    "        print(\"Element at index\", index, \":\", result)\n",
    "    except IndexError:\n",
    "        print(f\"Error: Index {index} is out of range for the given list.\")\n",
    "\n",
    "# Example usage:\n",
    "my_list = [1, 2, 3, 4, 5]\n",
    "out_of_range_index = 10\n",
    "access_list_element(my_list, out_of_range_index)"
   ]
  },
  {
   "cell_type": "markdown",
   "metadata": {},
   "source": [
    "`KeyError` is raised when trying to access a dictionary key that does not exist, \n",
    "\n",
    ">for example:"
   ]
  },
  {
   "cell_type": "code",
   "execution_count": null,
   "metadata": {},
   "outputs": [],
   "source": [
    "my_dict = {\"a\": 1, \"b\": 2, \"c\": 3}\n",
    "\n",
    "try:\n",
    "    print(my_dict[\"d\"])\n",
    "except KeyError:\n",
    "    print(\"Error: key does not exist in the dictionary\")  # Error: key does not exist in the dictionary"
   ]
  },
  {
   "cell_type": "markdown",
   "metadata": {},
   "source": [
    "# `Quick assignment 6: KeyError Assignment`\n",
    "\n",
    "1. Develop a program that attempts to access a key in a dictionary that does not exist.\n",
    "1. Use a `try` and `except` block to catch the `KeyError` and display an error message."
   ]
  },
  {
   "cell_type": "code",
   "execution_count": 39,
   "metadata": {},
   "outputs": [
    {
     "name": "stdout",
     "output_type": "stream",
     "text": [
      "Error: Key 'gender' does not exist in the given dictionary.\n"
     ]
    }
   ],
   "source": [
    "def access_dictionary_key(my_dict, key):\n",
    "    try:\n",
    "        # Attempting to access the value associated with the specified key\n",
    "        result = my_dict[key]\n",
    "        print(\"Value for key\", key, \":\", result)\n",
    "    except KeyError:\n",
    "        print(f\"Error: Key '{key}' does not exist in the given dictionary.\")\n",
    "\n",
    "# Example usage:\n",
    "my_dictionary = {'name': 'John', 'age': 25, 'city': 'New York'}\n",
    "nonexistent_key = 'gender'\n",
    "access_dictionary_key(my_dictionary, nonexistent_key)"
   ]
  },
  {
   "cell_type": "markdown",
   "metadata": {},
   "source": [
    "## AttributeError for Objects\n",
    "`AttributeError` is raised when a program tries to access an attribute that does not exist in an object or class, \n",
    "\n",
    ">for example:"
   ]
  },
  {
   "cell_type": "code",
   "execution_count": null,
   "metadata": {},
   "outputs": [],
   "source": [
    "class Person:\n",
    "    def __init__(self, name, age):\n",
    "        self.name = name\n",
    "        self.age = age\n",
    "\n",
    "person = Person(\"John\", 25)\n",
    "print(person.name)  # \"John\"\n",
    "print(person.surname)  # AttributeError: 'Person' object has no attribute 'surname'"
   ]
  },
  {
   "cell_type": "markdown",
   "metadata": {},
   "source": [
    "To protect the program from `AttributeError` exceptions, you can use a `try`-`except` block:"
   ]
  },
  {
   "cell_type": "code",
   "execution_count": null,
   "metadata": {},
   "outputs": [],
   "source": [
    "try:\n",
    "    print(person.surname)\n",
    "except AttributeError:\n",
    "    print(\"Error: 'surname' attribute does not exist\")  # Error: 'surname' attribute does not exist"
   ]
  },
  {
   "cell_type": "markdown",
   "metadata": {},
   "source": [
    "# `Quick assignment 7: AttributeError Assignment`\n",
    "\n",
    "1. Create a `class` with some attributes and attempt to access an attribute that does not exist for an instance of that class.\n",
    "1. Use a `try` and `except` block to catch the `AttributeError` and print a custom error message."
   ]
  },
  {
   "cell_type": "code",
   "execution_count": null,
   "metadata": {},
   "outputs": [],
   "source": [
    "class MyClass:\n",
    "    def __init__(self, name, age):\n",
    "        self.name = name\n",
    "        self.age = age\n",
    "\n",
    "# Creating an instance of the class\n",
    "my_instance = MyClass(name='John', age=25)\n",
    "\n",
    "def access_attribute(instance):\n",
    "    try:\n",
    "        # Attempting to access a nonexistent attribute\n",
    "        result = instance.address\n",
    "        print(\"Address:\", result)\n",
    "    except AttributeError:\n",
    "        print(\"Error: 'address' attribute does not exist for the given instance.\")\n",
    "\n",
    "# Example usage:\n",
    "access_attribute(my_instance)"
   ]
  },
  {
   "cell_type": "markdown",
   "metadata": {},
   "source": [
    "## Using the `hasattr()` function for Checking Object Attributes"
   ]
  },
  {
   "cell_type": "markdown",
   "metadata": {},
   "source": [
    "The `hasattr()` function allows you to check whether an object has a specific attribute. It takes the object and attribute name as arguments and returns `True` if the attribute exists, and `False` if it does not. \n",
    "\n",
    ">For example:"
   ]
  },
  {
   "cell_type": "code",
   "execution_count": null,
   "metadata": {},
   "outputs": [],
   "source": [
    "if hasattr(person, 'surname'):\n",
    "    print(person.surname)\n",
    "else:\n",
    "    print(\"Error: 'surname' attribute does not exist\")  # Error: 'surname' attribute does not exist"
   ]
  },
  {
   "cell_type": "markdown",
   "metadata": {},
   "source": [
    "# `Quick assignment 8: hasattr() Assignment`\n",
    "\n",
    "1. Modify the previous program in \"quick assignment 7\" with the `AttributeError` to check if the attribute exists using the `hasattr()` function before accessing it. \n",
    "1. If it exists, print the attribute's value; otherwise, display an error message."
   ]
  },
  {
   "cell_type": "code",
   "execution_count": null,
   "metadata": {},
   "outputs": [],
   "source": [
    "class MyClass:\n",
    "    def __init__(self, name, age):\n",
    "        self.name = name\n",
    "        self.age = age\n",
    "\n",
    "# Creating an instance of the class\n",
    "my_instance = MyClass(name='John', age=25)\n",
    "\n",
    "def access_attribute(instance, attribute):\n",
    "    if hasattr(instance, attribute):\n",
    "        # Checking if the attribute exists\n",
    "        result = getattr(instance, attribute)\n",
    "        print(f\"{attribute.capitalize()}: {result}\")\n",
    "    else:\n",
    "        print(f\"Error: '{attribute}' attribute does not exist for the given instance.\")\n",
    "\n",
    "# Example usage:\n",
    "access_attribute(my_instance, 'address')"
   ]
  },
  {
   "cell_type": "markdown",
   "metadata": {},
   "source": [
    "## Using `Exception` as a Generic Exception Class and Getting the Exception Name with `__class__.__name__`"
   ]
  },
  {
   "cell_type": "markdown",
   "metadata": {},
   "source": [
    "`Exception` is a generic `try`-`except` block that catches exceptions of any type. \n",
    ">This is useful when you don't want to define each exception separately but want to catch them all in one block."
   ]
  },
  {
   "cell_type": "markdown",
   "metadata": {},
   "source": [
    "You can change the exception names using the `as` keyword to shorten a long error name to a shorter or more understandable name. \n",
    "\n",
    ">The specified variable can be used as an argument to print the error message:"
   ]
  },
  {
   "cell_type": "code",
   "execution_count": null,
   "metadata": {},
   "outputs": [],
   "source": [
    "try:\n",
    "    x = 1 / 0\n",
    "except Exception as e:\n",
    "    print(\"Exception:\", e)  # Exception: division by zero"
   ]
  },
  {
   "cell_type": "markdown",
   "metadata": {},
   "source": [
    "When an exception is raised, you can get the name of the exception class using `__class__.__name__`. \n",
    "\n",
    ">This allows you to identify exceptions more accurately and take appropriate actions based on the situation:"
   ]
  },
  {
   "cell_type": "code",
   "execution_count": null,
   "metadata": {},
   "outputs": [],
   "source": [
    "try:\n",
    "    x = 1 / 0\n",
    "except Exception as e:\n",
    "    print(\"Exception:\", e.__class__.__name__)  # Exception: ZeroDivisionError"
   ]
  },
  {
   "cell_type": "markdown",
   "metadata": {},
   "source": [
    "# `Quick assignment 9: Exception as a Generic Exception Class Assignment`\n",
    "\n",
    "1. Write a program that contains multiple types of exceptions, including those you've learned about (e.g., `ZeroDivisionError`, `ValueError`). \n",
    "2. Use a generic `try` and `except` block with `Exception as e` to catch all exceptions and print the exception type (class name) and a custom error message."
   ]
  },
  {
   "cell_type": "code",
   "execution_count": null,
   "metadata": {},
   "outputs": [],
   "source": [
    "def handle_exceptions():\n",
    "    try:\n",
    "        # Example 1: Division by zero\n",
    "        result1 = 1 / 0\n",
    "\n",
    "        # Example 2: Converting a non-numeric string to an integer\n",
    "        result2 = int(\"abc\")\n",
    "\n",
    "        # Example 3: Accessing an element in a list with an out-of-range index\n",
    "        my_list = [1, 2, 3]\n",
    "        result3 = my_list[10]\n",
    "\n",
    "    except Exception as e:\n",
    "        print(f\"Error: {type(e).__name__} - {str(e)}\")\n",
    "\n",
    "# Example usage:\n",
    "handle_exceptions()\n"
   ]
  }
 ],
 "metadata": {
  "kernelspec": {
   "display_name": "Python 3",
   "language": "python",
   "name": "python3"
  },
  "language_info": {
   "codemirror_mode": {
    "name": "ipython",
    "version": 3
   },
   "file_extension": ".py",
   "mimetype": "text/x-python",
   "name": "python",
   "nbconvert_exporter": "python",
   "pygments_lexer": "ipython3",
   "version": "3.12.1"
  }
 },
 "nbformat": 4,
 "nbformat_minor": 2
}
