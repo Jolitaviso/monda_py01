{
 "cells": [
  {
   "cell_type": "markdown",
   "metadata": {},
   "source": [
    "# Nebūtini argumentai su numatytomis reikšmėmis ir konkretaus argumento perdavimas\n",
    "\n",
    "Kuriant funkcijas, galima padidinti lankstumą naudojant numatytuosius argumentus su numatytomis reikšmėmis. Ši funkcija leidžia nustatyti numatytąsias reikšmes kai kuriems parametrams, kurie gali būti praleisti, kviečiant funkciją.\n",
    "\n",
    "Pažiūrėkime į šį pavyzdžį:"
   ]
  },
  {
   "cell_type": "code",
   "execution_count": 1,
   "metadata": {},
   "outputs": [],
   "source": [
    "def pasisveikinimas(vardas, pasisveikinimas=\"Labas\"):\n",
    "    print(pasisveikinimas + \", \" + vardas)"
   ]
  },
  {
   "cell_type": "markdown",
   "metadata": {},
   "source": [
    "- Šioje funkcijoje '`vardas`' yra privalomas argumentas, o '`pasisveikinimas`' yra pasirenkamas argumentas, turintis numatytąją reikšmę \"`Labas`\". \n",
    "- Kviesdami funkciją, galite pateikti reikšmes abiem argumentams arba tik privalomajam. "
   ]
  },
  {
   "cell_type": "code",
   "execution_count": 2,
   "metadata": {},
   "outputs": [
    {
     "name": "stdout",
     "output_type": "stream",
     "text": [
      "Sveiki, Jonas\n",
      "Labas, Ona\n"
     ]
    }
   ],
   "source": [
    "pasisveikinimas(\"Jonas\", \"Sveiki\")  # Rezultatas: Sveiki, Jonas\n",
    "pasisveikinimas(\"Ona\")              # Rezultatas: Labas, Ona"
   ]
  },
  {
   "cell_type": "markdown",
   "metadata": {},
   "source": [
    "Dabar apsvarstykime kitą pavyzdį, susijusį su funkcija, kuri apskaičiuoja prekės kainą:"
   ]
  },
  {
   "cell_type": "code",
   "execution_count": null,
   "metadata": {},
   "outputs": [],
   "source": [
    "def skaiciuoti_kaina(prekes_pavadinimas, kaina, nuolaida=0, mokestis=21):\n",
    "    kaina_su_nuolaida = kaina * (1 - nuolaida / 100)\n",
    "    kaina_su_mokesciu = kaina_su_nuolaida * (1 + mokestis / 100)\n",
    "    print(f\"{prekes_pavadinimas} - kaina su nuolaida ir mokesčiais: {kaina_su_mokesciu:.2f}€\")"
   ]
  },
  {
   "cell_type": "markdown",
   "metadata": {},
   "source": [
    "- Šioje funkcijoje '`prekes_pavadinimas`' ir '`kaina`' yra privalomi argumentai, o '`nuolaida`' ir '`mokestis`' yra pasirenkami argumentai su numatytosiomis reikšmėmis. \n",
    "- Jei nenurodysite reikšmių '`nuolaida`' ir '`mokestis`' funkcijos iškvietimo metu, bus naudojamos numatytosios reikšmės (`0` ir `21` atitinkamai). \n",
    "\n",
    "Pažiūrėkime, kaip tai veikia:"
   ]
  },
  {
   "cell_type": "code",
   "execution_count": null,
   "metadata": {},
   "outputs": [],
   "source": [
    "skaiciuoti_kaina(\"Obuolys\", 1.00, 10, 5)\n",
    "skaiciuoti_kaina(\"Avokadas\", 1.20, mokestis=10)\n",
    "skaiciuoti_kaina(\"Pienas\", 2)"
   ]
  },
  {
   "cell_type": "markdown",
   "metadata": {},
   "source": [
    "- Ši funkcija skaičiuoja prekės galutinę kainą, atsižvelgdama į nuolaidas ir mokesčius. \n",
    "- Pasirenkami parametrai '`nuolaida`' ir '`mokestis`' yra aprūpinti numatytosiomis reikšmėmis, suteikiant lankstumą vartotojams, kurie gali nenustatyti šių reikšmių iš anksto."
   ]
  },
  {
   "cell_type": "markdown",
   "metadata": {},
   "source": [
    "### Greita užduotis 1\n",
    "\n",
    "Sukurkite Python funkciją, kuri apskaičiuotų pristatymo išlaidas pagal atstumą, svorį ir kainą už kilogramą.\n",
    "\n",
    "Argumentai:\n",
    "\n",
    "`distance` (privaloma): Atstumas kilometrais.\n",
    "`weight` (neprivalomas, numatytasis 1 kg): Svoris kilogramais.\n",
    "`rate_per_kg` (neprivalomas, numatytasis 5 €/kg): Kaina už kilogramą pristatymui.\n",
    "\n",
    "1. Funkcijoje apskaičiuokite pristatymo išlaidas kaip `distance * weight * rate_per_kg`.\n",
    "1. Atspausdinkite apskaičiuotas pristatymo išlaidas suapvalintas iki dviejų skaitmenų po kablelio, naudodami f-tekstą. Pavyzdžiui: \"Pristatymo kaina: {pristatymo_kaina:.2f} €.\"\n",
    "1. Patikrinkite funkciją iškvieskite bent trijose skirtingose situacijose, tiek su, tiek be svorio ir rate_per_kg nurodymo."
   ]
  },
  {
   "cell_type": "code",
   "execution_count": 9,
   "metadata": {},
   "outputs": [
    {
     "name": "stdout",
     "output_type": "stream",
     "text": [
      "Shipping cost: 500.00 €.\n",
      "Shipping cost: 500 €.\n",
      "Shipping cost: 1000.00 €.\n",
      "Shipping cost: 1000 €.\n",
      "Shipping cost: 900.00 €.\n",
      "Shipping cost: 900 €.\n",
      "Shipping cost: 100.00 €.\n",
      "Shipping cost: 100 €.\n"
     ]
    }
   ],
   "source": [
    "def calculate_shipping_cost(distance, weight=1, rate_per_kg=5):\n",
    "    shipping_cost = distance * weight * rate_per_kg\n",
    "    print(f\"Shipping cost: {shipping_cost:.2f} €.\")\n",
    "    print(f\"Shipping cost: {shipping_cost:.4g} €.\")\n",
    "\n",
    "# Test Cases\n",
    "calculate_shipping_cost(100)               # Output: Shipping cost: 500.00 €.\n",
    "calculate_shipping_cost(100, 2)            # Output: Shipping cost: 1000.00 €.\n",
    "calculate_shipping_cost(150, rate_per_kg=6) # Output: Shipping cost: 900.00 €.\n",
    "calculate_shipping_cost(50, 0.5, 4)        # Output: Shipping cost: 100.00 €.\n"
   ]
  },
  {
   "cell_type": "markdown",
   "metadata": {},
   "source": [
    "---\n",
    "\n",
    "## Argumentų perdavimas pagal pavadinimą\n",
    "\n",
    "TODO: perrašyti pavyzdį ir QA2\n",
    "\n",
    "\n",
    "Argumentų perdavimas pagal pavadinimą reiškia nurodyti, kuri reikšmė eina į kurį argumentą, kviečiant funkciją.\n",
    "\n",
    "**Pavyzdys**:"
   ]
  },
  {
   "cell_type": "code",
   "execution_count": 10,
   "metadata": {},
   "outputs": [
    {
     "name": "stdout",
     "output_type": "stream",
     "text": [
      "0.6666666666666666\n"
     ]
    }
   ],
   "source": [
    "def calculate(operation, x, y):\n",
    "    if operation == \"add\":\n",
    "        return x + y\n",
    "    elif operation == \"subtract\":\n",
    "        return x - y\n",
    "    elif operation == \"multiply\":\n",
    "        return x * y\n",
    "    elif operation == \"divide\":\n",
    "        return x / y\n",
    "\n",
    "# Kviečiant calculate funkciją, išreikštinai pavadinkite argumentus\n",
    "result = calculate(x=2, y=3, operation=\"divide\")\n",
    "print(result)  # Rezultatas: 5"
   ]
  },
  {
   "cell_type": "markdown",
   "metadata": {},
   "source": [
    "- Šioje funkcijoje yra trys privalomi argumentai: `operation`, `x` ir `y`. \n",
    "- Kviečiant funkciją, galite nurodyti argumento `pavadinimą`, po to `==` ir priskirti norimą `reikšmę`, kurią norite perduoti funkcijai. \n",
    "- Tai užtikrina, kad kiekvienas argumentas būtų perduotas teisingai, išvengiant klaidų."
   ]
  },
  {
   "cell_type": "markdown",
   "metadata": {},
   "source": [
    "### Greita Užduotis 2\n",
    "\n",
    "Šios užduoties tikslas yra suprasti ir praktikuotis argumentų perdavimą pagal pavadinimą Python funkcijose.\n",
    "\n",
    "1. Sukurkite Python funkciją pavadinimu, kuri priima tris argumentus:\n",
    "\n",
    "- `operation` (neprivalomas \"add\"): matematinė operacija (\"`add`\" - sudėtis, \"`subtract`\" - atimtis, \"`multiply`\" - daugyba arba \"`divide`\" - dalyba).\n",
    "- `num1` (neprivalomas 2): Pirmas skaičius.\n",
    "- `num2` (neprivalomas 3): Antras skaičius.\n",
    "\n",
    "2. Funkcijoje vykdykite matematines operacijas, kurios nurodo \"`operation`\" argumentas, išsaugodami rezultatą kintamąjame.\n",
    "3. Atspausdinkite rezultatą su aprašančiu pranešimu. Pavyzdžiui, jei operation yra \"`add`\", pranešimas gali būti: \"sudėjus 2 ir 3 gausime 5.\"\n",
    "4. Patikrinkite funkciją su bent keturiais skirtingais kvietimais, nurodydami operaciją pagal pavadinimą.\n",
    "5. Patikrinkite funkciją nurodydami tik `num1` arba `num2`.\n",
    "6. Kas bus, jeigu funciją paleisite nenurodę jokių argumentų?\n",
    "\n",
    "```python\n",
    "\n",
    "# matematinės operacijos iššaukimo pavyzdys\n",
    "calculate(operation=\"add\", num1=2, num2=3)\n",
    "```"
   ]
  },
  {
   "cell_type": "code",
   "execution_count": 40,
   "metadata": {},
   "outputs": [
    {
     "name": "stdout",
     "output_type": "stream",
     "text": [
      "-1\n",
      "5\n",
      "0.6666666666666666\n",
      "6\n",
      "18\n",
      "13\n",
      "5\n"
     ]
    }
   ],
   "source": [
    "def calculate(operation = \"add\", num1=2, num2=3):\n",
    "    if operation == \"add\":\n",
    "        return num1 + num2\n",
    "    elif operation == \"subtract\":\n",
    "        return num1 - num2\n",
    "    elif operation == \"multiply\":\n",
    "        return num1 * num2\n",
    "    elif operation == \"divide\":\n",
    "        return num1 / num2\n",
    "\n",
    "# Kviečiant calculate funkciją, išreikštinai pavadinkite argumentus\n",
    "result = calculate(operation=\"subtract\")\n",
    "print(result)\n",
    "result = calculate(operation=\"add\")\n",
    "print(result)\n",
    "result = calculate(operation=\"divide\")\n",
    "print(result)\n",
    "result = calculate(operation=\"multiply\")\n",
    "print(result)\n",
    "result = calculate(operation=\"multiply\", num1=6)\n",
    "print(result)\n",
    "result = calculate(operation=\"add\", num1=6, num2=7)\n",
    "print(result)\n",
    "result = calculate()\n",
    "print(result)"
   ]
  },
  {
   "cell_type": "code",
   "execution_count": 41,
   "metadata": {},
   "outputs": [
    {
     "name": "stdout",
     "output_type": "stream",
     "text": [
      "The result of adding 2 and 3 is 5.\n",
      "The result of subtracting 4 from 10 is 6.\n",
      "The result of multiplying 5 and 7 is 35.\n",
      "The result of dividing 15 by 3 is 5.0.\n",
      "The result of adding 7 and 3 is 10.\n",
      "The result of adding 2 and 5 is 7.\n",
      "The result of adding 2 and 3 is 5.\n"
     ]
    }
   ],
   "source": [
    "def calculate(operation=\"add\", num1=2, num2=3):\n",
    "    if operation == \"add\":\n",
    "        result = num1 + num2\n",
    "        print(f\"The result of adding {num1} and {num2} is {result}.\")\n",
    "    elif operation == \"subtract\":\n",
    "        result = num1 - num2\n",
    "        print(f\"The result of subtracting {num2} from {num1} is {result}.\")\n",
    "    elif operation == \"multiply\":\n",
    "        result = num1 * num2\n",
    "        print(f\"The result of multiplying {num1} and {num2} is {result}.\")\n",
    "    elif operation == \"divide\":\n",
    "        if num2 != 0:\n",
    "            result = num1 / num2\n",
    "            print(f\"The result of dividing {num1} by {num2} is {result}.\")\n",
    "        else:\n",
    "            print(\"Error: Division by zero is not allowed.\")\n",
    "\n",
    "# Test Cases\n",
    "calculate(operation=\"add\", num1=2, num2=3)\n",
    "calculate(operation=\"subtract\", num1=10, num2=4)\n",
    "calculate(operation=\"multiply\", num1=5, num2=7)\n",
    "calculate(operation=\"divide\", num1=15, num2=3)\n",
    "calculate(num1=7)\n",
    "calculate(num2=5)\n",
    "calculate()"
   ]
  },
  {
   "cell_type": "markdown",
   "metadata": {},
   "source": [
    "## Papildoma užduotis\n",
    "\n",
    "Sukurti funkciją, grąžinančią asmeninę informacijos kortelės tekstą\n",
    "\n",
    "**Užduotis**: Šios užduoties tikslas yra sukurti Python funkciją, kuri sugeneruotų asmeninę informacijos kortelę su pasirinktais duomenimis.\n",
    "\n",
    "**Instrukcijos**:\n",
    "\n",
    "1. Sukurkite Python funkciją pavadinimu `generate_info_card`, kuri priima šiuos argumentus:\n",
    "\n",
    "- `name` (privaloma): Asmens `vardas`.\n",
    "- `age` (neprivalomas, numatytasis `25`): Asmens amžius.\n",
    "- `city` (neprivalomas, numatytasis \"`Unknown`\"): Asmens miestas.\n",
    "- `country` (neprivalomas, numatytasis \"`Unknown`\"): Asmens šalis.\n",
    "\n",
    "2. Funkcijoje naudokite pateiktus informacijos kortelę duomenis ir grąžinkite ją kaip tekstą.\n",
    "3. Atpausdinkite informacijos kortelę su suformatuotu pranešimu. Pavyzdžiui:\n",
    "\n",
    "```\n",
    "Asmens Kortelė:\n",
    "Vardas: John\n",
    "Amžius: 30\n",
    "Miestas: New York\n",
    "Šalis: USA\n",
    "```\n",
    "\n",
    "4. Patikrinkite funkciją su bent trimis skirtingais kvietimais, nurodydami kai kuriuos argumentus pagal pavadinimą, o kitus palikdami naudoti numatytąsias reikšmes.\n",
    "\n",
    "```python\n",
    "# iššaukimo pavyzdys\n",
    "generate_info_card(name=\"Alice\", age=28, city=\"London\", country=\"UK\")\n",
    "```"
   ]
  },
  {
   "cell_type": "code",
   "execution_count": 1,
   "metadata": {},
   "outputs": [
    {
     "name": "stdout",
     "output_type": "stream",
     "text": [
      "Information Card:\n",
      "Name: Alice\n",
      "Age: 28\n",
      "City: London\n",
      "Country: UK\n",
      "\n",
      "Information Card:\n",
      "Name: Bob\n",
      "Age: 35\n",
      "City: Unknown\n",
      "Country: Unknown\n",
      "\n",
      "Information Card:\n",
      "Name: Polka\n",
      "Age: 25\n",
      "City: Persimonas\n",
      "Country: Alitadienis\n",
      "\n",
      "Information Card:\n",
      "Name: Eve\n",
      "Age: 25\n",
      "City: Unknown\n",
      "Country: Canada\n",
      "\n",
      "Information Card:\n",
      "Name: John\n",
      "Age: 30\n",
      "City: New York\n",
      "Country: USA\n",
      "\n"
     ]
    }
   ],
   "source": [
    "def generate_info_card(name, age=25, city=\"Unknown\", country=\"Unknown\"):\n",
    "    info_card = f\"Information Card:\\nName: {name}\\nAge: {age}\\nCity: {city}\\nCountry: {country}\"\n",
    "    print(info_card + \"\\n\")\n",
    "\n",
    "# Test Cases\n",
    "generate_info_card(name=\"Alice\", age=28, city=\"London\", country=\"UK\")\n",
    "generate_info_card(name=\"Bob\", age=35)\n",
    "generate_info_card(name=\"Polka\", city=\"Persimonas\", country = \"Alitadienis\")\n",
    "generate_info_card(name=\"Eve\", country=\"Canada\")\n",
    "generate_info_card(name=\"John\", age=30, city=\"New York\", country=\"USA\")"
   ]
  }
 ],
 "metadata": {
  "kernelspec": {
   "display_name": "venv",
   "language": "python",
   "name": "python3"
  },
  "language_info": {
   "codemirror_mode": {
    "name": "ipython",
    "version": 3
   },
   "file_extension": ".py",
   "mimetype": "text/x-python",
   "name": "python",
   "nbconvert_exporter": "python",
   "pygments_lexer": "ipython3",
   "version": "3.12.1"
  }
 },
 "nbformat": 4,
 "nbformat_minor": 2
}
