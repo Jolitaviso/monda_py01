{
 "cells": [
  {
   "cell_type": "code",
   "execution_count": 2,
   "metadata": {},
   "outputs": [
    {
     "name": "stdout",
     "output_type": "stream",
     "text": [
      "Your favorite color is orange and your favorite number is 7.\n"
     ]
    }
   ],
   "source": [
    "# QA 1\n",
    "color = input(\"Your favorite color: \")\n",
    "number = input(\"Your favorite number: \")\n",
    "print(f\"Your favorite color is {color} and your favorite number is {number}.\")"
   ]
  },
  {
   "cell_type": "code",
   "execution_count": 3,
   "metadata": {},
   "outputs": [
    {
     "name": "stdout",
     "output_type": "stream",
     "text": [
      "Sum of your numbers is 3.0\n"
     ]
    }
   ],
   "source": [
    "# QA 2\n",
    "number1 = float(input(\"Give me a number: \"))\n",
    "number2 = float(input(\"Give me another number: \"))\n",
    "print(f\"Sum of your numbers is {number1 + number2}\")"
   ]
  }
 ],
 "metadata": {
  "kernelspec": {
   "display_name": "venv",
   "language": "python",
   "name": "python3"
  },
  "language_info": {
   "codemirror_mode": {
    "name": "ipython",
    "version": 3
   },
   "file_extension": ".py",
   "mimetype": "text/x-python",
   "name": "python",
   "nbconvert_exporter": "python",
   "pygments_lexer": "ipython3",
   "version": "3.12.1"
  },
  "orig_nbformat": 4
 },
 "nbformat": 4,
 "nbformat_minor": 2
}
