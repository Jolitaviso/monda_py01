{
 "cells": [
  {
   "cell_type": "markdown",
   "metadata": {},
   "source": [
    "# Pirmoji pilna Python programa"
   ]
  },
  {
   "cell_type": "markdown",
   "metadata": {},
   "source": [
    "Jau beveik žinote pakankamai, kad galėtumėte parašyti pilną programą. Liko tik vartotojo įvestis, ir kintamojo tipo konvertavimas. Dabar mes juos ir išmoksime."
   ]
  },
  {
   "cell_type": "markdown",
   "metadata": {},
   "source": [
    "---\n",
    "\n",
    "## Vartotojo ivestis Python kalboje"
   ]
  },
  {
   "cell_type": "markdown",
   "metadata": {},
   "source": [
    "`input()` Funkcija leidžia programai paklausti vartotojo įvesties, ir tada grąžina tą įvestį kaip eilutę (string). \n",
    "\n",
    "**Sintaksė**:\n",
    "```python\n",
    "input(užklausa)\n",
    "```\n",
    "- `užklausa` (neprivaloma): Eilutė, kuri reprezentuoja numatytąjį pranešimą prieš įvestį.\n",
    "\n",
    "**Pavizdys**: Jei paleisite kodą, jums bus paprašyta įvesti savo vardą. Pateikus įvestį ir paspaudus \"Enter\", programa pasveikins jus naudodama vardą, kurį įvedėte."
   ]
  },
  {
   "cell_type": "code",
   "execution_count": 3,
   "metadata": {},
   "outputs": [
    {
     "name": "stdout",
     "output_type": "stream",
     "text": [
      "Labas, Angele!\n"
     ]
    }
   ],
   "source": [
    "name = input(\"Prašome įvesti savo vardą: \")\n",
    "print(f\"Labas, {name}!\")"
   ]
  },
  {
   "cell_type": "markdown",
   "metadata": {},
   "source": [
    "### Greita užduotis 1\n",
    "\n",
    "Parašykite mažą programą, kuri:\n",
    "1. Paklausia vartotojo apie jų mėgstamiausią `spalvą`.\n",
    "2. Paklausia vartotojo `skaičiaus`.\n",
    "3. Atspausdina teiginį, sakydama, \"Tavo mėgstama spalva yra spalva ir tavo mėgstamas skaičius yra skaičius.\""
   ]
  },
  {
   "cell_type": "code",
   "execution_count": 9,
   "metadata": {},
   "outputs": [
    {
     "name": "stdout",
     "output_type": "stream",
     "text": [
      "Tavo mėgstama spalva yra ada ir tavo mėgstamas skaičius yra 8\n"
     ]
    }
   ],
   "source": [
    "spalva = input(\"Prašome įvesti mėgstamiausią spalva: \")\n",
    "skaičius =input (\"Prašome įvesti mėgstamiausią skaičius\")\n",
    "print(f\"Tavo mėgstama spalva yra {spalva} ir tavo mėgstamas skaičius yra {skaičius}\")"
   ]
  },
  {
   "cell_type": "markdown",
   "metadata": {},
   "source": [
    "---\n",
    "\n",
    "**Įvesties tipas**: `input()` Funkcija visada grąžina duomenis kaip testo eilutę (string). Jei norite naudoti šiuos duomenis kaip kitą tipą (pavyzdžiui, sveikąjį skaičių ar slankiojo kablelio skaičių), turėsite konvertuoti juos naudojant tipų keitimo funkcijas, pvz., int() arba float()."
   ]
  },
  {
   "cell_type": "code",
   "execution_count": 10,
   "metadata": {},
   "outputs": [
    {
     "name": "stdout",
     "output_type": "stream",
     "text": [
      "Po 10 metų jums bus 35 metų amžiaus.\n"
     ]
    }
   ],
   "source": [
    "amzius = input(\"Prašome įvesti savo amžių: \")\n",
    "amzius = int(amzius) # Konvertuoti eilutę į sveikąjį skaičių\n",
    "print(f\"Po 10 metų jums bus {amzius + 10} metų amžiaus.\")"
   ]
  },
  {
   "cell_type": "code",
   "execution_count": 7,
   "metadata": {},
   "outputs": [
    {
     "name": "stdout",
     "output_type": "stream",
     "text": [
      "Po 10 metų jums bus 30 metų amžiaus.\n"
     ]
    }
   ],
   "source": [
    "amzius = int(input(\"Prašome įvesti savo amžių: \"))\n",
    "print(f\"Po 10 metų jums bus {amzius + 10} metų amžiaus.\")"
   ]
  },
  {
   "cell_type": "code",
   "execution_count": 14,
   "metadata": {},
   "outputs": [
    {
     "name": "stdout",
     "output_type": "stream",
     "text": [
      "jus storas\n"
     ]
    }
   ],
   "source": [
    "svoris = float(input('iveskite savo svori:'))\n",
    "ugis = int(input('iveskite savo ugi centimetrais:'))\n",
    "if svoris / (ugis - 100) >= 1:\n",
    "    print(\"jus storas\")\n",
    "else:\n",
    "    print(\"galit valgyti\")"
   ]
  },
  {
   "cell_type": "markdown",
   "metadata": {},
   "source": [
    "**Saugumo rūpestis**: Būkite atsargūs naudojant `input()` funkciją, ypač jei ketinate naudoti įvestus duomenis bet kokiame kodo vykdyme ar duomenų bazės užklausose. Netinkamai tvarkant šiuos duomenis gali kilti kodo įterpimo atakos rizika."
   ]
  },
  {
   "cell_type": "markdown",
   "metadata": {},
   "source": [
    "### Greita užduotis 2\n",
    "\n",
    "Parašykite paprastą programą, kuri surenka vartotojo ivestį ir iš jos išveda rezultatą. Būkite kūrybingi!"
   ]
  },
  {
   "cell_type": "code",
   "execution_count": 17,
   "metadata": {},
   "outputs": [
    {
     "name": "stdout",
     "output_type": "stream",
     "text": [
      "Po dietos jūs sversite 33.5 kg.\n"
     ]
    }
   ],
   "source": [
    "svoris= input(\"Prašome įvesti savo svorį: \")\n",
    "svoris = int(svoris) \n",
    "print(f\"Po dietos jūs sversite {svoris - 16.5} kg.\")"
   ]
  },
  {
   "cell_type": "code",
   "execution_count": 20,
   "metadata": {},
   "outputs": [
    {
     "name": "stdout",
     "output_type": "stream",
     "text": [
      "Po dietos jūs sversite -1.5 kg.\n"
     ]
    }
   ],
   "source": [
    "svoris= float (input (\"Prašome įvesti savo svorį: \"))\n",
    "svoris = int(svoris) \n",
    "print(f\"Po dietos jūs sversite {svoris - 16.5} kg.\")"
   ]
  },
  {
   "cell_type": "code",
   "execution_count": 27,
   "metadata": {},
   "outputs": [
    {
     "name": "stdout",
     "output_type": "stream",
     "text": [
      "jus storas\n"
     ]
    }
   ],
   "source": [
    "svorisv= float (input('įveskite savo svorį'))\n",
    "ūgis = int (input(\"įveskite ūgį\"))\n",
    "ar_storas = svoris // (ūgis - 100)\n",
    "if ar_storas:\n",
    "    print(\"jus storas\")\n",
    "else:\n",
    "    print(\"galite valgyt\")"
   ]
  },
  {
   "cell_type": "markdown",
   "metadata": {},
   "source": [
    "---\n",
    "\n",
    "## Išvada"
   ]
  },
  {
   "cell_type": "markdown",
   "metadata": {},
   "source": [
    "`input()` Funkcija yra esminė, norint padaryti savo Python programą interaktyvia. Tai užpildo spragą tarp vartotojo ir mašinos, leidžiant dinamiškiems programos veiksmams pagrįsti vartotojo įvestimi. Taigi dabar jūs turite galimybę parašyti paprastą programą, kuri paprašo vartotojo įvesties ir atlieka sąveiką su įvestimi. Taigi tai puikus momentas pradėti kurti kodą. Būkite kūrybingi."
   ]
  },
  {
   "cell_type": "markdown",
   "metadata": {},
   "source": [
    "---\n",
    "\n",
    "## Užduotis 1"
   ]
  },
  {
   "cell_type": "markdown",
   "metadata": {},
   "source": [
    "Parašykite pilna Python programa (`skaičiuotuvas.py`) - paprastas python skaičiuotuvas kuris:\n",
    "- paklausia vartotojo, kokį veiksmą jis planuoja atlikti\n",
    "- surenka du skaičius\n",
    "- atlieka pasirinkta operaciją su ivestai dviem skaičiais. Nepamirškite konvertuoti ivesties reikiama tipa.\n",
    "Rekomenduojama naudoti `if ... elif ... else` logika operaciju patikrinimui."
   ]
  },
  {
   "cell_type": "code",
   "execution_count": 7,
   "metadata": {},
   "outputs": [
    {
     "name": "stdout",
     "output_type": "stream",
     "text": [
      "Pasirinkite veiksmą:\n",
      "1. Sudėtis\n",
      "2. Atimtis\n",
      "3. Daugyba\n",
      "4. Dalyba\n",
      "Suma: 145.0\n"
     ]
    }
   ],
   "source": [
    "def skaiciuotuvas():\n",
    "    print(\"Pasirinkite veiksmą:\")\n",
    "    print(\"1. Sudėtis\")\n",
    "    print(\"2. Atimtis\")\n",
    "    print(\"3. Daugyba\")\n",
    "    print(\"4. Dalyba\")\n",
    "    \n",
    "    choice = input(\"Įveskite pasirinkimą (1/2/3/4): \")\n",
    "\n",
    "    # Įveskite du skaičius\n",
    "    num1 = float(input(\"Įveskite pirmą skaičių: \"))\n",
    "    num2 = float(input(\"Įveskite antrą skaičių: \"))\n",
    "\n",
    "    # Atlikite veiksmą, atsižvelgiant į pasirinkimą\n",
    "    if choice == '1':\n",
    "        result = num1 + num2\n",
    "        print(\"Suma:\", result)\n",
    "    elif choice == '2':\n",
    "        result = num1 - num2\n",
    "        print(\"Skirtumas:\", result)\n",
    "    elif choice == '3':\n",
    "        result = num1 * num2\n",
    "        print(\"Sandauga:\", result)\n",
    "    elif choice == '4':\n",
    "        # Patikriname, ar dalyba iš nulio\n",
    "        if num2 != 0:\n",
    "            result = num1 / num2\n",
    "            print(\"Dalmuo:\", result)\n",
    "        else:\n",
    "            print(\"Dalyba iš nulio negalima!\")\n",
    "    else:\n",
    "        print(\"Neteisingas pasirinkimas\")\n",
    "\n",
    "# Paleiskite funkciją\n",
    "skaiciuotuvas()"
   ]
  },
  {
   "cell_type": "code",
   "execution_count": 5,
   "metadata": {},
   "outputs": [
    {
     "name": "stdout",
     "output_type": "stream",
     "text": [
      "Neteisingas veiksmas arba įvyko klaida!\n"
     ]
    }
   ],
   "source": [
    "# Paprastesnis skaiciuotuvo variantas su eval()\n",
    "\n",
    "# Įvedimas: 2 + 3\n",
    "# Rezultatas: 5\n",
    "expression = input(\"Įveskite matematinį veiksmą: (pvz.: 5+3)\")\n",
    "\n",
    "try:\n",
    "    result = eval(expression)\n",
    "    print(\"Rezultatas:\", result)\n",
    "except:\n",
    "    print(\"Neteisingas veiksmas arba įvyko klaida!\")"
   ]
  },
  {
   "cell_type": "code",
   "execution_count": 26,
   "metadata": {},
   "outputs": [
    {
     "ename": "ValueError",
     "evalue": "could not convert string to float: 'j'",
     "output_type": "error",
     "traceback": [
      "\u001b[1;31m---------------------------------------------------------------------------\u001b[0m",
      "\u001b[1;31mValueError\u001b[0m                                Traceback (most recent call last)",
      "Cell \u001b[1;32mIn[26], line 2\u001b[0m\n\u001b[0;32m      1\u001b[0m veiksmas\u001b[38;5;241m=\u001b[39m\u001b[38;5;28minput\u001b[39m(\u001b[38;5;124m\"\u001b[39m\u001b[38;5;124mKokį veiksmą norėtumėte atlikti? +, -\u001b[39m\u001b[38;5;124m\"\u001b[39m)\n\u001b[1;32m----> 2\u001b[0m skaičius1 \u001b[38;5;241m=\u001b[39m \u001b[38;5;28;43mfloat\u001b[39;49m\u001b[43m(\u001b[49m\u001b[38;5;28;43minput\u001b[39;49m\u001b[43m(\u001b[49m\u001b[38;5;124;43m\"\u001b[39;49m\u001b[38;5;124;43mPrašome įvesti pirmą skaičių: \u001b[39;49m\u001b[38;5;124;43m\"\u001b[39;49m\u001b[43m)\u001b[49m\u001b[43m)\u001b[49m\n\u001b[0;32m      3\u001b[0m skaičius2 \u001b[38;5;241m=\u001b[39m \u001b[38;5;28mfloat\u001b[39m(\u001b[38;5;28minput\u001b[39m(\u001b[38;5;124m\"\u001b[39m\u001b[38;5;124mPrašome įvesti antrą skaičių: \u001b[39m\u001b[38;5;124m\"\u001b[39m))\n\u001b[0;32m      4\u001b[0m \u001b[38;5;28;01mif\u001b[39;00m veiksmas \u001b[38;5;241m==\u001b[39m \u001b[38;5;124m\"\u001b[39m\u001b[38;5;124m+\u001b[39m\u001b[38;5;124m\"\u001b[39m:\n",
      "\u001b[1;31mValueError\u001b[0m: could not convert string to float: 'j'"
     ]
    }
   ],
   "source": [
    "veiksmas=input(\"Kokį veiksmą norėtumėte atlikti? +, -\")\n",
    "skaičius1 = float(input(\"Prašome įvesti pirmą skaičių: \"))\n",
    "skaičius2 = float(input(\"Prašome įvesti antrą skaičių: \"))\n",
    "if veiksmas == \"+\":\n",
    "    rezultatas = skaičius1 + skaičius2\n",
    "    print(\"Suma:\", rezultatas)\n",
    "elif veiksmas == \"-\":\n",
    "    rezultatas = skaičius1 - skaičius2\n",
    "    print(\"Skirtumas:\", rezultatas)\n",
    "else:\n",
    "    print(\"Neteisingas pasirinkimas\")\n"
   ]
  },
  {
   "cell_type": "markdown",
   "metadata": {},
   "source": [
    "## Užduotis 2\n",
    "\n",
    "Galite bandyti įvykdyti aukščiau pateiktą užduotį naudodami vieną įvestį ir perduoti ją funkcijai eval() ir išspausdinti rezultatą.\n",
    "Tačiau tokia programa nebūtų saugi, nes vartotojas galėtų vykdyti nepageidaujamą Python kodą, o ne tik paprastą matematikos operaciją.\n",
    "Paeksperimentuokite."
   ]
  },
  {
   "cell_type": "code",
   "execution_count": null,
   "metadata": {},
   "outputs": [],
   "source": []
  },
  {
   "cell_type": "markdown",
   "metadata": {},
   "source": [
    "## Užduotis 3\n",
    "\n",
    "Parašykite programa, kuri surenka vartotojo ivestį ir iš jos išveda rezultatą. Būkite kūrybingi!"
   ]
  }
 ],
 "metadata": {
  "kernelspec": {
   "display_name": "venv",
   "language": "python",
   "name": "python3"
  },
  "language_info": {
   "codemirror_mode": {
    "name": "ipython",
    "version": 3
   },
   "file_extension": ".py",
   "mimetype": "text/x-python",
   "name": "python",
   "nbconvert_exporter": "python",
   "pygments_lexer": "ipython3",
   "version": "3.12.1"
  },
  "orig_nbformat": 4
 },
 "nbformat": 4,
 "nbformat_minor": 2
}
