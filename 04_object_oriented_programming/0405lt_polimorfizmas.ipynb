{
 "cells": [
  {
   "cell_type": "markdown",
   "metadata": {},
   "source": [
    "# Polimorfizmas\n",
    "Polimorfizmas yra vienas iš objektiškai orientuoto programavimo principų. Jis suteikia galimybę naudoti tą pačią funkciją ar metodą su įvairių tipų objektais. Tai reiškia, kad skirtingų tipų ar skirtingai įgyvendinti objektai gali būti naudojami vienodai.\n",
    "\n",
    "Polimorfizmas prisideda prie programos lankstumo, naudojimo patogumo ir kodų aiškumo, nes programuotojui lengviau pritaikyti kodą ateičiai galimiems pakeitimams."
   ]
  },
  {
   "cell_type": "markdown",
   "metadata": {},
   "source": [
    "--- \n",
    "## Metodo perrašymas\n",
    "Metodo perrašymas yra galimybė perrašyti tėvinių klasės metodą paveldėtoje klasėje ir suteikti jam naują implementaciją. Tai yra galima dėl to, kad paveldėtoje klasėje jau yra aprašytas tėvinės klasės metodas su tokiu pat pavadinimu.\n",
    "\n",
    "Metodų perrašymas leidžia mums kurti specializuotas klases, kurios gali modifikuoti ar papildyti tėvinės klasės funkcionalumą, nekeičiant paties tėvinės klasės kodo. Be to, metodas paveldėtoje klasėje gali turėti papildomus argumentus, kurių gali nebūti tėvinėje klasėje."
   ]
  },
  {
   "cell_type": "code",
   "execution_count": 2,
   "metadata": {},
   "outputs": [],
   "source": [
    "class Automobilis:\n",
    "    def __init__(self, marke, modelis, spalva='bespalvis'):\n",
    "        self.marke = marke\n",
    "        self.modelis = modelis\n",
    "        self.spalva = spalva\n",
    "\n",
    "    def greitis(self):\n",
    "        print('Šis automobilis važiuoja leistinu greičiu')\n",
    "\n",
    "\n",
    "class SportinisAutomobilis(Automobilis):\n",
    "    def greitis(self):\n",
    "        print('Šis automobilis gali važiuoti iki 300 km/h')\n",
    "\n",
    "\n",
    "class IstorinisAutomobilis(Automobilis):\n",
    "    def greitis(self):\n",
    "        print('Šis automobilis gali važiuoti iki 100 km/h')\n",
    "\n",
    "\n",
    "def informacija(automobilis):\n",
    "    automobilis.greitis()"
   ]
  },
  {
   "cell_type": "markdown",
   "metadata": {},
   "source": [
    "Iškvietę sukurtą funkciją su skirtingoms klasės priklausančiais objektais, gausime skirtingą rezultatą:"
   ]
  },
  {
   "cell_type": "code",
   "execution_count": 3,
   "metadata": {},
   "outputs": [
    {
     "name": "stdout",
     "output_type": "stream",
     "text": [
      "Šis automobilis gali važiuoti iki 300 km/h\n",
      "Šis automobilis gali važiuoti iki 100 km/h\n",
      "Šis automobilis važiuoja leistinu greičiu\n"
     ]
    }
   ],
   "source": [
    "ferrari = SportinisAutomobilis('Ferrari', '458 Italia')\n",
    "ford = IstorinisAutomobilis('Ford', 'Model T')\n",
    "audi = Automobilis(\"Audi\", \"A4\")\n",
    "\n",
    "informacija(ferrari) # Šis automobilis gali važiuoti iki 300 km/h\n",
    "informacija(ford) # Šis automobilis gali važiuoti iki 100 km/h\n",
    "informacija(audi) # Šis automobilis važiuoja leistinu greičiu"
   ]
  },
  {
   "cell_type": "markdown",
   "metadata": {},
   "source": [
    "### Užduotis 1: Metodo Perrašymas\n",
    "\n",
    "1. Sukurkite Python programą, kuri apibrėžtų bazinę klasę `Animal` su metodu `make_sound()`.\n",
    "1. Tada sukurkite dvi išvestines klases, `Dog` ir `Cat`, kurios paveldėtų iš `Animal` klasės.\n",
    "1. Perrašykite metodą `make_sound()` abiejose išvestinėse klasėse taip, kad šuo lotų ir katė miauktų, atitinkamai.\n",
    "1. Galiausiai, sukurkite `Dog` ir `Cat` klasių objektus ir iškvieskite jų metodus `make_sound()`."
   ]
  },
  {
   "cell_type": "code",
   "execution_count": 36,
   "metadata": {},
   "outputs": [
    {
     "name": "stdout",
     "output_type": "stream",
     "text": [
      "miau miau\n",
      "au au\n",
      "miau miau\n",
      "Snaigė None\n",
      "au au\n",
      "Wintis None\n"
     ]
    }
   ],
   "source": [
    "class Animal:\n",
    "    def __init__(self, name):\n",
    "        self.name = name\n",
    "    \n",
    "    def make_sound(self):\n",
    "        print(\"Visi gyvūnai skleidžia garsą\")\n",
    "        \n",
    "    \n",
    "class Dog (Animal):\n",
    "    def make_sound(self):\n",
    "        print(\"au au\")\n",
    "             \n",
    "class Cat (Animal):\n",
    "    def make_sound(self):\n",
    "        print(\"miau miau\")\n",
    "                \n",
    "def information(animal):\n",
    "    animal.make_sound()\n",
    "    \n",
    "snaige = Cat(\"Snaigė\")\n",
    "wintis = Dog(\"Wintis\")\n",
    "\n",
    "# information(snaige)\n",
    "# information(wintis)\n",
    "\n",
    "snaige.make_sound() \n",
    "wintis.make_sound()\n",
    "\n",
    "print(snaige.name, snaige.make_sound())\n",
    "print(wintis.name, wintis.make_sound())\n",
    "\n"
   ]
  },
  {
   "cell_type": "markdown",
   "metadata": {},
   "source": [
    "---\n",
    "## Paveldėto metodo iškvietimas\n",
    "Kai norite panaudoti paveldėtus tėvinės klasės metodus ir savybes, tačiau tuo pat metu norite pakeisti jų veikimą naudojama `super()` funkcija. Tai leidžia mums išlaikyti tėvinės klasės funkcionalumą, tuo pat metu pridedant savo papildomą funkcionalumą. Pavyzdys.:"
   ]
  },
  {
   "cell_type": "code",
   "execution_count": 37,
   "metadata": {},
   "outputs": [],
   "source": [
    "class TransportoPriemone:\n",
    "    marke = ''\n",
    "    modelis = ''\n",
    "\n",
    "    def greitis(self):\n",
    "        print('juda')\n",
    "\n",
    "\n",
    "class Automobilis(TransportoPriemone):\n",
    "    def __init__(self, marke, modelis):\n",
    "        self.marke = marke\n",
    "        self.modelis = modelis\n",
    "\n",
    "    def greitis(self):\n",
    "        print('Šis automobilis važiuoja leistinu greičiu')\n",
    "        super().greitis()\n",
    "\n",
    "    def car_info(self):\n",
    "        print(self.marke, self.modelis)\n",
    "\n",
    "\n",
    "class SportinisAutomobilis(Automobilis):\n",
    "    def greitis(self):\n",
    "        super().greitis()\n",
    "        print('Šis automobilis gali važiuoti iki 300 km/h')\n",
    "\n",
    "    def car_info(self):\n",
    "        super().car_info()\n",
    "        super().greitis()\n",
    "        print(\"su blizguciais\")\n"
   ]
  },
  {
   "cell_type": "markdown",
   "metadata": {},
   "source": [
    "Iškvietę sukurtą funkciją su objektu, kuris paveldi tėvinės klasės metodą, gausime toki rezultatą:"
   ]
  },
  {
   "cell_type": "code",
   "execution_count": 39,
   "metadata": {},
   "outputs": [
    {
     "name": "stdout",
     "output_type": "stream",
     "text": [
      "Šis automobilis važiuoja leistinu greičiu\n",
      "Šis automobilis gali važiuoti iki 300 km/h\n"
     ]
    }
   ],
   "source": [
    "ferrari = SportinisAutomobilis('Ferrari', '458 Italia')\n",
    "\n",
    "ferrari.greitis()   # Šis automobilis važiuoja leistinu greičiu\n",
    "                    # Šis automobilis gali važiuoti iki 300 km/h\n",
    "\n",
    "# ferrari.car_info()"
   ]
  },
  {
   "cell_type": "markdown",
   "metadata": {},
   "source": [
    "### Antra užduotis: Darbuotojo informacija\n",
    "\n",
    "1. Sukurkite `darbuotojų` klasę su savybėmis `vardas`, `pavarde` ir `atlyginimas`, kuri turėtų metodą atspausdinantį darbuotojo informaciją.\n",
    "1. Sukurkite `administratoriaus` klasę, kuri paveldėtų savybes iš darbuotojo klasės.\n",
    "1. Sukurkite `vadovo` klasę, kuri paveldėtų savybes iš darbuotojo klasės ir turėtų papildomą savybę \"`premija`\" bei metodą, kuris atspausdins papildytą darbuotojo informaciją.\n",
    "1. Sukurkite kelis kiekvienos klasės objektus ir iškvieskite informacijos spausdinimo metodą."
   ]
  },
  {
   "cell_type": "code",
   "execution_count": 53,
   "metadata": {},
   "outputs": [
    {
     "name": "stdout",
     "output_type": "stream",
     "text": [
      " \n",
      "Jonas Jonaitis, atlyginimas: 1000 € \n",
      " \n",
      "Petras Petraitis, atlyginimas: 1200 € \n",
      " \n",
      "Juozas Juozaitis, atlyginimas: 900 € \n",
      " \n",
      "Antanas Antanaitis, atlyginimas: 1100 € \n",
      "Premija: 500 + 120 = 620 € (bendra premija)\n",
      " \n",
      "Jolita Pakulnytė, atlyginimas: 1100 € \n",
      "Premija: 10 + 120 = 130 € (bendra premija)\n"
     ]
    }
   ],
   "source": [
    "class Darbuotojas:\n",
    "    def __init__(self, vardas, pavarde, atlyginimas=1000):\n",
    "        self.vardas = vardas\n",
    "        self.pavarde = pavarde\n",
    "        self.atlyginimas = atlyginimas\n",
    "        \n",
    "    def info(self):\n",
    "        print(f' \\n{self.vardas} {self.pavarde}, atlyginimas: {self.atlyginimas} € ')    \n",
    "  \n",
    "        \n",
    "class Administratorius(Darbuotojas):\n",
    "    pass\n",
    "\n",
    "\n",
    "class Vadovas(Darbuotojas):\n",
    "    def __init__(self, vardas, pavarde, atlyginimas=1100, premija=120):\n",
    "        super().__init__(vardas, pavarde, atlyginimas)\n",
    "        self.premija = premija\n",
    "    \n",
    "    def info(self):\n",
    "        super().info()\n",
    "        print(f'Premija: {self.premija} + 120 = {self.premija + 120} € (bendra premija)')\n",
    "        \n",
    "                 \n",
    "darbuotojas1 = Darbuotojas('Jonas', 'Jonaitis')\n",
    "darbuotojas2 = Darbuotojas('Petras', 'Petraitis', 1200)\n",
    "darbuotojas3 = Administratorius('Juozas', 'Juozaitis', 900)\n",
    "vadovas1 = Vadovas('Antanas', 'Antanaitis', premija=500)\n",
    "vadovas2 = Vadovas('Jolita', 'Pakulnytė', premija=10)\n",
    "\n",
    "darbuotojai = [darbuotojas1, darbuotojas2, darbuotojas3, vadovas1, vadovas2]\n",
    "\n",
    "for darbuotojas in darbuotojai:\n",
    "    darbuotojas.info()           "
   ]
  }
 ],
 "metadata": {
  "kernelspec": {
   "display_name": "venv",
   "language": "python",
   "name": "python3"
  },
  "language_info": {
   "codemirror_mode": {
    "name": "ipython",
    "version": 3
   },
   "file_extension": ".py",
   "mimetype": "text/x-python",
   "name": "python",
   "nbconvert_exporter": "python",
   "pygments_lexer": "ipython3",
   "version": "3.12.1"
  }
 },
 "nbformat": 4,
 "nbformat_minor": 2
}
