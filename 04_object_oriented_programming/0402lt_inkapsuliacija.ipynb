{
 "cells": [
  {
   "cell_type": "markdown",
   "metadata": {},
   "source": [
    "# Inkapsuliacija\n",
    "\n",
    "`Inkapsuliacija` yra objektinio programavimo konceptas, kuris apjungia duomenis ir metodus juos apdorojant į vieną vienetą – klasę. Ji padeda apsaugoti objekto būseną nuo netinkamo prieinamumo ar modifikacijos iš išorės. `Inkapsuliacija` leidžia programuotojams sukurti sąsają, per kurią galima saugiai bendrauti su objekto duomenimis. Tai įgalina duomenų ir metodų paslėpimą, užtikrindama, kad objekto naudojimas būtų atliekamas kaip numatyta. Dėl šios savybės kodo priežiūra tampa lengvesnė ir galima išvengti netikėtų klaidų."
   ]
  },
  {
   "cell_type": "markdown",
   "metadata": {},
   "source": [
    "---\n",
    "\n",
    "## Privatūs Atributai\n",
    "\n",
    "`Privatūs atributai` yra klasės komponentai, kurie negali būti tiesiogiai prieinami iš klasės išorės. Tai reiškia, kad juos galima pakeisti arba skaityti tik per klasės metodus. Python kalboje, privatūs kintamieji paprastai sukuriami pridedant `du pabrauktukus` prieš kintamojo pavadinimą (pvz., `__spalva`).\n",
    "\n",
    "Pavyzdžiui:"
   ]
  },
  {
   "cell_type": "code",
   "execution_count": 6,
   "metadata": {},
   "outputs": [],
   "source": [
    "class Automobilis:\n",
    "    def __init__(self, marke, modelis, metai=2023, spalva='pilka'):\n",
    "        self.marke = marke\n",
    "        self.modelis = modelis\n",
    "        self.__metai = metai\n",
    "        self.__spalva = spalva\n",
    "\n",
    "    def gauti_metus(self):\n",
    "        return self.__metai\n",
    "\n",
    "    def gauti_spalva(self):\n",
    "        return self.__spalva"
   ]
  },
  {
   "cell_type": "code",
   "execution_count": 7,
   "metadata": {},
   "outputs": [
    {
     "name": "stdout",
     "output_type": "stream",
     "text": [
      "Mercedes\n",
      "C-Class\n",
      "2023\n",
      "pilka\n"
     ]
    }
   ],
   "source": [
    "mersas = Automobilis('Mercedes', 'C-Class')\n",
    "\n",
    "print(mersas.marke)  # Mercedes\n",
    "print(mersas.modelis)  # C-Class\n",
    "print(mersas.gauti_metus())  # 2023\n",
    "print(mersas.gauti_spalva())  # pilka"
   ]
  },
  {
   "cell_type": "code",
   "execution_count": 10,
   "metadata": {},
   "outputs": [
    {
     "name": "stdout",
     "output_type": "stream",
     "text": [
      "Mersas C-Class pilka\n"
     ]
    }
   ],
   "source": [
    "mersas.marke = \"Mersas\"\n",
    "mersas.__spalva = \"juodas\"\n",
    "print(mersas.marke, mersas.modelis, mersas.gauti_spalva())"
   ]
  },
  {
   "cell_type": "markdown",
   "metadata": {},
   "source": [
    "Tai demonstruoja \n",
    "- `Automobilis` klasės objekto su konkrečiais atributais sukūrimą, \n",
    "- Atributų gavimą naudojant gavimo metodus "
   ]
  },
  {
   "cell_type": "markdown",
   "metadata": {},
   "source": [
    "### Greita užduotis 1: Automobilio Klasės Papildymas\n",
    "\n",
    "- Pridėti privačią savybę `__rida`, kuri saugotų automobilio nuvažiuotus kilometrus. Pradinė `__rida` reikšmė turėtų būti 0.\n",
    "- Sukurti metodą `vaziuoti(kilometrai)`, kuris pridėtų argumente nurodytą kilometrų skaičių prie automobilio ridos ir atspausdintų pranešimą apie tai.\n",
    "- Sukurti metodą `gauti_rida()`, kuris grąžintų automobilio bendrą nuvažiuotų kilometrų skaičių."
   ]
  },
  {
   "cell_type": "code",
   "execution_count": 22,
   "metadata": {},
   "outputs": [
    {
     "name": "stdout",
     "output_type": "stream",
     "text": [
      "Automobilis Audi A4 nuvažiavo 100 km. Bendra rida: 100 km\n",
      "Automobilis Audi A4 nuvažiavo 70 km. Bendra rida: 170 km\n",
      "Bendra automobilio rida: 170 km\n"
     ]
    }
   ],
   "source": [
    "class Automobilis:\n",
    "    def __init__(self, marke, modelis, metai):\n",
    "        self.marke = marke\n",
    "        self.modelis = modelis\n",
    "        self.metai = metai\n",
    "        self.__rida = 0  # Pridėta privati savybė __rida su pradine reikšme 0\n",
    "\n",
    "    def vaziuoti(self, kilometrai):\n",
    "        self.__rida += kilometrai  # Pridedami nuvažiuoti kilometrai\n",
    "        print(f\"Automobilis {self.marke} {self.modelis} nuvažiavo {kilometrai} km. Bendra rida: {self.__rida} km\")\n",
    "\n",
    "    def gauti_rida(self):\n",
    "        return self.__rida  # Grąžinama automobilio rida\n",
    "\n",
    "# Sukuriam naują automobilį\n",
    "automobilis = Automobilis(\"Audi\", \"A4\", 2018)\n",
    "\n",
    "# Išbandome naujas funkcijas\n",
    "automobilis.vaziuoti(100)\n",
    "automobilis.vaziuoti(70)\n",
    "\n",
    "print(f\"Bendra automobilio rida: {automobilis.gauti_rida()} km\")"
   ]
  },
  {
   "cell_type": "code",
   "execution_count": 32,
   "metadata": {},
   "outputs": [
    {
     "name": "stdout",
     "output_type": "stream",
     "text": [
      "Automobilis Audi A4 nuvažiavo 20 km.\n",
      "Automobilis Audi A4 nuvažiavo 80 km.\n",
      "Bendra Audi A4 rida: 155 km.\n"
     ]
    }
   ],
   "source": [
    "class Automobilis: \n",
    "    def __init__(self, marke, modelis, metai=2023, spalva='pilka', rida = 55 ): \n",
    "        self.marke = marke \n",
    "        self.modelis = modelis \n",
    "        self.metai = metai \n",
    "        self.spalva = spalva \n",
    "        self.__rida = rida\n",
    "\n",
    "    def vaziuoti(self, kilometrai):\n",
    "        self.__rida += kilometrai\n",
    "        print(f\"Automobilis {self.marke} {self.modelis} nuvažiavo {kilometrai} km.\")\n",
    "\n",
    "    def gauti_rida(self):\n",
    "        return self.__rida\n",
    "    \n",
    "ketvirtas_automobilis = Automobilis('Audi', 'A4') \n",
    "ketvirtas_automobilis.vaziuoti(20) \n",
    "ketvirtas_automobilis.vaziuoti(80) \n",
    "print(f\"Bendra {ketvirtas_automobilis.marke} {ketvirtas_automobilis.modelis} rida: {ketvirtas_automobilis.gauti_rida()} km.\")"
   ]
  },
  {
   "cell_type": "markdown",
   "metadata": {},
   "source": [
    "---\n",
    "\n",
    "## Privatūs metodai \n",
    "\n",
    "`Privatūs metodai` yra klasės metodai, kurie taip pat nėra tiesiogiai prieinami iš klasės išorės. Jie dažnai naudojami vidinėje klasės logikoje ir yra skirti tik klasės naudojimui. Python kalboje privatūs metodai taip pat sukuriami pridedant `du pabrauktukus` prieš metodo pavadinimą (pvz., `__pakeisti_spalva()`)."
   ]
  },
  {
   "cell_type": "code",
   "execution_count": 33,
   "metadata": {},
   "outputs": [],
   "source": [
    "class Automobilis:\n",
    "    def __init__(self, marke, modelis, metai=2024, spalva='pilka'):\n",
    "        self.marke = marke\n",
    "        self.modelis = modelis\n",
    "        self.__metai = metai\n",
    "        self.__spalva = spalva\n",
    "\n",
    "    def gauti_metus(self):\n",
    "        return self.__metai\n",
    "\n",
    "    def gauti_spalva(self):\n",
    "        return self.__spalva\n",
    "\n",
    "    def __pakeisti_spalva(self, nauja_spalva):\n",
    "        self.__spalva = nauja_spalva\n",
    "\n",
    "    def perdazyti(self, nauja_spalva):\n",
    "        if len(nauja_spalva) > len(self.__spalva):\n",
    "            self.__pakeisti_spalva(nauja_spalva)\n",
    "        else:\n",
    "            print(\"del keistu priezasciu perdazyti negalima\")"
   ]
  },
  {
   "cell_type": "code",
   "execution_count": 34,
   "metadata": {},
   "outputs": [
    {
     "name": "stdout",
     "output_type": "stream",
     "text": [
      "pilka\n",
      "Toyota\n",
      "Corolla\n",
      "2020\n",
      "Raudona\n",
      "del keistu priezasciu perdazyti negalima\n",
      "Raudona\n"
     ]
    }
   ],
   "source": [
    "zaislinis = Automobilis(marke='Toyota', modelis='Corolla', metai=2020)\n",
    "print(zaislinis.gauti_spalva()) # pilka\n",
    "zaislinis.perdazyti('Raudona')\n",
    "print(zaislinis.marke)  # Toyota\n",
    "print(zaislinis.modelis)  # Corolla\n",
    "print(zaislinis.gauti_metus())  # 2020\n",
    "print(zaislinis.gauti_spalva()) # Raudona\n",
    "zaislinis.perdazyti(\"balta\")\n",
    "# zaislinis.__pakeisti_spalva(\"juoda\") # nepasileidzia\n",
    "print(zaislinis.gauti_spalva()) # Raudona\n"
   ]
  },
  {
   "cell_type": "markdown",
   "metadata": {},
   "source": [
    "Tai demonstruoja \n",
    "- `Automobilis` klasės objekto su konkrečiais atributais sukūrimą, \n",
    "- Atributų gavimą naudojant gavimo metodus \n",
    "- `__spalva` atributo atnaujinimą naudojant viešąjį `perdazyti` metodą."
   ]
  },
  {
   "cell_type": "markdown",
   "metadata": {},
   "source": [
    "*Priminimas*: `Inkapsuliacija` yra svarbi, nes ji padeda užtikrinti kodo saugumą, sumažina klaidų tikimybę ir padidina kodo prieinamumo tvarkymą."
   ]
  },
  {
   "cell_type": "markdown",
   "metadata": {},
   "source": [
    "### Greita užduotis 2: Banko Sąskaitos Klasė\n",
    "\n",
    "### Klasės Kintamieji\n",
    "- `sąskaitos_numeris` - viešas kintamasis\n",
    "- `savininkas` - viešas kintamasis\n",
    "- `likutis` - privatus kintamasis\n",
    "- `PIN_kodas` - privatus kintamasis\n",
    "\n",
    "### Metodai\n",
    "#### Pinigų Išėmimas\n",
    "- Sukurkite metodą `isimti_pinigus`, kuris leidžia išgryninti pinigus iš sąskaitos.\n",
    "- PIN kodas, reikalingas pinigų išėmimui, turi būti patikrintas ir žinomas tik klasės viduje.\n",
    "\n",
    "#### Pinigų Įnešimas\n",
    "- Sukurkite metodą `ideti_pinigus`, kuris leidžia įnešti pinigų į sąskaitą."
   ]
  },
  {
   "cell_type": "code",
   "execution_count": 37,
   "metadata": {},
   "outputs": [
    {
     "name": "stdout",
     "output_type": "stream",
     "text": [
      "Pridėta 500 Eur. Dabartinis likutis: 1500 Eur\n",
      "Išimta 200 Eur. Dabartinis likutis: 1300 Eur\n",
      "Neteisingas PIN kodas.\n"
     ]
    }
   ],
   "source": [
    "class BankoSaskaita:\n",
    "    def __init__(self, saskaitos_numeris, savininkas, PIN_kodas):\n",
    "        self.saskaitos_numeris = saskaitos_numeris\n",
    "        self.savininkas = savininkas\n",
    "        self.__likutis = 1000\n",
    "        self.__PIN_kodas = PIN_kodas\n",
    "\n",
    "    def isimti_pinigus(self, pin_kodas, suma):\n",
    "        if pin_kodas == self.__PIN_kodas:\n",
    "            if suma <= self.__likutis:\n",
    "                self.__likutis -= suma\n",
    "                print(f\"Išimta {suma} Eur. Dabartinis likutis: {self.__likutis} Eur\")\n",
    "            else:\n",
    "                print(\"Nepakankamas likutis sąskaitoje.\")\n",
    "        else:\n",
    "            print(\"Neteisingas PIN kodas.\")\n",
    "\n",
    "    def ideti_pinigus(self, suma):\n",
    "        self.__likutis += suma\n",
    "        print(f\"Pridėta {suma} Eur. Dabartinis likutis: {self.__likutis} Eur\")\n",
    "\n",
    "# Sukuriame naują banko sąskaitą\n",
    "saskaita = BankoSaskaita(\"LT123456789\", \"Jonas Jonaitis\", 1234)\n",
    "\n",
    "# Išbandome metodų veikimą\n",
    "saskaita.ideti_pinigus(500)\n",
    "saskaita.isimti_pinigus(1234, 200)\n",
    "saskaita.isimti_pinigus(1233, 400)"
   ]
  },
  {
   "cell_type": "code",
   "execution_count": 62,
   "metadata": {},
   "outputs": [
    {
     "name": "stdout",
     "output_type": "stream",
     "text": [
      "Pridėta 500 eur. Šiuo metu sąskaitoje yra 1500 eur.\n",
      "\n",
      "Nepakanka pinigų\n",
      "\n",
      "Išimta 153 eur. Sąskaitoje liko: 1347 eur.\n",
      "\n",
      "Netinkamas slaptažodis\n"
     ]
    }
   ],
   "source": [
    "class Banko_saskaita:\n",
    "    def __init__(self, saskaitos_numeris, savininkas, PIN_kodas, likutis = 1000):\n",
    "        self.saskaitos_numeris= saskaitos_numeris\n",
    "        self.savininkas= savininkas\n",
    "        self.__PIN_kodas= PIN_kodas\n",
    "        self.__likutis = likutis\n",
    "        \n",
    "    def ideti_pinigus (self, suma):\n",
    "        self.__likutis+= suma\n",
    "        print(f'Pridėta {suma} eur. Šiuo metu sąskaitoje yra {self.__likutis} eur.')\n",
    "        \n",
    "    def isimti_pinigus (self,PIN_kodas,suma):\n",
    "        if PIN_kodas == self.__PIN_kodas:\n",
    "            if suma <= self.__likutis:\n",
    "                self.__likutis = self.__likutis - suma\n",
    "                print (f'\\nIšimta {suma} eur. Sąskaitoje liko: {self.__likutis} eur.')\n",
    "            else:\n",
    "                print(\"\\nNepakanka pinigų\")\n",
    "        else:\n",
    "            print(\"\\nNetinkamas slaptažodis\")\n",
    "        \n",
    "        \n",
    "        \n",
    "saskaita = Banko_saskaita(\"LT123456789\", \"Jonas Jonaitis\", 1234)\n",
    "saskaita.ideti_pinigus(500)\n",
    "saskaita.isimti_pinigus(1234, 5000)\n",
    "saskaita.isimti_pinigus(1234, 153)\n",
    "saskaita.isimti_pinigus(1233, 400)"
   ]
  },
  {
   "cell_type": "markdown",
   "metadata": {},
   "source": [
    "---\n",
    "\n",
    "### Bonus Užduotis: Knygų Klasė\n",
    "\n",
    "### Apžvalga\n",
    "Sukurkite `Book` klasę, kuri atitiktų šias specifikacijas.\n",
    "\n",
    "### Klasės Specifikacija\n",
    "\n",
    "1. **Kintamieji**\n",
    "   - Sukurkite šiuos privačius kintamuosius:\n",
    "     - `__title` (pavadinimas): knygos pavadinimas\n",
    "     - `__author` (autorius): knygos autoriaus vardas\n",
    "     - `__condition` (būklė): knygos būklė\n",
    "     - `__page_count` (puslapių skaičius): puslapių skaičius knygoje\n",
    "\n",
    "2. **Metodai Duomenims Gauti**\n",
    "   - Sukurkite viešus metodus, kad gautumėte kiekvieną privačią savybę:\n",
    "     - `get_title` - grąžina knygos pavadinimą\n",
    "     - `get_author` - grąžina autoriaus vardą\n",
    "     - `get_condition` - grąžina knygos būklę\n",
    "     - `get_page_count` - grąžina puslapių skaičių\n",
    "\n",
    "3. **Būklės Keitimo Metodas**\n",
    "   - Sukurkite viešą metodą `change_condition`, kuris priima vieną argumentą:\n",
    "     - `new_condition` - nauja knygos būklė, kuri gali būti viena iš šių reikšmių: 'patenkinama', 'prasta', 'atnaujinta', 'sugadinta'.\n",
    "     - Šis metodas turi patikrinti, ar `new_condition` yra viena iš leistinų reikšmių ir, jei taip, atnaujinti knygos būklę.\n",
    "\n",
    "4. **Puslapių Skaičiaus Mažinimo Metodas**\n",
    "   - Sukurkite privatų metodą `__decrease_page_count`, kuris priima vieną argumentą:\n",
    "     - `decrease_by` - skaičius, kiek puslapių reikia sumažinti.\n",
    "     - Šis metodas turėtų sumažinti `__page_count` reikšmę, bet negali leisti puslapių skaičiui tapti neigiamu.\n",
    "   - Sukurkite viešą metodą `remove_pages`, kuris kviečia `__decrease_page_count` metodą.\n",
    "\n",
    "## Reikalavimai\n",
    "\n",
    "- Užtikrinkite, kad visi kintamieji būtų privačiai prieinami tik klasei.\n",
    "- Visi viešieji metodai turi būti saugūs ir neturi leisti objekto būsenai tapti neteisingai (pvz., puslapių skaičius negali būti neigiamas).\n",
    "- Viešieji metodai turėtų turėti prasmingus patikrinimus, kad būtų išvengta netinkamo jų naudojimo."
   ]
  },
  {
   "cell_type": "code",
   "execution_count": 65,
   "metadata": {},
   "outputs": [
    {
     "name": "stdout",
     "output_type": "stream",
     "text": [
      "Python Programming\n",
      "John Doe\n",
      "patenkinama\n",
      "300\n",
      "Knygos būklė pakeista į: prasta\n",
      "Puslapių skaičius sumažintas iki: 200\n"
     ]
    }
   ],
   "source": [
    "class Book:\n",
    "    def __init__(self, title, author, condition, page_count):\n",
    "        self.__title = title\n",
    "        self.__author = author\n",
    "        self.__condition = condition\n",
    "        self.__page_count = page_count\n",
    "\n",
    "    def get_title(self):\n",
    "        return self.__title\n",
    "\n",
    "    def get_author(self):\n",
    "        return self.__author\n",
    "\n",
    "    def get_condition(self):\n",
    "        return self.__condition\n",
    "\n",
    "    def get_page_count(self):\n",
    "        return self.__page_count\n",
    "\n",
    "    def change_condition(self, new_condition):\n",
    "        allowed_conditions = ['patenkinama', 'prasta', 'atnaujinta', 'sugadinta']\n",
    "        if new_condition in allowed_conditions:\n",
    "            self.__condition = new_condition\n",
    "            print(f'Knygos būklė pakeista į: {self.__condition}')\n",
    "        else:\n",
    "            print(\"Neteisinga būklė, leistinos reikšmės: 'patenkinama', 'prasta', 'atnaujinta', 'sugadinta'.\")\n",
    "\n",
    "    def remove_pages(self, decrease_by):\n",
    "        if decrease_by > 0:\n",
    "            if self.__page_count - decrease_by >= 0:\n",
    "                self.__page_count -= decrease_by\n",
    "                print(f'Puslapių skaičius sumažintas iki: {self.__page_count}')\n",
    "            else:\n",
    "                print(\"Negalima pašalinti daugiau puslapių nei yra knygoje.\")\n",
    "        else:\n",
    "            print(\"Puslapių skaičius turi būti teigiamas.\")\n",
    "\n",
    "# Sukuriamas naujas Book objektas\n",
    "book1 = Book(\"Python Programming\", \"John Doe\", \"patenkinama\", 300)\n",
    "\n",
    "# Gaunami kai kurie duomenys naudojant metodą get\n",
    "print(book1.get_title())  # Spausdinama knygos pavadinimas\n",
    "print(book1.get_author())  # Spausdinamas knygos autoriaus vardas\n",
    "print(book1.get_condition())  # Spausdinama knygos būklė\n",
    "print(book1.get_page_count())  # Spausdinamas puslapių skaičius\n",
    "\n",
    "# Keičiama knygos būklė\n",
    "book1.change_condition(\"prasta\")\n",
    "\n",
    "# Pašalinami puslapiai\n",
    "book1.remove_pages(100)\n"
   ]
  }
 ],
 "metadata": {
  "kernelspec": {
   "display_name": "venv",
   "language": "python",
   "name": "python3"
  },
  "language_info": {
   "codemirror_mode": {
    "name": "ipython",
    "version": 3
   },
   "file_extension": ".py",
   "mimetype": "text/x-python",
   "name": "python",
   "nbconvert_exporter": "python",
   "pygments_lexer": "ipython3",
   "version": "3.12.1"
  }
 },
 "nbformat": 4,
 "nbformat_minor": 2
}
