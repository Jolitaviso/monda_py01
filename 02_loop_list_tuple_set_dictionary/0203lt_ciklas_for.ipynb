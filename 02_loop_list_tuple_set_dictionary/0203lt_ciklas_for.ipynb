{
 "cells": [
  {
   "cell_type": "markdown",
   "metadata": {},
   "source": [
    "# `for` Ciklai\n",
    "Kas yra `for` ciklas?\n",
    "\n",
    "`for` ciklas Python programavimo kalboje yra valdymo srauto teiginys, leidžiantis iteruoti per nustatytą elementų rinkinį, tokių kaip sąrašai, žodynai ir kt.\n",
    "Iteracija yra bendrasis terminas, naudojamas programavimo ir informatikos srityse, kuris apibūdina procesą, kai seka veiksmų arba instrukcijų pakartotinai vykdoma tam tikruose elementuose, dažniausiai po vieną. Tai yra pagrindinė programavimo sąvoka ir naudojama peržiūrėti, apdoroti arba manipuliuoti duomenų strukt8roms.\n",
    "\n",
    "- `for` cikle nurodomas kintamasis, kuriame saugomas kiekvieno žingsnio iteracijos elementas. Ciklo blokas yra atitrauktas į dešinę ir vykdomas kiekvienam nustatytos iteracijos žingsniui.\n",
    "\n",
    "## `for` ciklo pritaikymas `sąraše`:\n",
    "\n",
    "Pavyzdžiui, jei turime skaičių sąrašą ir norime atspausdinti kiekvieną skaičių, galime naudoti for ciklą:\n"
   ]
  },
  {
   "cell_type": "code",
   "execution_count": null,
   "metadata": {},
   "outputs": [
    {
     "name": "stdout",
     "output_type": "stream",
     "text": [
      "1\n",
      "2\n",
      "3\n",
      "4\n",
      "5\n"
     ]
    }
   ],
   "source": [
    "skaiciai = [1, 2, 3, 4, 5]\n",
    "\n",
    "for skaicius in skaičiai:\n",
    "    print(skaicius)"
   ]
  },
  {
   "cell_type": "markdown",
   "metadata": {},
   "source": [
    "Atkreipkite dėmesį, kad kitose programavimo kalbose `skaicius` kintamąjį dažnai pakeičia `i`, kuris dažnai naudojamas kaip kintamasis cikluose. Tai yra konvencija ir reiškia \"indeksą\" arba \"iteraciją\". '`i`' kintamasis dažnai naudojamas valdyti iteracijų skaičių arba pasiekti elementus masyve ar sąraše. '`i`' plačiai suprantamas ir pripažįstamas ciklo kontekste. Python'e `for` ciklo žingsnio kintamasis įgauna elemento reikšmę, ne indeksą, ir geriausia, kad kintamojo pavadinimas reprezentuotų tą reikšmę, pvz. `skaicius`.\n",
    "\n",
    "`for` ciklas, kai jis taikomas aibėms ir tuplams, elgiasi taip pat kaip ir sąrašašuose. Apie juos vėliau."
   ]
  },
  {
   "cell_type": "markdown",
   "metadata": {},
   "source": [
    "### Greitas Uždavinys 1\n",
    "\n",
    "1. Sukurkite sąrašą su bent penkiais elementais\n",
    "1. Atspausdinkite jį naudodami `for` ciklą"
   ]
  },
  {
   "cell_type": "code",
   "execution_count": null,
   "metadata": {},
   "outputs": [
    {
     "name": "stdout",
     "output_type": "stream",
     "text": [
      "obuolys\n",
      "kriaušė\n",
      "bananas\n",
      "persimonas\n",
      "slyva\n"
     ]
    }
   ],
   "source": [
    "vaisiai = [\"obuolys\", \"kriaušė\",\"bananas\", \"persimonas\", \"slyva\"]\n",
    "for vaisiukai in vaisiai:\n",
    "    print(vaisiukai)"
   ]
  },
  {
   "cell_type": "markdown",
   "metadata": {},
   "source": [
    "---\n",
    "\n",
    "## `for` ciklo pritaikymas žodynui\n",
    "\n",
    "Taip pat galime naudoti `for` ciklą su žodynu. Yra keletas būdų tai padaryti.\n",
    "\n",
    "Šis ciklas iteruos per žodyno raktus ir grąžins kiekvieną raktą atskirai. \n",
    "\n",
    "**Pavyzdžiui**:\n"
   ]
  },
  {
   "cell_type": "code",
   "execution_count": null,
   "metadata": {},
   "outputs": [
    {
     "name": "stdout",
     "output_type": "stream",
     "text": [
      "Rokas 20\n",
      "Andrius 34\n",
      "Laura 25\n"
     ]
    }
   ],
   "source": [
    "zmones = {'Rokas': 20, 'Andrius': 34, 'Laura': 25}\n",
    "\n",
    "for zmogus in zmones:\n",
    "    print(zmogus, zmones[zmogus])"
   ]
  },
  {
   "cell_type": "markdown",
   "metadata": {},
   "source": [
    "### Greitas uždavinys 2\n",
    "\n",
    "Sukurkite vaisių žodyną, nurodydami kiekius kaip reikšmes, ir išspausdinkite visų vaisių raktinius žodžius"
   ]
  },
  {
   "cell_type": "code",
   "execution_count": null,
   "metadata": {},
   "outputs": [
    {
     "name": "stdout",
     "output_type": "stream",
     "text": [
      "obuoliai 15 kg\n",
      "bananai 2 kg\n",
      "citrinos -5 kg\n"
     ]
    }
   ],
   "source": [
    "vaisius = {\"obuoliai\": 15, \"bananai\": 2, \"citrinos\": -5 }\n",
    "for produktas in vaisius:\n",
    "    print(produktas, vaisius[produktas], \"kg\")"
   ]
  },
  {
   "cell_type": "code",
   "execution_count": null,
   "metadata": {},
   "outputs": [
    {
     "name": "stdout",
     "output_type": "stream",
     "text": [
      "15 kg obuoliai\n",
      "2 kg bananai\n",
      "6 kg citrinos\n"
     ]
    }
   ],
   "source": [
    "vaisius = {\"obuoliai\": 15, \"bananai\": 2, \"citrinos\": 6 }\n",
    "for produktas in vaisius:\n",
    "    print(vaisius[produktas], \"kg\", produktas)"
   ]
  },
  {
   "cell_type": "markdown",
   "metadata": {},
   "source": [
    "---\n",
    "\n",
    "Naudodami `.values()` žodyno metodus cikle, ciklas iteruos per žodyno vertybes ir grąžins kiekvieną vertę atskirai.\n",
    "\n",
    "Pavyzdžiui:"
   ]
  },
  {
   "cell_type": "code",
   "execution_count": null,
   "metadata": {},
   "outputs": [
    {
     "name": "stdout",
     "output_type": "stream",
     "text": [
      "20\n",
      "34\n",
      "25\n"
     ]
    }
   ],
   "source": [
    "zmones = {'Rokas': 20, 'Andrius': 34, 'Laura': 25}\n",
    "\n",
    "for zmogaus_amzius in zmones.values():\n",
    "    print(zmogaus_amzius)"
   ]
  },
  {
   "cell_type": "markdown",
   "metadata": {},
   "source": [
    "### Greitas uždavinys 3\n",
    "\n",
    "Susumuokite visus GU2 sukurto vaisių sąrašo vaisių kiekius, iteruodami žodyno reikšmes, ir išspausdinkite rezultatą po ciklo"
   ]
  },
  {
   "cell_type": "code",
   "execution_count": null,
   "metadata": {},
   "outputs": [
    {
     "name": "stdout",
     "output_type": "stream",
     "text": [
      "23\n"
     ]
    }
   ],
   "source": [
    "vaisius = {\"obuoliai\": 15, \"bananai\": 2, \"citrinos\": 6 }\n",
    "suma=0\n",
    "for produktas in vaisius:\n",
    "    suma += vaisius[produktas]\n",
    "print(suma)"
   ]
  },
  {
   "cell_type": "code",
   "execution_count": null,
   "metadata": {},
   "outputs": [
    {
     "name": "stdout",
     "output_type": "stream",
     "text": [
      "Viso vaisių kiekis: 23\n"
     ]
    }
   ],
   "source": [
    "viso_vaisiu = sum(vaisius.values())\n",
    "print(f\"Viso vaisių kiekis: {viso_vaisiu}\")"
   ]
  },
  {
   "cell_type": "markdown",
   "metadata": {},
   "source": [
    "---\n",
    "\n",
    "Kai nurodome raktą, vertę ir `.items()`, ciklas iteruos per žodyno raktus, vertes ir grąžins kiekvieną raktą ir vertę atskirai. \n",
    "\n",
    "**Pavyzdžiui**:"
   ]
  },
  {
   "cell_type": "code",
   "execution_count": null,
   "metadata": {},
   "outputs": [
    {
     "name": "stdout",
     "output_type": "stream",
     "text": [
      "Rokas 20\n",
      "Andrius 34\n",
      "Laura 25\n"
     ]
    }
   ],
   "source": [
    "zmones = {'Rokas': 20, 'Andrius': 34, 'Laura': 25}\n",
    "\n",
    "for vardas, amzius in zmones.items():\n",
    "    print(vardas, amzius)"
   ]
  },
  {
   "cell_type": "markdown",
   "metadata": {},
   "source": [
    "Svarbu pažymėti, kad šį kartą indekso kintamasis buvo pakeistas į kintamuosius '`vardas`' ir '`amzius`', atitinkamai reprezentuojant žodyno elementus."
   ]
  },
  {
   "cell_type": "markdown",
   "metadata": {},
   "source": [
    "### Greitas uždavinys 4\n",
    "\n",
    "Panaudojant `items()` žodyno metodą ir `for` ciklą, suformatuotai išspausdinkite vaisių sąrašą su kiekiais, kiekius kaip stulpelį lygiuodami iš dešinės"
   ]
  },
  {
   "cell_type": "code",
   "execution_count": null,
   "metadata": {},
   "outputs": [
    {
     "name": "stdout",
     "output_type": "stream",
     "text": [
      "obuoliai 15\n",
      "bananai 2\n",
      "citrinos 6\n"
     ]
    }
   ],
   "source": [
    "vaisius = {\"obuoliai\": 15, \"bananai\": 2, \"citrinos\": 6 }\n",
    "for produktas, kiekis in vaisius.items():\n",
    "    print(produktas, kiekis)"
   ]
  },
  {
   "cell_type": "code",
   "execution_count": null,
   "metadata": {},
   "outputs": [
    {
     "name": "stdout",
     "output_type": "stream",
     "text": [
      "obuoliai:         15\n",
      "bananai :          2\n",
      "citrinos:          6\n"
     ]
    }
   ],
   "source": [
    "vaisius = {\"obuoliai\": 15, \"bananai\": 2, \"citrinos\": 6 }\n",
    "for produktas, kiekis in vaisius.items():\n",
    "    print(f'{produktas:8}: {kiekis:>10g}')"
   ]
  },
  {
   "cell_type": "markdown",
   "metadata": {},
   "source": [
    "---\n",
    "\n",
    "Galima kreiptis į žodyno elementus su raktu cikle, naudojant `keys()` metodą. Pavyzdys su gerąja praktika keičiant elemento reikšmę:"
   ]
  },
  {
   "cell_type": "code",
   "execution_count": null,
   "metadata": {},
   "outputs": [
    {
     "name": "stdout",
     "output_type": "stream",
     "text": [
      "Dabar Rokas 20\n",
      "Po pakeitimo Rokas 21\n",
      "Dabar Andrius 34\n",
      "Po pakeitimo Andrius 35\n",
      "Dabar Laura 25\n",
      "Po pakeitimo Laura 26\n"
     ]
    }
   ],
   "source": [
    "zmones = {'Rokas': 20, 'Andrius': 34, 'Laura': 25}\n",
    "\n",
    "for zmogus in zmones.keys():\n",
    "    print(\"Dabar\", zmogus, zmones[zmogus])\n",
    "    zmones[zmogus] += 1\n",
    "    print(\"Po pakeitimo\", zmogus, zmones[zmogus])"
   ]
  },
  {
   "cell_type": "markdown",
   "metadata": {},
   "source": [
    "# Greitas uždavinys 5\n",
    "Sumažinkite visus vaisius per 10. Jeigu vaisiaus kiekis tapo mažesnis už 0, nustatykite tą reikšmę kaip teigiamą panaudojant `abs()` funkcija."
   ]
  },
  {
   "cell_type": "code",
   "execution_count": null,
   "metadata": {},
   "outputs": [
    {
     "name": "stdout",
     "output_type": "stream",
     "text": [
      "Dabar obuoliai 15\n",
      "Po pakeitimo obuoliai 5\n",
      "Dabar bananai 2\n",
      "Po pakeitimo bananai 8\n",
      "Dabar citrinos 6\n",
      "Po pakeitimo citrinos 4\n"
     ]
    }
   ],
   "source": [
    "vaisius = {\"obuoliai\": 15, \"bananai\": 2, \"citrinos\": 6 }\n",
    "\n",
    "for produktas in vaisius.keys():\n",
    "    print(\"Dabar\", produktas, vaisius[produktas])\n",
    "    vaisius[produktas] -= 10\n",
    "    if vaisius[produktas] <0:\n",
    "        vaisius[produktas] = abs(vaisius[produktas])\n",
    "    print(\"Po pakeitimo\", produktas, vaisius[produktas])"
   ]
  },
  {
   "cell_type": "code",
   "execution_count": null,
   "metadata": {},
   "outputs": [
    {
     "name": "stdout",
     "output_type": "stream",
     "text": [
      "Po pakeitimo obuoliai 5\n",
      "Po pakeitimo bananai 8\n",
      "Po pakeitimo citrinos 4\n"
     ]
    }
   ],
   "source": [
    "vaisius = {\"obuoliai\": 15, \"bananai\": 2, \"citrinos\": 6 }\n",
    "\n",
    "for produktas in vaisius.keys():\n",
    "    vaisius[produktas] -= 10\n",
    "    if vaisius[produktas] <0:\n",
    "        vaisius[produktas] = abs(vaisius[produktas])\n",
    "    print(\"Po pakeitimo\", produktas, vaisius[produktas])"
   ]
  },
  {
   "cell_type": "code",
   "execution_count": null,
   "metadata": {},
   "outputs": [
    {
     "name": "stdout",
     "output_type": "stream",
     "text": [
      "Dabar obuoliai 15\n",
      "Po pakeitimo obuoliai 5\n",
      "Dabar bananai 2\n",
      "Po pakeitimo bananai 8\n",
      "Dabar citrinos 6\n",
      "Po pakeitimo citrinos 4\n"
     ]
    }
   ],
   "source": [
    "vaisius = {\"obuoliai\": 15, \"bananai\": 2, \"citrinos\": 6 }\n",
    "\n",
    "for produktas in vaisius.keys():\n",
    "    print(\"Dabar\", produktas, vaisius[produktas])\n",
    "    vaisius[produktas] -= 10\n",
    "    if vaisius[produktas] <0:\n",
    "        vaisius[produktas] = abs(vaisius[produktas])\n",
    "    print(\"Po pakeitimo\", produktas, vaisius[produktas])"
   ]
  },
  {
   "cell_type": "markdown",
   "metadata": {},
   "source": [
    "---\n",
    "\n",
    "## `for` ciklas su `range()` funkcija\n",
    "\n",
    "`range()` funkcija generuoja skaičių seka nuo pradžios iki pabaigos. Galime naudoti `for` ciklą su `range` funkcija, kad atliktume veiksmus su kiekvienu skaičiumi sekoje."
   ]
  },
  {
   "cell_type": "code",
   "execution_count": null,
   "metadata": {},
   "outputs": [
    {
     "name": "stdout",
     "output_type": "stream",
     "text": [
      "1\n",
      "2\n",
      "3\n",
      "4\n",
      "5\n"
     ]
    }
   ],
   "source": [
    "for skaicius in range(1, 6):\n",
    "    print(skaicius)"
   ]
  },
  {
   "cell_type": "markdown",
   "metadata": {},
   "source": [
    "### Greitas uždavinys 6\n",
    "\n",
    "Parašykite ciklą, skaičiuojantį nuo 10 iki 0 atbulyn."
   ]
  },
  {
   "cell_type": "code",
   "execution_count": null,
   "metadata": {},
   "outputs": [
    {
     "name": "stdout",
     "output_type": "stream",
     "text": [
      "10\n",
      "9\n",
      "8\n",
      "7\n",
      "6\n",
      "5\n",
      "4\n",
      "3\n",
      "2\n",
      "1\n"
     ]
    }
   ],
   "source": [
    "for step in range (10,0,-1):\n",
    "    print(step)"
   ]
  },
  {
   "cell_type": "markdown",
   "metadata": {},
   "source": [
    "---\n",
    "\n",
    "## Ciklo nutraukimo komanda `break`\n",
    "Komandą `break` naudojame, norėdami nutraukti `for` ciklą ir tęsti su sekančia kodo dalimi."
   ]
  },
  {
   "cell_type": "code",
   "execution_count": null,
   "metadata": {},
   "outputs": [
    {
     "name": "stdout",
     "output_type": "stream",
     "text": [
      "1\n",
      "2\n",
      "radau 3\n"
     ]
    }
   ],
   "source": [
    "skaiciai = [1, 2, 3, 4, 5]\n",
    "\n",
    "for skaicius in skaiciai:\n",
    "    if skaicius == 3:\n",
    "        radau = 3\n",
    "        break\n",
    "    print(skaicius)\n",
    "print('radau', radau)"
   ]
  },
  {
   "cell_type": "markdown",
   "metadata": {},
   "source": [
    "Kaip matote, programa nutraukė ciklą pasiekusi skaičių \"`3`\" ir nespausdino kitų skaičių, kurie buvo išvardyti po jo."
   ]
  },
  {
   "cell_type": "markdown",
   "metadata": {},
   "source": [
    "### Greitas uždavinys 7\n",
    "\n",
    "Iterkuokite vaisių žodyną tol, kol rasite konkretų vaisių, pvz. obuolius. Radę, išspausdinkite to vaisiaus kiekį ir nutraukite ciklą. Taip pat išspausdinkite vaisių pavadinimus, kuriuos palietėte ieškojimo metu, be kiekių."
   ]
  },
  {
   "cell_type": "code",
   "execution_count": null,
   "metadata": {},
   "outputs": [
    {
     "name": "stdout",
     "output_type": "stream",
     "text": [
      "obuoliai 5\n"
     ]
    }
   ],
   "source": [
    "for produktai in vaisius:\n",
    "    if produktai == 'obuoliai':\n",
    "        print(produktai, vaisius[produktai])\n",
    "        break\n",
    "    print(produktai)"
   ]
  },
  {
   "cell_type": "markdown",
   "metadata": {},
   "source": [
    "---\n",
    "\n",
    "## Ciklo pratęsimo komanda `continue`\n",
    "\n",
    "Kai naudojame pratęsimo komandą `continue`, programa praleidžia šią iteraciją ir tęsia su kitu elementu kolekcijoje. \n",
    "\n",
    "Pavyzdžiui:"
   ]
  },
  {
   "cell_type": "code",
   "execution_count": null,
   "metadata": {},
   "outputs": [
    {
     "name": "stdout",
     "output_type": "stream",
     "text": [
      "1\n",
      "3\n",
      "7\n",
      "9\n"
     ]
    }
   ],
   "source": [
    "skaiciai = [1, 2, 3, 4, 5, 6, 7, 8, 9]\n",
    "\n",
    "for skaicius in skaiciai:\n",
    "    if skaicius % 2 == 0:\n",
    "        continue\n",
    "    if skaicius == 5:\n",
    "        continue\n",
    "    print(skaicius)"
   ]
  },
  {
   "cell_type": "markdown",
   "metadata": {},
   "source": [
    "- Kaip matote, programa praleido skaičių \"`3`\" ir tęsė su likusiais skaičiais sąraše."
   ]
  },
  {
   "cell_type": "code",
   "execution_count": null,
   "metadata": {},
   "outputs": [
    {
     "name": "stdout",
     "output_type": "stream",
     "text": [
      "1\n",
      "3\n",
      "5\n"
     ]
    }
   ],
   "source": [
    "skaičiai = [1, 2, 3, 4, 5]\n",
    "\n",
    "for skaicius in skaičiai:\n",
    "    if skaicius % 2 == 0:\n",
    "        continue\n",
    "    print(skaicius)"
   ]
  },
  {
   "cell_type": "markdown",
   "metadata": {},
   "source": [
    "- Kaip matote, programa praleido lyginius skaičius ir tęsė su likusiais skaičiais sąraše."
   ]
  },
  {
   "cell_type": "markdown",
   "metadata": {},
   "source": [
    "Kaip matote, programa praleido lyginius skaičius ir 5, ir tęsė su spausdinimą likusių skaičių sąraše."
   ]
  },
  {
   "cell_type": "code",
   "execution_count": 186,
   "metadata": {},
   "outputs": [
    {
     "name": "stdout",
     "output_type": "stream",
     "text": [
      "obuoliai 15\n"
     ]
    }
   ],
   "source": [
    "# QA 7\n",
    "\n",
    "for vaisius in vaisiai:\n",
    "    if vaisius == 'obuoliai':\n",
    "        print(vaisius, vaisiai[vaisius])\n",
    "        break\n",
    "    print(vaisius)"
   ]
  },
  {
   "cell_type": "markdown",
   "metadata": {},
   "source": [
    "---\n",
    "\n",
    "## `else` blokas `for` cikle\n",
    "\n",
    "`else` blokas naudojamas atlikti tam tikrus veiksmus, kai `for` ciklas pasiekia savo pabaigą."
   ]
  },
  {
   "cell_type": "code",
   "execution_count": null,
   "metadata": {},
   "outputs": [
    {
     "name": "stdout",
     "output_type": "stream",
     "text": [
      "1\n",
      "2\n",
      "3\n",
      "4\n",
      "5\n",
      "for ciklo pabaiga.\n"
     ]
    }
   ],
   "source": [
    "skaiciai = [1, 2, 3, 4, 5]\n",
    "\n",
    "for skaicius in skaiciai:\n",
    "    if not type(skaicius) == int:\n",
    "        break\n",
    "    print(skaicius)\n",
    "else:\n",
    "    print('for ciklo pabaiga.')"
   ]
  },
  {
   "cell_type": "markdown",
   "metadata": {},
   "source": [
    "Jei ciklą nutrauksime naudodami `break` komandą, `else` sąlygos blokas nebus vykdomas."
   ]
  },
  {
   "cell_type": "code",
   "execution_count": null,
   "metadata": {},
   "outputs": [
    {
     "name": "stdout",
     "output_type": "stream",
     "text": [
      "1\n",
      "2\n",
      "3\n",
      "4\n"
     ]
    }
   ],
   "source": [
    "skaiciai = [1, 2, 3, 4, 'triuksmas', 5]\n",
    "\n",
    "for skaicius in skaiciai:\n",
    "    if not type(skaicius) == int:\n",
    "        break\n",
    "    print(skaicius)\n",
    "else:\n",
    "    print('for ciklo pabaiga.')"
   ]
  },
  {
   "cell_type": "code",
   "execution_count": null,
   "metadata": {},
   "outputs": [
    {
     "name": "stdout",
     "output_type": "stream",
     "text": [
      "1\n",
      "2\n",
      "3\n",
      "4\n"
     ]
    }
   ],
   "source": [
    "skaičiai = [1, 2, 3, 4, \"x\", 5]\n",
    "\n",
    "for skaicius in skaičiai:\n",
    "    if not type(skaicius) == int:\n",
    "        break\n",
    "    print(skaicius)\n",
    "else:\n",
    "    print('for ciklo pabaiga.')"
   ]
  },
  {
   "cell_type": "markdown",
   "metadata": {},
   "source": [
    "### Greitas uždavinys 9\n",
    "\n",
    "Sutikrinkite, ar visų vaisių kiekiai yra pozityvūs skaičiai. Jeigu taip, išspausdinkite pranešimą, kad vaisių sąrašas tvarkingas. Radę klaidą, išspausdinkite klaidos pranešimą. Fiktyviai pamodifikuokite vaisių žodyną, kad iššaukti klaidą."
   ]
  },
  {
   "cell_type": "code",
   "execution_count": null,
   "metadata": {},
   "outputs": [
    {
     "name": "stdout",
     "output_type": "stream",
     "text": [
      "citrinos vaisiaus kiekis \"-1\" yra blogas\n"
     ]
    }
   ],
   "source": [
    "vaisius = {\"obuoliai\": 15, \"bananai\": 2, \"citrinos\": -1 }\n",
    "for produktas, kiekis in vaisius.items():\n",
    "    if not type(kiekis) in (int, float) or kiekis < 0:\n",
    "        print (f\"{produktas} vaisiaus kiekis \\\"{kiekis}\\\" yra blogas\")\n",
    "        break    \n",
    "else:\n",
    "    print(\"visi vaisių kiekiai tvarkingi\")\n",
    "        "
   ]
  },
  {
   "cell_type": "code",
   "execution_count": null,
   "metadata": {},
   "outputs": [
    {
     "name": "stdout",
     "output_type": "stream",
     "text": [
      "citrinos vaisiaus kiekis \"-1\" yra blogas\n"
     ]
    }
   ],
   "source": [
    "vaisiai = {\"obuoliai\": 15, \"bananai\": 2, \"citrinos\": -1 }\n",
    "for vaisius, kiekis in vaisiai.items():\n",
    "    if not type(kiekis) in (int, float) or kiekis < 0:\n",
    "        print(f\"{vaisius} vaisiaus kiekis \\\"{kiekis}\\\" yra blogas\")\n",
    "        break\n",
    "else:\n",
    "    print(\"visi vaisių kiekiai tvarkingi\")\n"
   ]
  },
  {
   "cell_type": "code",
   "execution_count": null,
   "metadata": {},
   "outputs": [],
   "source": [
    "vaisius[\"antimaterinis\"] = -5"
   ]
  },
  {
   "cell_type": "code",
   "execution_count": null,
   "metadata": {},
   "outputs": [],
   "source": [
    "vaisius[\"citrinos\"] = \"supuvusios\""
   ]
  },
  {
   "cell_type": "markdown",
   "metadata": {},
   "source": [
    "---\n",
    "\n",
    "## Sąrašo iteracija su indeksu\n",
    "\n",
    "`enumerate()` funkcija, naudojama kartu su `for` ciklu, grąžina poras, kur pirmasis kiekvienos poros elementas yra elemento indeksas, o antrasis - pats sąrašo elementas. \n",
    "\n",
    "Pavyzdžiui:"
   ]
  },
  {
   "cell_type": "code",
   "execution_count": null,
   "metadata": {},
   "outputs": [
    {
     "name": "stdout",
     "output_type": "stream",
     "text": [
      "0 a\n",
      "1 b\n",
      "2 c\n",
      "3 d\n",
      "4 e\n"
     ]
    }
   ],
   "source": [
    "vaisiai = ['ananasas', 'bananas', 'citrika', 'datulė']\n",
    "for indeksas, vaisius in enumerate(vaisiai):\n",
    "    print(indeksas, vaisius)"
   ]
  },
  {
   "cell_type": "code",
   "execution_count": null,
   "metadata": {},
   "outputs": [
    {
     "name": "stdout",
     "output_type": "stream",
     "text": [
      "1 a\n",
      "2 b\n",
      "3 c\n",
      "4 d\n",
      "5 e\n"
     ]
    }
   ],
   "source": [
    "masyvas = ['a', 'b', 'c', 'd', 'e']\n",
    "for indeksas, reikšmė in enumerate(masyvas):\n",
    "    print(indeksas+1, reikšmė)"
   ]
  },
  {
   "cell_type": "markdown",
   "metadata": {},
   "source": [
    "### Greitas uždavinys 10\n",
    "\n",
    "Sukurkite sąrašą knygų, kurias vis neprisiruošiate perskaityti, ir atspausdinkite jų sunumeruotą sąrašą."
   ]
  },
  {
   "cell_type": "code",
   "execution_count": 185,
   "metadata": {},
   "outputs": [
    {
     "name": "stdout",
     "output_type": "stream",
     "text": [
      "01 - \"Homo Deus: A Brief History of Tomorrow\" by: Yuval Noah Harari\n",
      "02 - \"Children of Time\" by: Adrian Tchaikovsky\n",
      "03 - \"We Are Legion (We Are Bob): Bobiverse, Book 1\" by: Dennis E. Taylor\n",
      "04 - \"Guns, Germs and Steel: The Fate of Human Societies\" by: Jared Diamond\n"
     ]
    }
   ],
   "source": [
    "knygos = [\n",
    "    '\"Homo Deus: A Brief History of Tomorrow\" by: Yuval Noah Harari',\n",
    "    '\"Children of Time\" by: Adrian Tchaikovsky',\n",
    "    '\"We Are Legion (We Are Bob): Bobiverse, Book 1\" by: Dennis E. Taylor',\n",
    "    '\"Guns, Germs and Steel: The Fate of Human Societies\" by: Jared Diamond',\n",
    "]\n",
    "for eile, knyga in enumerate(knygos):\n",
    "    print(f'{(eile+1):02d} - {knyga}')"
   ]
  },
  {
   "cell_type": "markdown",
   "metadata": {},
   "source": [
    "---\n",
    "\n",
    "1. Sukurkite programą, kuri:\n",
    "- Leidžia vartotojui įvesti metus\n",
    "- Atspausdina \"Keliamieji metai\" (Leap Year), jeigu įvesti metai yra keliamieji"
   ]
  },
  {
   "cell_type": "code",
   "execution_count": null,
   "metadata": {},
   "outputs": [
    {
     "name": "stdout",
     "output_type": "stream",
     "text": [
      "Not Leap Year\n"
     ]
    }
   ],
   "source": [
    "year = int(input('Enter year: '))\n",
    "if (year % 400 == 0) or (year % 100 != 0 and year % 4 == 0):\n",
    "     print('Leap Year')\n",
    "else:\n",
    "     print('Not Leap Year')"
   ]
  },
  {
   "cell_type": "markdown",
   "metadata": {},
   "source": [
    "## `Greitas Uždavinys 4`\n",
    "1. Perrašykite trečią uždavinį taip, kad programa atspausdintų visus keliamuosius metus nuo 1900 iki 2100."
   ]
  },
  {
   "cell_type": "code",
   "execution_count": null,
   "metadata": {},
   "outputs": [
    {
     "name": "stdout",
     "output_type": "stream",
     "text": [
      "Alice's Grades:\n",
      "Math: 85\n",
      "Science: 92\n",
      "History: 88\n",
      "\n",
      "Bob's Grades:\n",
      "Math: 78\n",
      "Science: 85\n",
      "History: 90\n",
      "\n",
      "Charlie's Grades:\n",
      "Math: 92\n",
      "Science: 88\n",
      "History: 76\n",
      "\n"
     ]
    }
   ],
   "source": [
    "student_grades = {\n",
    "    'Alice': {'Math': 85, 'Science': 92, 'History': 88},\n",
    "    'Bob': {'Math': 78, 'Science': 85, 'History': 90},\n",
    "    'Charlie': {'Math': 92, 'Science': 88, 'History': 76}\n",
    "}\n",
    "\n",
    "for student, grades in student_grades.items():\n",
    "    print(f\"{student}'s Grades:\")\n",
    "    for subject, grade in grades.items():\n",
    "        print(f\"{subject}: {grade}\")\n",
    "    print()"
   ]
  },
  {
   "cell_type": "markdown",
   "metadata": {},
   "source": [
    "## Įterptinė(nested) `for` Ciklo Konstrukcija\n",
    "\n",
    "Įterptinė(nested) `for` ciklo konstrukcija leidžia kurti ciklus, kuriuose vienas ar daugiau vidinių ciklų vykdomi kiekvienai išorinio ciklo iteracijai. \n",
    "- Tai ypač naudinga, kai turime duomenų struktūrą, kurią reikia analizuoti arba apdoroti sudėtingu būdu. \n",
    "\n",
    "**Pavyzdžiui**:"
   ]
  },
  {
   "cell_type": "code",
   "execution_count": null,
   "metadata": {},
   "outputs": [
    {
     "name": "stdout",
     "output_type": "stream",
     "text": [
      "žalia ąžuolas yra gražus\n",
      "žalia beržas yra gražus\n",
      "žalia liepa yra gražus\n",
      "geltona ąžuolas yra gražus\n",
      "geltona beržas yra gražus\n",
      "geltona liepa yra gražus\n",
      "raudona ąžuolas yra gražus\n",
      "raudona beržas yra gražus\n",
      "raudona liepa yra gražus\n"
     ]
    }
   ],
   "source": [
    "spalvos = ['žalias', 'geltonas', 'raudonas']\n",
    "medziai = ['ąžuolas', 'beržas', 'uosis']\n",
    "\n",
    "for spalva in spalvos:\n",
    "    for medis in medziai:\n",
    "        print(spalva, medis, 'yra gražus')"
   ]
  },
  {
   "cell_type": "markdown",
   "metadata": {},
   "source": [
    "### Greitas uždavinys 11\n",
    "\n",
    "Čia yra mokinių ir jų pažymių žodynas:"
   ]
  },
  {
   "cell_type": "code",
   "execution_count": null,
   "metadata": {},
   "outputs": [],
   "source": [
    "mokinio_pazymiai = {\n",
    "    'Alicija': {'Matematika': 85, 'Mokslas': 92, 'Istorija': 88},\n",
    "    'Bobas': {'Matematika': 78, 'Mokslas': 85, 'Istorija': 90},\n",
    "    'Charlis': {'Matematika': 92, 'Mokslas': 88, 'Istorija': 76}\n",
    "}"
   ]
  },
  {
   "cell_type": "markdown",
   "metadata": {},
   "source": [
    "Sukurkite įterptinį `for` ciklą, kuris atspausdintų mokinio vardą ir dalykus su pažymiais."
   ]
  },
  {
   "cell_type": "code",
   "execution_count": null,
   "metadata": {},
   "outputs": [
    {
     "name": "stdout",
     "output_type": "stream",
     "text": [
      "Alice's Grades:\n",
      "Math: 85\n",
      "Science: 92\n",
      "History: 88\n",
      "\n",
      "Bob's Grades:\n",
      "Math: 78\n",
      "Science: 85\n",
      "History: 90\n",
      "\n",
      "Charlie's Grades:\n",
      "Math: 92\n",
      "Science: 88\n",
      "History: 76\n",
      "\n"
     ]
    }
   ],
   "source": [
    "student_grades = {\n",
    "    'Alice': {'Math': 85, 'Science': 92, 'History': 88},\n",
    "    'Bob': {'Math': 78, 'Science': 85, 'History': 90},\n",
    "    'Charlie': {'Math': 92, 'Science': 88, 'History': 76}\n",
    "}\n",
    "\n",
    "for student, grades in student_grades.items():\n",
    "    print(f\"{student}'s Grades:\")\n",
    "    for subject, grade in grades.items():\n",
    "        print(f\"{subject}: {grade}\")\n",
    "    print()"
   ]
  },
  {
   "cell_type": "code",
   "execution_count": null,
   "metadata": {},
   "outputs": [
    {
     "name": "stdout",
     "output_type": "stream",
     "text": [
      "Alicija balai:\n",
      "Matematika: 85\n",
      "Mokslas: 92\n",
      "Istorija: 88\n",
      "\n",
      "Bobas balai:\n",
      "Matematika: 78\n",
      "Mokslas: 85\n",
      "Istorija: 90\n",
      "\n",
      "Charlis balai:\n",
      "Matematika: 92\n",
      "Mokslas: 88\n",
      "Istorija: 76\n",
      "\n"
     ]
    }
   ],
   "source": [
    "mokinio_pazymiai = {\n",
    "    'Alicija': {'Matematika': 85, 'Mokslas': 92, 'Istorija': 88},\n",
    "    'Bobas': {'Matematika': 78, 'Mokslas': 85, 'Istorija': 90},\n",
    "    'Charlis': {'Matematika': 92, 'Mokslas': 88, 'Istorija': 76}\n",
    "    }\n",
    "for  mokiniai, pazymiai in mokinio_pazymiai.items():\n",
    "    print(f'{mokiniai} balai:')\n",
    "    for dalykas, balas in pazymiai.items():\n",
    "        print(f'{dalykas}: {balas}')\n",
    "    print()\n",
    "   "
   ]
  },
  {
   "cell_type": "code",
   "execution_count": null,
   "metadata": {},
   "outputs": [],
   "source": [
    "# jusu kodo vieta"
   ]
  },
  {
   "cell_type": "markdown",
   "metadata": {},
   "source": [
    "---\n",
    "\n",
    "## Užduotis 1\n",
    "\n",
    "Sukurkite programėlę, kuri:\n",
    "\n",
    "1. Leistu vartotojui įvesti 5 žodžius po vieną\n",
    "1. Pridėtų įvestus žodžius į sąrašą\n",
    "1. Atspausdintų kiekvieną žodį, jo ilgį ir eilės numerį sąraše (pradedant nuo 1)\n",
    "Papildoma: Leiskite programėlei įvesti tiek žodžių, kiek jums reikia. \n",
    "\n",
    "Patarimas: Naudokite `sąrašą`, ciklą `for`, funkcijas `len` ir `index`"
   ]
  },
  {
   "cell_type": "code",
   "execution_count": null,
   "metadata": {},
   "outputs": [
    {
     "name": "stdout",
     "output_type": "stream",
     "text": [
      "1: bnnm, number of characters: 4\n",
      "2: nm, number of characters: 2\n",
      "3: bnbm, number of characters: 4\n",
      "4: nbm, number of characters: 3\n",
      "5: bnm, number of characters: 3\n",
      "Number of words: 5\n"
     ]
    }
   ],
   "source": [
    "words = []\n",
    "\n",
    "for word in range(5):\n",
    "     words.append(input('Enter the word: '))\n",
    "\n",
    "for number, word in enumerate(words):\n",
    "     print(f'{number + 1}: {word}, number of characters: {len(word)}')\n",
    "print('Number of words:', len(words))\n"
   ]
  },
  {
   "cell_type": "code",
   "execution_count": null,
   "metadata": {},
   "outputs": [
    {
     "name": "stdout",
     "output_type": "stream",
     "text": [
      "Word 1: vbvm, Length: 4\n",
      "Word 2: hvb, Length: 3\n",
      "Word 3: vbm, Length: 3\n",
      "Word 4: bm, Length: 2\n",
      "Word 5: vbm, Length: 3\n"
     ]
    }
   ],
   "source": [
    "words = []\n",
    "for i in range(5):\n",
    "    user_input = input(f\"Enter number {i + 1}: \")\n",
    "    words.append(user_input)\n",
    "\n",
    "for i in range(len(words)):\n",
    "    word = words[i]\n",
    "    print(f\"Word {i + 1}: {word}, Length: {len(word)}\")"
   ]
  },
  {
   "cell_type": "code",
   "execution_count": null,
   "metadata": {},
   "outputs": [
    {
     "name": "stdout",
     "output_type": "stream",
     "text": [
      "0: miua, kurio ilgis yra: 4\n",
      "1: aliocha, kurio ilgis yra: 7\n",
      "2: priteliukas, kurio ilgis yra: 11\n",
      "3: mauglys, kurio ilgis yra: 7\n",
      "4: alioniukas, kurio ilgis yra: 10\n"
     ]
    }
   ],
   "source": [
    "zodziai = []\n",
    "for i in range (1,6):\n",
    "    a = input ('įveskite žodį')\n",
    "    zodziai.append(a)\n",
    "for indeksas, zodis in enumerate (zodziai):\n",
    "    print(f'{indeksas}: {zodis}, kurio ilgis yra: {len(zodis)}')"
   ]
  },
  {
   "cell_type": "code",
   "execution_count": 180,
   "metadata": {},
   "outputs": [
    {
     "name": "stdout",
     "output_type": "stream",
     "text": [
      "1 - hhh , kurį sudaro 3 simboliai\n",
      "2 - 4h , kurį sudaro 2 simboliai\n",
      "3 -  , kurį sudaro 0 simboliai\n",
      "4 - h5f , kurį sudaro 3 simboliai\n",
      "5 - h , kurį sudaro 1 simboliai\n"
     ]
    }
   ],
   "source": [
    "my_list = []\n",
    "for i in range(5):\n",
    "    a = input(f\"Įveskite žodį : {i + 1}: \")\n",
    "    my_list.append(a)\n",
    "for indeksas, zodis in enumerate(my_list):\n",
    "    print(f'{indeksas+1} - {zodis} , kurį sudaro {len(zodis)} simboliai')"
   ]
  },
  {
   "cell_type": "code",
   "execution_count": null,
   "metadata": {},
   "outputs": [
    {
     "name": "stdout",
     "output_type": "stream",
     "text": [
      "1 - sdgsdg5 , kurį sudaro 7 simboliai\n",
      "2 - sdgsd5 , kurį sudaro 6 simboliai\n",
      "3 - sdgsd5 , kurį sudaro 6 simboliai\n",
      "4 - 5sdg5s , kurį sudaro 6 simboliai\n",
      "5 - sdg , kurį sudaro 3 simboliai\n"
     ]
    }
   ],
   "source": [
    "my_list = []\n",
    "for i in range(5):\n",
    "    a = input(f\"Įveskite žodį : {i + 1}: \")\n",
    "    my_list.append(a)\n",
    "for indeksas, zodis in enumerate(my_list):\n",
    "    print(f'{indeksas+1} - {zodis} , kurį sudaro {len(zodis)} simboliai')"
   ]
  },
  {
   "cell_type": "markdown",
   "metadata": {},
   "source": [
    "---\n",
    "\n",
    "## Užduotis 2\n",
    "\n",
    "Parašykite programą. kuri atspausdintų visus keliamuosius metus nuo 1900 iki 2100."
   ]
  },
  {
   "cell_type": "code",
   "execution_count": null,
   "metadata": {},
   "outputs": [
    {
     "name": "stdout",
     "output_type": "stream",
     "text": [
      "2000\n",
      "2004\n",
      "2008\n",
      "2012\n",
      "2016\n",
      "2020\n",
      "2024\n",
      "2028\n",
      "2032\n",
      "2036\n",
      "2040\n",
      "2044\n",
      "2048\n",
      "2052\n",
      "2056\n",
      "2060\n",
      "2064\n",
      "2068\n",
      "2072\n",
      "2076\n",
      "2080\n",
      "2084\n",
      "2088\n",
      "2092\n",
      "2096\n"
     ]
    }
   ],
   "source": [
    "visi_metai = range(2000, 2101)\n",
    "for metai in visi_metai:\n",
    "    if metai % 4 == 0 and metai % 100 != 0 or metai % 400 == 0:\n",
    "        print(metai)"
   ]
  }
 ],
 "metadata": {
  "kernelspec": {
   "display_name": "venv",
   "language": "python",
   "name": "python3"
  },
  "language_info": {
   "codemirror_mode": {
    "name": "ipython",
    "version": 3
   },
   "file_extension": ".py",
   "mimetype": "text/x-python",
   "name": "python",
   "nbconvert_exporter": "python",
   "pygments_lexer": "ipython3",
   "version": "3.12.1"
  }
 },
 "nbformat": 4,
 "nbformat_minor": 2
}
