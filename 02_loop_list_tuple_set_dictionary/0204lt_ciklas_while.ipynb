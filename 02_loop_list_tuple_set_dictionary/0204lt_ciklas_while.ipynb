{
 "cells": [
  {
   "cell_type": "markdown",
   "metadata": {},
   "source": [
    "# While ciklas\n",
    "\n",
    "Kas yra While ciklas?\n",
    "\n",
    "While ciklas „Python“ kalboje yra lyg nuolatinis klausimas: \"Ar kokia nors sąlyga teisinga?\" Jei taip, atlikite veiksmus tol, kol sąlyga išlieka teisinga. \n",
    "\n",
    "**Pavyzdžiai:**\n",
    "\n",
    "- Tol, kol stiklinė nėra pilna, pilkite vandenį į stikline, jei ji yra pilna, nutraukite vandens pilimą.\n",
    "- Tol, kol telefono baterija mažesnė nei 100 %, kraukite telefoną.\n",
    "- Tol, kol skaitliukas mažesnis nei 100, pridėkite +1 prie skaitliuko.\n",
    "\n",
    "Kodėl naudojame While ciklą?\n",
    "\n",
    "While ciklą galime naudoti, norėdami iteruoti, kol pasiekiama tam tikra sąlyga. Jis leidžia atlikti veiksmus tam tikrą kartų arba tol, kol bus patenkinta konkreti sąlyga. While ciklai yra patogūs, kuriant interaktyvias programas, kurios pakartotinai klauso vartotojo įvesties. Juos galima naudoti ir skaičiavimams bei akumuliavimui, pavyzdžiui, apskaičiuoti skaičių sumą tol, kol bus pasiektas tam tikras slenkstis.\n",
    "\n",
    "**Pavyzdys**: paprastas ciklas, kuris skaičiuoja atbuline tvarka nuo 10 iki 1:"
   ]
  },
  {
   "cell_type": "code",
   "execution_count": 2,
   "metadata": {},
   "outputs": [
    {
     "name": "stdout",
     "output_type": "stream",
     "text": [
      "10\n",
      "9\n",
      "8\n",
      "7\n",
      "6\n",
      "5\n",
      "4\n",
      "3\n",
      "2\n",
      "1\n",
      "Skrendam !!!\n"
     ]
    }
   ],
   "source": [
    "skaicius = 10\n",
    "\n",
    "# tol, kol skaičius didesnis nei nulis, ciklas vykdomas\n",
    "while skaicius > 0:\n",
    "# tai yra ciklas\n",
    "    print(skaicius)\n",
    "    skaicius -= 1\n",
    "\n",
    "# tol, kol skaičius mažesnis arba lygus nuliui\n",
    "print(\"Skrendam !!!\")"
   ]
  },
  {
   "cell_type": "markdown",
   "metadata": {},
   "source": [
    "**Pavyzdys**: paprastas ciklas, kuris skaičiuoja nuo 1 iki 5:"
   ]
  },
  {
   "cell_type": "code",
   "execution_count": 3,
   "metadata": {},
   "outputs": [
    {
     "name": "stdout",
     "output_type": "stream",
     "text": [
      "1\n",
      "2\n",
      "3\n",
      "4\n",
      "5\n",
      "Skaičiavimas baigtas !\n"
     ]
    }
   ],
   "source": [
    "skaičius = 1\n",
    "while skaičius <= 5:\n",
    "    print(skaičius)\n",
    "    skaičius = skaičius + 1\n",
    "print(\"Skaičiavimas baigtas !\")"
   ]
  },
  {
   "cell_type": "code",
   "execution_count": 14,
   "metadata": {},
   "outputs": [],
   "source": [
    "ivadas= \"\"\n",
    "while ivadas.upper() != \"X\":\n",
    "    ivadas= input(\"input X to exit\")"
   ]
  },
  {
   "cell_type": "markdown",
   "metadata": {},
   "source": [
    "## Begalinis Ciklas\n",
    "\n",
    "While ciklai gali tapti begaliniais ciklais, kurie niekada nesustoja, jei sąlyga visada yra True. Toks ciklas gali neigiamai paveikti jūsų programos veikimą, net gali sustabdyti jūsų kompiuterį, todėl visada turėtumėte užtikrinti, kad sąlyga galų gale taptų False.\n",
    "\n",
    "- Tačiau, jei vis dėlto esate situacijoje, kurioje begalinis ciklas vyksta, jį galite nutraukti rankiniu būdu, spustelėję „Ctrl + C“ savo terminalo lange.\n",
    "\n",
    "**Pavyzdys**: vykstantis begalinis ciklas:"
   ]
  },
  {
   "cell_type": "code",
   "execution_count": null,
   "metadata": {},
   "outputs": [],
   "source": [
    "while True:\n",
    "    print(\"Aš negaliu sustoti, nes sąlyga visada yra True!\")\n",
    "print(\"Aš negaliu vykdyti, nes programa manęs niekada nepasieks!\")"
   ]
  },
  {
   "cell_type": "markdown",
   "metadata": {},
   "source": [
    "**Pavyzdys**: kitas vykstantis begalinis ciklas:"
   ]
  },
  {
   "cell_type": "code",
   "execution_count": null,
   "metadata": {},
   "outputs": [],
   "source": [
    "i = 10\n",
    "while i > 0:\n",
    "    print(i)\n",
    "    i += 1"
   ]
  },
  {
   "cell_type": "markdown",
   "metadata": {},
   "source": [
    "Svarbu atsargiai naudoti „`while`“ ciklus, kad išvengtumėte begalinių ciklų sukūrimo (ciklų, kurie niekada nesustoja). \n",
    "- Užtikrinkite, kad ciklo sąlyga galiausiai taptų neteisinga, kad programa negalėtų vykti neribotą laiką. \n",
    "- Dažniausiai reikės atnaujinti kintamuosius cikle, kad sąlyga laikui bėgant pasikeistų, ir ciklas galiausiai baigtųsi."
   ]
  },
  {
   "cell_type": "markdown",
   "metadata": {},
   "source": [
    "# `Greita Užduotis 1: Sutaisykite mano ciklą`\n",
    "\n",
    "**Instrukcijos**:\n",
    "\n",
    "1. Peržiūrėkite žemiau esantį ciklą, bandykite suprasti, ką jis daro kiekviename žingsnyje.\n",
    "1. Raskite ir ištaisykite klaidą šiame cikle. \n",
    "- Tarkime, noriu, kad ciklas suskaičiuotų iki 10 ir sustotų."
   ]
  },
  {
   "cell_type": "code",
   "execution_count": 16,
   "metadata": {},
   "outputs": [
    {
     "name": "stdout",
     "output_type": "stream",
     "text": [
      "0\n",
      "1\n",
      "2\n",
      "3\n",
      "4\n",
      "5\n",
      "6\n",
      "7\n",
      "8\n",
      "9\n",
      "10\n"
     ]
    }
   ],
   "source": [
    "i = 0\n",
    "while i < 10:\n",
    "    print(i)\n",
    "    i += 1\n",
    "print(i)"
   ]
  },
  {
   "cell_type": "code",
   "execution_count": 19,
   "metadata": {},
   "outputs": [
    {
     "name": "stdout",
     "output_type": "stream",
     "text": [
      "-5\n",
      "-4\n",
      "-3\n",
      "-2\n",
      "-1\n",
      "0\n",
      "1\n",
      "2\n",
      "3\n",
      "4\n",
      "5\n",
      "6\n",
      "7\n",
      "8\n",
      "9\n",
      "10\n"
     ]
    }
   ],
   "source": [
    "i = -5\n",
    "while i < 10:\n",
    "    print(i)\n",
    "    i += 1\n",
    "print(i)"
   ]
  },
  {
   "cell_type": "markdown",
   "metadata": {},
   "source": [
    "## Ciklo nutraukimas naudojant „break“ pareiškimą\n",
    "\n",
    "„`Break`“ pareiškimas yra valdymo srauto pareiškimas „Python“, skirtas anksti išeiti arba nutraukti ciklą prieš įvykdant ciklo normalią pabaigos sąlygą. \n",
    "- Kai cikle sutinkamas „`break`“ pareiškimas, ciklas nedelsiant baigiasi.\n",
    "\n",
    "**Pavyzdys**: ciklas su „`break`“ pareiškimu:"
   ]
  },
  {
   "cell_type": "code",
   "execution_count": 20,
   "metadata": {},
   "outputs": [
    {
     "name": "stdout",
     "output_type": "stream",
     "text": [
      "1\n",
      "2\n",
      "3\n",
      "4\n"
     ]
    }
   ],
   "source": [
    "number = 0\n",
    "\n",
    "# Kol number yra mažiau nei 10, įvykdyti ciklą\n",
    "while number < 10:\n",
    "    number += 1\n",
    "    # jei number yra daugiau arba lygu penkiems, nutraukti ciklą\n",
    "    if number >= 5:\n",
    "        break\n",
    "    # jei ciklas nėra nutrauktas, atspausdinti number\n",
    "    print(number)"
   ]
  },
  {
   "cell_type": "markdown",
   "metadata": {},
   "source": [
    "❗ Atminkite, kad „`break`“ pareiškimas naudojamas tik cikle, kur jis leidžia jums anksti nutraukti ciklo vykdymą pagal nurodytą sąlygą, suteikiant didesnę kontrolę jūsų programos srautui ir vykdymui."
   ]
  },
  {
   "cell_type": "markdown",
   "metadata": {},
   "source": [
    "**Pavyzdys**: paprastas ciklas, prašantis vartotoją įvesti komandą:"
   ]
  },
  {
   "cell_type": "code",
   "execution_count": 66,
   "metadata": {},
   "outputs": [
    {
     "name": "stdout",
     "output_type": "stream",
     "text": [
      "\n",
      "    Galimos įvestos komandos:\n",
      "    exit - išeiti iš programos\n",
      "    \n",
      "Viso gero\n"
     ]
    }
   ],
   "source": [
    "while True:\n",
    "    print(\"\"\"\n",
    "    Galimos įvestos komandos:\n",
    "    exit - išeiti iš programos\n",
    "    \"\"\")\n",
    "    command = input(\"Įveskite komandą: \")\n",
    "    if command == 'exit':\n",
    "        print(\"Viso gero\")\n",
    "        break\n",
    "    print(\"Neteisinga komanda\")"
   ]
  },
  {
   "cell_type": "code",
   "execution_count": 37,
   "metadata": {},
   "outputs": [
    {
     "name": "stdout",
     "output_type": "stream",
     "text": [
      "\n",
      "    Galimos įvestos komandos:\n",
      "    exit - išeiti iš programos\n",
      "    \n",
      "Neteisinga komanda\n",
      "\n",
      "    Galimos įvestos komandos:\n",
      "    exit - išeiti iš programos\n",
      "    \n",
      "Viso gero\n"
     ]
    }
   ],
   "source": [
    "while True:\n",
    "    print(\"\"\"\n",
    "    Galimos įvestos komandos:\n",
    "    exit - išeiti iš programos\n",
    "    \"\"\")\n",
    "    command = input(\"Įveskite komandą: \")\n",
    "\n",
    "    if command == 'exit':\n",
    "        print(\"Viso gero\")\n",
    "        break\n",
    "    print(\"Neteisinga komanda\")"
   ]
  },
  {
   "cell_type": "markdown",
   "metadata": {},
   "source": [
    "# `Greita užduotis 3: programa, kuri prašo įvesti skaičių`\n",
    "\n",
    "**Instrukcijos**:\n",
    "1. Sukurkite programą, kuri nuolat prašo vartotojo įvesti skaičių.\n",
    "- Jeigu skaičius yra lyginis, atspausdinkite (\"Lyginis!\") ir nutraukite programą.\n",
    "- Jeigu skaičius yra nelyginis, atspausdinkite (\"Nelyginis!\") ir nutraukite programą.\n",
    "- Jeigu skaičius mažesnis arba lygus 0, atspausdinkite, kad skaičius yra netinkamas, ir nurodykite vartotojui sąlygas, kurias būtina atitikti.\n",
    "\n",
    "**Patarimai**:\n",
    "- Naudokite if, elif pareiškias.\n",
    "- Pakeiskite input funkcijos rezultatą į skaičių.\n",
    "- Naudokite matematinį operatorių, kad patikrintumėte, ar skaičius yra nelyginis ar lyginis.\n",
    "- Patikrinkite, ar skaičius pirmiausia atitinka tam tikrą sąlygą, tada patikrinkite, ar jis yra nelyginis ar lyginis."
   ]
  },
  {
   "cell_type": "code",
   "execution_count": 65,
   "metadata": {},
   "outputs": [
    {
     "name": "stdout",
     "output_type": "stream",
     "text": [
      "Nelyginis!\n"
     ]
    }
   ],
   "source": [
    "while True:\n",
    "    number= int(input(\"Įveskite skaičių: \"))\n",
    "    if number <= 0:\n",
    "        print(\"Numeris turi būti teigiamas, bandykite dar kartą\")\n",
    "    elif number %2 == 0:\n",
    "        print(\"Lyginis!\")\n",
    "        break\n",
    "    elif number %2 != 0:\n",
    "        print (\"Nelyginis!\")\n",
    "        break"
   ]
  },
  {
   "cell_type": "code",
   "execution_count": 22,
   "metadata": {},
   "outputs": [
    {
     "name": "stdout",
     "output_type": "stream",
     "text": [
      "Odd!\n"
     ]
    }
   ],
   "source": [
    "while True:\n",
    "    number = int(input(\"number: \"))\n",
    "    if number <= 0:\n",
    "        print(\"number must be positive, please try again\")\n",
    "    elif number % 2 == 0:\n",
    "        print(\"Even!\")\n",
    "        break\n",
    "    elif number % 2 != 0:\n",
    "        print(\"Odd!\")\n",
    "        break "
   ]
  },
  {
   "cell_type": "markdown",
   "metadata": {},
   "source": [
    "## Praleiskite ciklo iteraciją naudodami „`continue`“ pareiškimą\n",
    "„`Continue`“ pareiškimas yra dar vienas valdymo srauto pareiškimas „Python“, kuris naudojamas cikluose praleisti likusią esamą iteraciją (ciklą) ir perėjimui prie kitos iteracijos. Paprastesniais žodžiais tariant, jis leidžia praleisti tam tikras ciklo dalis, kai yra tenkinama tam tikra sąlyga.\n",
    "\n",
    "**Pavyzdys**: ciklas su „`continue`“ pareiškimu"
   ]
  },
  {
   "cell_type": "code",
   "execution_count": 38,
   "metadata": {},
   "outputs": [
    {
     "name": "stdout",
     "output_type": "stream",
     "text": [
      "1\n",
      "2\n",
      "3\n",
      "4\n",
      "6\n",
      "7\n",
      "8\n",
      "9\n",
      "10\n"
     ]
    }
   ],
   "source": [
    "number = 0\n",
    "while number < 10:\n",
    "    number += 1\n",
    "    # jei number yra 5, praleisti šią iteraciją.\n",
    "    if number == 5:\n",
    "        continue\n",
    "    print(number)"
   ]
  },
  {
   "cell_type": "code",
   "execution_count": 46,
   "metadata": {},
   "outputs": [
    {
     "name": "stdout",
     "output_type": "stream",
     "text": [
      "16\n",
      "17\n",
      "18\n",
      "19\n",
      "21\n",
      "22\n",
      "23\n",
      "24\n",
      "26\n"
     ]
    }
   ],
   "source": [
    "number = 15\n",
    "while number < 26:\n",
    "    number += 1\n",
    "    if number == 20:\n",
    "        continue\n",
    "    elif number == 25:\n",
    "        continue\n",
    "    print(number)"
   ]
  },
  {
   "cell_type": "markdown",
   "metadata": {},
   "source": [
    "## Ciklas „while“ su „`else`“ pareiškimu\n",
    "„Python“ kalboje ciklai „while“ gali būti naudojami su „`else`“ pareiškimu vykdyti tam tikrą kodą, kai sąlyga yra neteisinga.\n",
    "\n",
    "**Pavyzdys**: ciklas „while“ su „`else`“ pareiškimu"
   ]
  },
  {
   "cell_type": "code",
   "execution_count": 47,
   "metadata": {},
   "outputs": [
    {
     "name": "stdout",
     "output_type": "stream",
     "text": [
      "0\n",
      "1\n",
      "2\n",
      "3\n",
      "4\n",
      "ciklo pabaiga\n"
     ]
    }
   ],
   "source": [
    "number = 0\n",
    "\n",
    "# jei number yra mažesnis nei 5, vykdykite cikla\n",
    "while number < 5:\n",
    "    print(number)\n",
    "    number += 1\n",
    "\n",
    "# jei \"number\" yra daugiau arba lygu 5, vykdykite „else“ cikla\n",
    "else:\n",
    "    print(\"ciklo pabaiga\")"
   ]
  },
  {
   "cell_type": "markdown",
   "metadata": {},
   "source": [
    "# `Greita Užduotis 3: Sukurkite Paprastą Slaptažodžio Patikros Programą`\n",
    "\n",
    "**Instrukcijos**:\n",
    "\n",
    "1. Sugalvokite slaptažodį (tiesiog paprastą žodį) ir įrašykite jį į kintamąjį.\n",
    "1. Sukurkite kintamąjį pavadinimu „attempts“ ir suteikite jam reikšmę 3.\n",
    "1. Parašykite programą, kuri nuolat klausinėja vartotojo įvesties.\n",
    "- Jei įvestis nesutampa su slaptažodžiu, atspausdinkite „Neteisingas slaptažodis, bandykite dar kartą“ ir sumažinkite „attempts“ kintamojo reikšmę.\n",
    "- Jei įvestis sutampa su slaptažodžiu, atspausdinkite „Prieiga suteikta“ ir baigkite programą.\n",
    "- Jei vartotojas tris kartus nepavyksta patikrinime, baigti ciklą su pranešimu „Prieiga negauta. Per daug nesėkmingų bandymų.“\n",
    "\n",
    "**Patarimai**:\n",
    "\n",
    "- Galite naudoti „if“ ir „else“ sąlygas, kad priimtumėte sprendimus."
   ]
  },
  {
   "cell_type": "code",
   "execution_count": 52,
   "metadata": {},
   "outputs": [
    {
     "name": "stdout",
     "output_type": "stream",
     "text": [
      "Wrong password, try again\n",
      "Access Granted.\n"
     ]
    }
   ],
   "source": [
    "password = \"secret123\"\n",
    "attempts = 3\n",
    "\n",
    "\n",
    "while attempts > 0:\n",
    "    system = input(\"Password required: \")\n",
    "\n",
    "    if system != password:\n",
    "        print(\"Wrong password, try again\")\n",
    "        attempts -= 1\n",
    "    else:\n",
    "        print(\"Access Granted.\")\n",
    "        break\n",
    "\n",
    "if attempts == 0:\n",
    "    print(\"Access blocked. Too many unsuccessful attempts.\")"
   ]
  },
  {
   "cell_type": "code",
   "execution_count": 57,
   "metadata": {},
   "outputs": [
    {
     "name": "stdout",
     "output_type": "stream",
     "text": [
      "Incorrect! you have 2 more attempts\n",
      "Incorrect! you have 1 more attempts\n",
      "Correct!\n"
     ]
    }
   ],
   "source": [
    "password = \"secret\"\n",
    "attempts = 3\n",
    "\n",
    "while attempts > 0:\n",
    "    answer = input(\"Enter password: \")\n",
    "\n",
    "    if answer != password:\n",
    "        attempts -= 1\n",
    "        print(f\"Incorrect! you have {attempts} more attempts\")\n",
    "    else:\n",
    "        print(\"Correct!\")\n",
    "        break\n",
    "if attempts == 0:\n",
    "    print(\"Sorry too many wrong attempts, try again later\")"
   ]
  },
  {
   "cell_type": "markdown",
   "metadata": {},
   "source": [
    "# `Užduotis 1: Parašykite skaičiuotuvo programą, kuri gali sudėti, atimti, padauginti ir padalinti`\n",
    "\n",
    "**Instrukcijos**:\n",
    "1. Sukurkite programą, kuri nuolat klauso vartotojo įvedimo komandos (teksto).\n",
    "- Jei įvestis yra \"add\" arba \"subtract\" arba \"multiply\" arba \"divide\", tada paklauskite dar dviejų skaičių ir atspausdinkite atitinkamą atsakymą.\n",
    "- Jei vartotojas įveda netinkamą komandą, praneškite vartotojui.\n",
    "- Jei įvestis yra \"exit\", tuomet nutraukite ciklą, nepamirškite pasakyti viso gero.\n",
    "\n",
    "**Patarimas**:\n",
    "- Naudokite if, elif, else sąlygas.\n",
    "- Skaičių vertes konvertuokite į float, o ne į int.\n",
    "- Naudokite while True."
   ]
  },
  {
   "cell_type": "code",
   "execution_count": 69,
   "metadata": {},
   "outputs": [
    {
     "name": "stdout",
     "output_type": "stream",
     "text": [
      "\n",
      "    Welcome to my calculator v0.01\n",
      "    Enter command:\n",
      "          add - add two numbers\n",
      "          subtract - subtract two numbers\n",
      "          multiply - multiply two numbers\n",
      "          divide - divide two numbers\n",
      "          exit - exits the program \n",
      "    \n",
      "result is  -121.0\n",
      "\n",
      "    Welcome to my calculator v0.01\n",
      "    Enter command:\n",
      "          add - add two numbers\n",
      "          subtract - subtract two numbers\n",
      "          multiply - multiply two numbers\n",
      "          divide - divide two numbers\n",
      "          exit - exits the program \n",
      "    \n",
      "Goodbye :)\n"
     ]
    }
   ],
   "source": [
    "while True:\n",
    "    print(\"\"\"\n",
    "    Welcome! Enter command:\n",
    "          add - add two numbers\n",
    "          subtract - subtract two numbers\n",
    "          multiply - multiply two numbers\n",
    "          divide - divide two numbers\n",
    "          exit - exits the program \n",
    "    \"\"\")\n",
    "    command = input(\"Enter command: \")\n",
    "    if command == \"exit\":\n",
    "        print(\"Goodbye :)\")\n",
    "        break\n",
    "\n",
    "    elif command == \"add\":\n",
    "        num_1 = float(input(\"Enter number1: \"))\n",
    "        num_2 = float(input(\"Enter number2: \"))\n",
    "        print(\"Add result is \", num_1 + num_2)\n",
    "\n",
    "    elif command == \"subtract\":\n",
    "        num_1 = float(input(\"Enter number1: \"))\n",
    "        num_2 = float(input(\"Enter number2: \"))\n",
    "        print(\"Subtract result is \", num_1 - num_2)\n",
    "    \n",
    "    elif command == \"multiply\":\n",
    "        num_1 = float(input(\"Enter number1: \"))\n",
    "        num_2 = float(input(\"Enter number2: \"))\n",
    "        print(\"Multiply result is \", num_1 * num_2)\n",
    "\n",
    "    elif command == \"divide\":\n",
    "        num_1 = float(input(\"Enter number1: \"))\n",
    "        num_2 = float(input(\"Enter number2: \"))\n",
    "        print(\"Divide result is \", num_1 / num_2)\n",
    "\n",
    "    else:\n",
    "        print(\"Invalid command :(\")"
   ]
  }
 ],
 "metadata": {
  "kernelspec": {
   "display_name": "venv",
   "language": "python",
   "name": "python3"
  },
  "language_info": {
   "codemirror_mode": {
    "name": "ipython",
    "version": 3
   },
   "file_extension": ".py",
   "mimetype": "text/x-python",
   "name": "python",
   "nbconvert_exporter": "python",
   "pygments_lexer": "ipython3",
   "version": "3.12.1"
  }
 },
 "nbformat": 4,
 "nbformat_minor": 2
}
