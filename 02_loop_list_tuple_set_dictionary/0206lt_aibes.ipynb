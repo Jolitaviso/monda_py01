{
 "cells": [
  {
   "cell_type": "markdown",
   "metadata": {},
   "source": [
    "# Aibės (`set`)\n",
    "\n",
    "Aibės (`set`) yra kolekcijos tipo objektai, kurie skiriasi nuo sąrašų ir tuplų tuo, kad jie saugo tik unikalius elementus. \n",
    "- Tai reiškia, kad jei bandoma pridėti elementą, kuris jau egzistuoja aibėje, jis nebus pridėtas ir nebus rodomas kelis kartus. \n",
    "- Skirtingai nuo sąrašų ir tuplų, kurie gali saugoti dublikatus, aibės dublikatų neišlaiko. \n",
    "- Kitas svarbus skirtumas yra tas, kad aibės nenaudoja indeksų, todėl jų elementų tvarka nėra nurodyta."
   ]
  },
  {
   "cell_type": "markdown",
   "metadata": {},
   "source": [
    "## Aibių sukūrimas\n",
    "\n",
    "Aibės gali būti sukurtos paprasčiausiai išvardijant elementus tarp skliaustų `{}`, atskirtus kableliais. \n",
    "\n",
    "**Pavyzdžiui**:"
   ]
  },
  {
   "cell_type": "code",
   "execution_count": 1,
   "metadata": {},
   "outputs": [
    {
     "name": "stdout",
     "output_type": "stream",
     "text": [
      "{'apelsinas', 'obuolys', 'bananas'}\n",
      "set()\n"
     ]
    }
   ],
   "source": [
    "mano_aibe = {'obuolys', 'bananas', 'apelsinas'}\n",
    "print(mano_aibe)\n",
    "\n",
    "# Norint sukurti tuščią aibę, galite pasinaudoti funkcija set():\n",
    "tuscia_aibe = set()\n",
    "print(tuscia_aibe)"
   ]
  },
  {
   "cell_type": "markdown",
   "metadata": {},
   "source": [
    "---\n",
    "\n",
    "## Aibių Metodai\n",
    "\n",
    "Aibės pasižymi įvairiais metodais, kurie palengvina elementų paiešką, filtravimą, rikiavimą ir pan. \n",
    "\n",
    "Štai keletas pagrindinių aibių metodų su aiškesniais pavyzdžiais:\n",
    "\n",
    "`add()` - prideda vieną elementą į aibę:"
   ]
  },
  {
   "cell_type": "code",
   "execution_count": 2,
   "metadata": {},
   "outputs": [
    {
     "name": "stdout",
     "output_type": "stream",
     "text": [
      "{1, 2, 3, 4}\n"
     ]
    }
   ],
   "source": [
    "aibe = {1, 2, 3}\n",
    "aibe.add(4)\n",
    "print(aibe)  # {1, 2, 3, 4}"
   ]
  },
  {
   "cell_type": "markdown",
   "metadata": {},
   "source": [
    "### Greitas uždavinys 1\n",
    "\n",
    "1. Sukurkite aibę su skaičiais.\n",
    "1. Pridėkite keletą skaičių į aibę.\n",
    "1. Atspausdinkite aibę su pridėtais naujais skaičiais."
   ]
  },
  {
   "cell_type": "code",
   "execution_count": 3,
   "metadata": {},
   "outputs": [
    {
     "name": "stdout",
     "output_type": "stream",
     "text": [
      "{99, 5, 6, 8, 159}\n"
     ]
    }
   ],
   "source": [
    "aibe ={5,6,8,99}\n",
    "aibe.add(159)\n",
    "print(aibe)"
   ]
  },
  {
   "cell_type": "code",
   "execution_count": 4,
   "metadata": {},
   "outputs": [
    {
     "name": "stdout",
     "output_type": "stream",
     "text": [
      "{99, 5, 6, 78, 155}\n"
     ]
    }
   ],
   "source": [
    "aibe ={5,6,78,99}\n",
    "aibe.add(155)\n",
    "print(aibe)"
   ]
  },
  {
   "cell_type": "markdown",
   "metadata": {},
   "source": [
    "---\n",
    "\n",
    "`update()` - prideda kitą aibę arba sąrašą į aibę:"
   ]
  },
  {
   "cell_type": "code",
   "execution_count": null,
   "metadata": {},
   "outputs": [],
   "source": [
    "aibe = {1, 2, 3}\n",
    "sarasas = [3, 4, 5]\n",
    "aibe.update(sarasas)\n",
    "print(aibe)  # {1, 2, 3, 4, 5}"
   ]
  },
  {
   "cell_type": "markdown",
   "metadata": {},
   "source": [
    "❗ Aibėje negali būti saugomi pasikartojantys elementai. \n",
    "\n",
    "Jeigu bandote pridėti elementą, kuris jau yra aibėje, jis tiesiog nebus pridėtas ir nieko neįvyks."
   ]
  },
  {
   "cell_type": "markdown",
   "metadata": {},
   "source": [
    "### Greitas uždavinys 2\n",
    "\n",
    "Sukurkite dvi aibes su keliais skirtingais ir vienodais elementais. Sujunkite abi aibes ir atspausdinkite rezultatą."
   ]
  },
  {
   "cell_type": "code",
   "execution_count": 10,
   "metadata": {},
   "outputs": [
    {
     "name": "stdout",
     "output_type": "stream",
     "text": [
      "{84545, 1, 4558, 564, 569}\n"
     ]
    }
   ],
   "source": [
    "vienas = {1,569,564}\n",
    "antras = [84545,4558,1]\n",
    "vienas.update(antras)\n",
    "print (vienas)"
   ]
  },
  {
   "cell_type": "markdown",
   "metadata": {},
   "source": [
    "---\n",
    "\n",
    "`remove()` - pašalina elementą iš aibės. Jeigu elemento nėra aibėje, išmetamas `KeyError` klaidos pranešimas:"
   ]
  },
  {
   "cell_type": "code",
   "execution_count": 6,
   "metadata": {},
   "outputs": [
    {
     "name": "stdout",
     "output_type": "stream",
     "text": [
      "{1, 3}\n"
     ]
    }
   ],
   "source": [
    "aibe = {1, 2, 3}\n",
    "aibe.remove(2)\n",
    "print(aibe)  # {1, 3}"
   ]
  },
  {
   "cell_type": "markdown",
   "metadata": {},
   "source": [
    "`discard()` - pašalina elementą iš aibės. Jeigu elemento nėra aibėje, jokio klaidos pranešimo nėra:"
   ]
  },
  {
   "cell_type": "code",
   "execution_count": 7,
   "metadata": {},
   "outputs": [
    {
     "name": "stdout",
     "output_type": "stream",
     "text": [
      "{1, 3}\n"
     ]
    }
   ],
   "source": [
    "aibe = {1, 2, 3}\n",
    "aibe.discard(2)\n",
    "print(aibe)  # {1, 3}\n",
    "aibe.discard(4)\n",
    "print(aibe)\n"
   ]
  },
  {
   "cell_type": "markdown",
   "metadata": {},
   "source": [
    "### Greitas uždavinys 3\n",
    "\n",
    "**Instrukcijos**:\n",
    "\n",
    "1. Sukurkite aibę su skaičiais.\n",
    "1. Pašalinkite keletą skaičių iš aibės.\n",
    "1. Atspausdinkite atnaujintą aibę."
   ]
  },
  {
   "cell_type": "code",
   "execution_count": 17,
   "metadata": {},
   "outputs": [
    {
     "name": "stdout",
     "output_type": "stream",
     "text": [
      "{1, 99}\n",
      "{1, 99}\n"
     ]
    }
   ],
   "source": [
    "aibe= {1,55,99}\n",
    "aibe.remove(55)\n",
    "print(aibe)\n",
    "aibe.discard(55)\n",
    "print(aibe)"
   ]
  },
  {
   "cell_type": "code",
   "execution_count": 21,
   "metadata": {},
   "outputs": [
    {
     "name": "stdout",
     "output_type": "stream",
     "text": [
      "{1, 99}\n",
      "{1, 99}\n",
      "{99}\n"
     ]
    }
   ],
   "source": [
    "aibe= {1,55,99}\n",
    "aibe.discard(55)\n",
    "print(aibe)\n",
    "aibe.discard(0)\n",
    "print(aibe)\n",
    "aibe.remove(1)\n",
    "print(aibe)"
   ]
  },
  {
   "cell_type": "markdown",
   "metadata": {},
   "source": [
    "---\n",
    "\n",
    "`pop()` - pašalina ir grąžina bet kurį elementą iš aibės. Jeigu aibė yra tuščia, išmetamas `KeyError` klaidos pranešimas:"
   ]
  },
  {
   "cell_type": "code",
   "execution_count": 14,
   "metadata": {},
   "outputs": [
    {
     "name": "stdout",
     "output_type": "stream",
     "text": [
      "{2, 3}\n",
      "1\n"
     ]
    }
   ],
   "source": [
    "aibe = {51, -5, 0, 1, 2, 3, 4, 5, 9, 11}\n",
    "elementas = aibe.pop()\n",
    "print(aibe)  # {2, 3}\n",
    "print(elementas)  # 1"
   ]
  },
  {
   "cell_type": "markdown",
   "metadata": {},
   "source": [
    "### Greitas uždavinys 4\n",
    "\n",
    "Sukurkite aibę skaičių. Ištraukite bet kokį element1 iš aibės ir jį atspausdinkite. Taip pat atspausdinkite likusią aibę."
   ]
  },
  {
   "cell_type": "code",
   "execution_count": 34,
   "metadata": {},
   "outputs": [
    {
     "name": "stdout",
     "output_type": "stream",
     "text": [
      "{1, 0, 5, 7, 154545454, 15}\n",
      "192\n",
      "{0, 5, 7, 154545454, 15} 1\n"
     ]
    }
   ],
   "source": [
    "aibe = {1,15,192,154545454,5,7,0}\n",
    "elementas = aibe.pop()\n",
    "print(aibe)\n",
    "print(elementas)\n",
    "elementas = aibe.pop()\n",
    "print(aibe, elementas)"
   ]
  },
  {
   "cell_type": "markdown",
   "metadata": {},
   "source": [
    "---\n",
    "\n",
    "`clear()` - pašalina visus elementus iš aibės:"
   ]
  },
  {
   "cell_type": "code",
   "execution_count": 35,
   "metadata": {},
   "outputs": [
    {
     "name": "stdout",
     "output_type": "stream",
     "text": [
      "set()\n"
     ]
    }
   ],
   "source": [
    "aibe = {1, 2, 3}\n",
    "aibe.clear()\n",
    "print(aibe)  # set()"
   ]
  },
  {
   "cell_type": "markdown",
   "metadata": {},
   "source": [
    "`copy()` - grąžina aibės kopiją:"
   ]
  },
  {
   "cell_type": "code",
   "execution_count": 36,
   "metadata": {},
   "outputs": [
    {
     "name": "stdout",
     "output_type": "stream",
     "text": [
      "{1, 2, 3}\n"
     ]
    }
   ],
   "source": [
    "aibe = {1, 2, 3}\n",
    "kopija = aibe.copy()\n",
    "aibe = {3, 4, 5}\n",
    "print(aibe, kopija)  # {1, 2, 3}"
   ]
  },
  {
   "cell_type": "markdown",
   "metadata": {},
   "source": [
    "`union()` - sujungia aibes be pasikantojančių elementų:"
   ]
  },
  {
   "cell_type": "code",
   "execution_count": 37,
   "metadata": {},
   "outputs": [
    {
     "name": "stdout",
     "output_type": "stream",
     "text": [
      "{1, 2, 3, 4, 5}\n"
     ]
    }
   ],
   "source": [
    "aibe1 = {1, 2, 3}\n",
    "aibe2 = {3, 4, 5}\n",
    "aibe3 = aibe1.union(aibe2)\n",
    "print(aibe3, aibe1, aibe2)  # {1, 2, 3, 4, 5}"
   ]
  },
  {
   "cell_type": "markdown",
   "metadata": {},
   "source": [
    "`intersection()` - grąžina visus elementus, kurie yra abiejose aibėse:"
   ]
  },
  {
   "cell_type": "code",
   "execution_count": 38,
   "metadata": {},
   "outputs": [
    {
     "name": "stdout",
     "output_type": "stream",
     "text": [
      "{3}\n"
     ]
    }
   ],
   "source": [
    "aibe1 = {1, 2, 3, 5}\n",
    "aibe2 = {3, 4, 5, 2}\n",
    "aibe4 = aibe1.intersection(aibe2)\n",
    "print(aibe4)  # {3}"
   ]
  },
  {
   "cell_type": "markdown",
   "metadata": {},
   "source": [
    "### Greitas uždavinys 5\n",
    "\n",
    "**Instrukcijos**\n",
    "\n",
    "- Sukurkite dvi aibes su skirtingu kiekiu elementų, iš kurių keli sutampa.\n",
    "- Atspausdinkite tų aibių uniją (union).\n",
    "- Atspausdinkite tų aibių sankirtą (intersection)"
   ]
  },
  {
   "cell_type": "code",
   "execution_count": 42,
   "metadata": {},
   "outputs": [
    {
     "name": "stdout",
     "output_type": "stream",
     "text": [
      "{1, 99, 852, 5, 55, 120, 159}\n",
      "{159}\n"
     ]
    }
   ],
   "source": [
    "aibe = {1,5,99,852, 159}\n",
    "aibute = {159,159,120,55}\n",
    "aibelyte = aibe.union(aibute)\n",
    "print(aibelyte)\n",
    "aibem = aibe.intersection(aibute)\n",
    "print(aibem)"
   ]
  },
  {
   "cell_type": "markdown",
   "metadata": {},
   "source": [
    "---\n",
    "\n",
    "`difference()` - grąžina visus elementus, kurie yra pirmoje aibėje, bet nėra antroje aibėje:"
   ]
  },
  {
   "cell_type": "code",
   "execution_count": 43,
   "metadata": {},
   "outputs": [
    {
     "name": "stdout",
     "output_type": "stream",
     "text": [
      "{1, 2}\n"
     ]
    }
   ],
   "source": [
    "aibe1 = {1, 2, 3, 5}\n",
    "aibe2 = {3, 4, 6, 1}\n",
    "print(aibe1.difference(aibe2))  # {2, 5}\n",
    "print(aibe2.difference(aibe1))  # {4, 6}"
   ]
  },
  {
   "cell_type": "markdown",
   "metadata": {},
   "source": [
    "### Greitas uždavinys 6\n",
    "\n",
    "**Instrukcijos**:\n",
    "\n",
    "- Sukurkite dvi aibes su skirtingu kiekiu elementų, iš kurių keli sutampa.\n",
    "- atspausdinkite tik tuos elementus pirmosios aibės, kurie nesutampa su antrosios aibės elementais.\n",
    "- atspausdinkite tik tuos elementus antrosios aibės, kurie nesutampa su pirmosios aibės elementais."
   ]
  },
  {
   "cell_type": "code",
   "execution_count": 49,
   "metadata": {},
   "outputs": [
    {
     "name": "stdout",
     "output_type": "stream",
     "text": [
      "{99, 852, 5}\n",
      "{8, 120, 55}\n"
     ]
    }
   ],
   "source": [
    "aibe = {1, 5, 99, 852, 159}\n",
    "aibute = {159, 1, 120, 55, 8}\n",
    "print(aibe.difference(aibute))\n",
    "print(aibute.difference(aibe))"
   ]
  },
  {
   "cell_type": "markdown",
   "metadata": {},
   "source": [
    "---\n",
    "\n",
    "`symmetric_difference()` - Symetrinio skirtumo aibės metodas grąžina naują aibę, kurią sudaro elementai, esantys vienoje arba kitoje aibėje, bet ne abiejose."
   ]
  },
  {
   "cell_type": "code",
   "execution_count": 51,
   "metadata": {},
   "outputs": [
    {
     "name": "stdout",
     "output_type": "stream",
     "text": [
      "{1, 2, 4, 5}\n"
     ]
    }
   ],
   "source": [
    "aibe1 = {1, 2, 3}\n",
    "aibe2 = {3, 4, 5}\n",
    "\n",
    "sym_skirtumas = aibe1.symmetric_difference(aibe2)\n",
    "print(sym_skirtumas)  # {1, 2, 4, 5}"
   ]
  },
  {
   "cell_type": "markdown",
   "metadata": {},
   "source": [
    "### Greitas uždavinys 7\n",
    "\n",
    "**Instrukcijos**:\n",
    "\n",
    "- Sukurkite dvi aibes su skirtingu kiekiu elementų, iš kurių keli sutampa.\n",
    "- atspausdinkite tik tuos elementus, kurie nesikartoja abejose aibėse."
   ]
  },
  {
   "cell_type": "code",
   "execution_count": 54,
   "metadata": {},
   "outputs": [
    {
     "name": "stdout",
     "output_type": "stream",
     "text": [
      "{99, 852, 5, 55, 8, 120}\n",
      "{99, 852, 5, 55, 8, 120}\n"
     ]
    }
   ],
   "source": [
    "aibe = {1, 5, 99, 852, 159}\n",
    "aibute = {159, 1, 120, 55, 8}\n",
    "aibelyte = aibe.symmetric_difference(aibute)\n",
    "print(aibelyte)\n",
    "print(aibe.symmetric_difference(aibute))\n"
   ]
  },
  {
   "cell_type": "markdown",
   "metadata": {},
   "source": [
    "---\n",
    "\n",
    "## Aibių operatoriai\n",
    "\n",
    "Sąjunga (`|`):\n",
    "- Jungia dvi aibes, įtraukiant visas unikalias abiejų aibių reikšmes. Atitinka aibės metodą `.union()`\n",
    "\n",
    "Sankirta (`&`):\n",
    "- Atranda bendras reikšmes dviejose aibėse. Atitinka aibės metoda `.intersection()`\n",
    "\n",
    "Skirtumas (`-`):\n",
    "- Atima antrosios aibės elementus iš pirmosios aibės. Atitinka aibės metodą `.difference()`\n",
    "\n",
    "Simetrinis Skirtumas (`^`):\n",
    "- Atranda elementus, unikalius kiekvienai aibei, neįtraukiant bendrų elementų. Atitinka aibės metodą `.symmetric_difference()`"
   ]
  },
  {
   "cell_type": "code",
   "execution_count": 55,
   "metadata": {},
   "outputs": [
    {
     "name": "stdout",
     "output_type": "stream",
     "text": [
      "{1, 2, 3, 4, 5}\n",
      "{3}\n",
      "{1, 2}\n",
      "{1, 2, 4, 5}\n"
     ]
    }
   ],
   "source": [
    "aibe1 = {1, 2, 3}\n",
    "aibe2 = {3, 4, 5}\n",
    "\n",
    "sujungimas = aibe1 | aibe2\n",
    "print(sujungimas)\n",
    "# Rezultatas: {1, 2, 3, 4, 5}\n",
    "\n",
    "sankirta = aibe1 & aibe2\n",
    "print(sankirta)\n",
    "# Rezultatas: {3}\n",
    "\n",
    "skirtumas = aibe1 - aibe2\n",
    "print(skirtumas)\n",
    "# Rezultatas: {1, 2}\n",
    "\n",
    "simetrinis_skirtumas = aibe1 ^ aibe2\n",
    "print(simetrinis_skirtumas)\n",
    "# Rezultatas: {1, 2, 4, 5}"
   ]
  },
  {
   "cell_type": "markdown",
   "metadata": {},
   "source": [
    "Šie operatoriai leidžia atlikti greitesnes ir efektyviasnes aibių operacijas Python programavimo kalboje."
   ]
  },
  {
   "cell_type": "markdown",
   "metadata": {},
   "source": [
    "### Greitas uždavinys 8\n",
    "\n",
    "**Instrukcijos**:\n",
    "\n",
    "- Sukurkite dvi aibes su skirtingu kiekiu elementų, iš kurių keli sutampa.\n",
    "- atspausdinkite šių aibių sujungimą, sankirtą, skirtumą ir simetrinį skirtumą atskirose eilutėse."
   ]
  },
  {
   "cell_type": "code",
   "execution_count": 58,
   "metadata": {},
   "outputs": [
    {
     "name": "stdout",
     "output_type": "stream",
     "text": [
      "{1, 99, 5, 8, 852, 55, 120, 159}\n",
      "{1, 159}\n",
      "{99, 852, 5}\n",
      "{8, 120, 55}\n",
      "{99, 852, 5, 55, 8, 120}\n"
     ]
    }
   ],
   "source": [
    "aibe = {1, 5, 99, 852, 159}\n",
    "aibute = {159, 1, 120, 55, 8}\n",
    "\n",
    "sujungimas = aibe | aibute\n",
    "print(sujungimas)\n",
    "\n",
    "sankirta = aibe & aibute\n",
    "print(sankirta)\n",
    "\n",
    "skirtumas = aibe - aibute\n",
    "print(skirtumas)\n",
    "skirtumas1 = aibute - aibe\n",
    "print(skirtumas1)\n",
    "\n",
    "simetrinis_skirtumas = aibe ^ aibute\n",
    "print(simetrinis_skirtumas)"
   ]
  },
  {
   "cell_type": "markdown",
   "metadata": {},
   "source": [
    "---\n",
    "\n",
    "## Aibių iteravimas\n",
    "\n",
    "Aibės yra iteruojamos struktūros, kurias galima lengvai peržiūrėti su ciklais arba įvairiais aibių metodais.\n",
    "\n",
    "**Pavyzdžiui**:"
   ]
  },
  {
   "cell_type": "code",
   "execution_count": 59,
   "metadata": {},
   "outputs": [
    {
     "name": "stdout",
     "output_type": "stream",
     "text": [
      "1\n",
      "2\n",
      "3\n"
     ]
    }
   ],
   "source": [
    "aibe = {1, 2, 3}\n",
    "for elementas in aibe:\n",
    "    print(elementas)"
   ]
  },
  {
   "cell_type": "markdown",
   "metadata": {},
   "source": [
    "## Aibių manipuliavimas\n",
    "Aibes galima transformuoti į kitus duomenų struktūrų tipus, tokius kaip sąrašai ir tuplai, bei atvirkščiai. \n",
    "\n",
    "Pažiūrėkime į kai kuriuos pavyzdžius:"
   ]
  },
  {
   "cell_type": "code",
   "execution_count": 60,
   "metadata": {},
   "outputs": [
    {
     "name": "stdout",
     "output_type": "stream",
     "text": [
      "mano aibė kaip sąrašas: [1, 2, 3] <class 'list'>\n",
      "mano aibė kaip tuplas: (1, 2, 3) <class 'tuple'>\n",
      "mano sąrašas kaip aibė: {1, 2, 3} <class 'set'>\n",
      "mano tuplė kaip aibė: {1, 2, 3} <class 'set'>\n"
     ]
    }
   ],
   "source": [
    "# Sukuriama aibė\n",
    "mano_aibe = {1, 2, 3}\n",
    "\n",
    "# Konvertuojame aibę į sąrašą\n",
    "print(\"mano aibė kaip sąrašas:\", list(mano_aibe), type(list(mano_aibe)))  # [1, 2, 3] <class 'list'>\n",
    "\n",
    "# Konvertuojame aibę į tuplą\n",
    "print(\"mano aibė kaip tuplas:\", tuple(mano_aibe), type(tuple(mano_aibe)))  # (1, 2, 3) <class 'tuple'>\n",
    "\n",
    "# Konvertuojame sąrašą ir tuplą į aibę\n",
    "mano_sarasas = [1, 2, 3]\n",
    "mano_tuple = (1, 2, 3)\n",
    "\n",
    "print(\"mano sąrašas kaip aibė:\", set(mano_sarasas), type(set(mano_sarasas)))  # {1, 2, 3} <class 'set'>\n",
    "print(\"mano tuplė kaip aibė:\", set(mano_tuple), type(set(mano_tuple)))  # {1, 2, 3} <class 'set'>"
   ]
  },
  {
   "cell_type": "code",
   "execution_count": null,
   "metadata": {},
   "outputs": [],
   "source": [
    "sventes = {\n",
    "    'Kaledos': 'Gruodzio 25-26',\n",
    "    'Nauji Metai': 'Sausio 1',\n",
    "    'Jonines': 'Birzelio 24',\n",
    "}\n",
    "\n",
    "print(set(sventes.keys()))\n",
    "print(set(sventes.values()))"
   ]
  },
  {
   "cell_type": "markdown",
   "metadata": {},
   "source": [
    "# `Papildomas uždavinys`\n",
    "\n",
    "**Instrukcijos**:\n",
    "\n",
    "1. Pasinaudodami paskutine aibe, kurią sukūrėte, pakelkite kvadratu visus jos skaičius.\n",
    "1. Spausdinkite rezultatą."
   ]
  },
  {
   "cell_type": "code",
   "execution_count": 63,
   "metadata": {},
   "outputs": [
    {
     "name": "stdout",
     "output_type": "stream",
     "text": [
      "aibės elementai kvadratu: {1, 25281, 9801, 725904, 25}\n"
     ]
    }
   ],
   "source": [
    "aibe = {1, 5, 99, 852, 159}\n",
    "\n",
    "aibute= set()\n",
    "for number in aibe:\n",
    "    aibute.add(number ** 2)\n",
    "print('aibės elementai kvadratu:', aibute)"
   ]
  },
  {
   "cell_type": "markdown",
   "metadata": {},
   "source": [
    "Donatas Noreika informacijoje"
   ]
  },
  {
   "cell_type": "code",
   "execution_count": 6,
   "metadata": {},
   "outputs": [
    {
     "name": "stdout",
     "output_type": "stream",
     "text": [
      "50012120453\n",
      "50012125122\n",
      "49512125001\n",
      "50012319551\n",
      "49202280018\n",
      "51002280226\n"
     ]
    }
   ],
   "source": [
    "def gauti_ak_kontrolini(kodas):\n",
    "    kodas_str = str(kodas)\n",
    "    A = int(kodas_str[0])\n",
    "    B = int(kodas_str[1])\n",
    "    C = int(kodas_str[2])\n",
    "    D = int(kodas_str[3])\n",
    "    E = int(kodas_str[4])\n",
    "    F = int(kodas_str[5])\n",
    "    G = int(kodas_str[6])\n",
    "    H = int(kodas_str[7])\n",
    "    I = int(kodas_str[8])\n",
    "    J = int(kodas_str[9])\n",
    "    S = A * 1 + B * 2 + C * 3 + D * 4 + E * 5 + F * 6 + G * 7 + H * 8 + I * 9 + J * 1\n",
    "    if S % 11 != 10:\n",
    "        kontrolinis = S % 11\n",
    "    else:\n",
    "        S = A * 3 + B * 4 + C * 5 + D * 6 + E * 7 + F * 8 + G * 9 + H * 1 + I * 2 + J * 3\n",
    "        if S % 11 != 10:\n",
    "            kontrolinis = S % 11\n",
    "        else:\n",
    "            kontrolinis = 0\n",
    "    return kontrolinis\n",
    "\n",
    "def ak_validavimas(kodas):\n",
    "    K = int(str(kodas)[-1])\n",
    "    return gauti_ak_kontrolini(kodas) == K\n",
    "\n",
    "\n",
    "# print(ak_validavimas(40204219251))\n",
    "# print(ak_validavimas(49508079556))\n",
    "\n",
    "def ak_generavimas(lytis, data, eilesnr):\n",
    "    data_split = data.split(\"-\")\n",
    "    metai1 = data_split[0][:2]\n",
    "\n",
    "    if lytis == \"vyras\":\n",
    "        pirmas_skaicius = str((int(metai1) - 18) * 2 + 1)\n",
    "    else:\n",
    "        pirmas_skaicius = str((int(metai1) - 18) * 2 + 2)\n",
    "\n",
    "    metai2 = data_split[0][2:]\n",
    "    menuo = data_split[1]\n",
    "    diena = data_split[2]\n",
    "    be_paskutinio = pirmas_skaicius + metai2 + menuo + diena + eilesnr\n",
    "    return int(be_paskutinio + str(gauti_ak_kontrolini(be_paskutinio)))\n",
    "\n",
    "print(ak_generavimas(\"vyras\", \"2000-12-12\", \"045\"))\n",
    "print(ak_generavimas(\"vyras\", \"2000-12-12\", \"512\"))\n",
    "print(ak_generavimas(\"moteris\", \"1995-12-12\", \"500\"))\n",
    "\n",
    "# Alternatyva (papildytas variantas su datos patikrinimu ir eilės numerio konvertavimu į stringą (pvz. 1 į 001)):\n",
    "\n",
    "import datetime\n",
    "\n",
    "def gauti_kontrolini(asmens_kodas: int):\n",
    "    kodas_str = str(asmens_kodas)\n",
    "    A = int(kodas_str[0])\n",
    "    B = int(kodas_str[1])\n",
    "    C = int(kodas_str[2])\n",
    "    D = int(kodas_str[3])\n",
    "    E = int(kodas_str[4])\n",
    "    F = int(kodas_str[5])\n",
    "    G = int(kodas_str[6])\n",
    "    H = int(kodas_str[7])\n",
    "    I = int(kodas_str[8])\n",
    "    J = int(kodas_str[9])\n",
    "    S = A * 1 + B * 2 + C * 3 + D * 4 + E * 5 + F * 6 + G * 7 + H * 8 + I * 9 + J * 1\n",
    "    if S % 11 != 10:\n",
    "        return S % 11\n",
    "    else:\n",
    "        S = A * 3 + B * 4 + C * 5 + D * 6 + E * 7 + F * 8 + G * 9 + H * 1 + I * 2 + J * 3\n",
    "        if S % 11 != 10:\n",
    "            return S % 11\n",
    "        else:\n",
    "            return 0\n",
    "\n",
    "\n",
    "def ar_validus(asmens_kodas: int):\n",
    "    return int(str(asmens_kodas)[-1]) == gauti_kontrolini(asmens_kodas)\n",
    "\n",
    "# print(ar_validus(60808119589))\n",
    "# print(ar_validus(36609239182))\n",
    "# print(ar_validus(45303278696))\n",
    "\n",
    "def generuoti_ak(lytis: str, gimimo_data: str, eiles_nr: int) -> int:\n",
    "    \"\"\"\n",
    "\n",
    "    :param lytis: \"vyras\" arba \"moteris\"\n",
    "    :param gimimo_data: formatas: YYYY-MM-DD\n",
    "    :param eiles_nr: sveikas skaičius iki 999\n",
    "    :return:\n",
    "    \"\"\"\n",
    "    try:\n",
    "        datetime.datetime.strptime(gimimo_data, \"%Y-%m-%d\")\n",
    "    except:\n",
    "        return \"Neteisingai įvesta data\"\n",
    "    data_split = gimimo_data.split(\"-\")\n",
    "    metai1 = data_split[0][:2]\n",
    "    if lytis == \"vyras\":\n",
    "        pirmas_skaicius = str((int(metai1) - 18) * 2 + 1)\n",
    "    else:\n",
    "        pirmas_skaicius = str((int(metai1) - 18) * 2 + 2)\n",
    "\n",
    "    metai2 = data_split[0][2:]\n",
    "    menuo = data_split[1]\n",
    "    diena = data_split[2]\n",
    "    eiles_nr = ((3 - len(str(eiles_nr))) * str(0)) + str(eiles_nr)\n",
    "    be_kontrolinio = pirmas_skaicius + metai2 + menuo + diena + eiles_nr\n",
    "    return int(be_kontrolinio + str(gauti_kontrolini(int(be_kontrolinio))))\n",
    "\n",
    "print(generuoti_ak(\"vyras\", \"2000-12-31\", 955))\n",
    "print(generuoti_ak(\"moteris\", \"1992-02-28\", 1))\n",
    "print(generuoti_ak(\"vyras\", \"2010-02-28\", 22))"
   ]
  },
  {
   "cell_type": "markdown",
   "metadata": {},
   "source": [
    "Kažką čia Chatgpt bandė (apačioje)"
   ]
  },
  {
   "cell_type": "code",
   "execution_count": 9,
   "metadata": {},
   "outputs": [
    {
     "name": "stdout",
     "output_type": "stream",
     "text": [
      "False\n",
      "False\n"
     ]
    }
   ],
   "source": [
    "def patikrinti_asmens_koda(asmens_kodas):\n",
    "    if len(asmens_kodas) != 11:\n",
    "        return False  # Jei asmens kodas neturi 11 simbolių, jis neteisingas\n",
    "\n",
    "    skaiciai = [int(asmens_kodas[i]) for i in range(10)]\n",
    "    kontrolinis_skaicius = int(asmens_kodas[10])\n",
    "\n",
    "    s = 0\n",
    "    for i in range(0, 9):\n",
    "        s += skaiciai[i] * (i + 1)\n",
    "\n",
    "    s += skaiciai[8] * 9  # Specialus atvejis paskutiniam simboliui\n",
    "\n",
    "    if s % 11 == kontrolinis_skaicius:\n",
    "        return True  # Jei paskutinis skaičius sutampa su skaičiumi iš asmens kodo, jis teisingas\n",
    "    else:\n",
    "        return False\n",
    "\n",
    "# Pavyzdžiai patikrinimui\n",
    "asmens_kodas1 = \"49701170887\"\n",
    "asmens_kodas2 = \"49701170527\"\n",
    "\n",
    "print(patikrinti_asmens_koda(asmens_kodas1))  # Turėtų grąžinti True\n",
    "print(patikrinti_asmens_koda(asmens_kodas2))  # Turėtų grąžinti False"
   ]
  },
  {
   "cell_type": "code",
   "execution_count": 12,
   "metadata": {},
   "outputs": [
    {
     "name": "stdout",
     "output_type": "stream",
     "text": [
      "menuo: 1\n",
      "diena 17\n",
      "kontorlinis: 150 7\n",
      "TEISINGAS\n",
      "viso gero :)\n"
     ]
    }
   ],
   "source": [
    "while True:\n",
    "    asmens_kodas = input(\"Įveskite asmens kodą arba 0 kad išeiti: \")\n",
    "    if asmens_kodas == '0':\n",
    "        print('viso gero :)')\n",
    "        break\n",
    "    # ar visi skaičiai ir ar jų 11?\n",
    "    if not asmens_kodas.isnumeric() or len(asmens_kodas) != 11:\n",
    "        print('Neteisingas: turi būti 11 skaitmenų skaičius.')\n",
    "        continue\n",
    "    menuo = int(asmens_kodas[3:5])\n",
    "    print('menuo:', menuo)\n",
    "    if menuo < 1 or menuo > 12:\n",
    "        print('Neteisingas: mėmnuo gimimo datoje negali būti didesnis už 12 arba lygus 0.')\n",
    "        continue\n",
    "    diena = int(asmens_kodas[5:7])\n",
    "    print('diena', diena)\n",
    "    # TODO: patikrini priklausomai nuo mėnesio\n",
    "    if diena < 1 or diena > 31:\n",
    "        print('Neteisingas: diena gimimo datoje negali būti didesnė už 31 arba lygus 0.')\n",
    "        continue\n",
    "    # Paskutinio skaičiaus tikrinimas\n",
    "    daugikliai = '1234567891'\n",
    "    kiti_daugikliai = '3456789123'\n",
    "    kontrolinis = 0\n",
    "    for daugiklio_nr, skaitmuo in enumerate(asmens_kodas[:10]):\n",
    "        kontrolinis += int(skaitmuo) * int(daugikliai[daugiklio_nr])\n",
    "    print('kontorlinis:', kontrolinis, kontrolinis % 11)\n",
    "    if kontrolinis % 11 == 10:\n",
    "        kontrolinis = 0\n",
    "        for daugiklio_nr, skaitmuo in enumerate(asmens_kodas[:10]):\n",
    "            kontrolinis += int(skaitmuo) * int(kiti_daugikliai[daugiklio_nr])\n",
    "        print('kitas kontorlinis:', kontrolinis, kontrolinis % 11)\n",
    "    tikrinamas = kontrolinis % 11\n",
    "    if tikrinamas == 10:\n",
    "        tikrinamas = 0\n",
    "    paskutinis = int(asmens_kodas[10])\n",
    "    if paskutinis != tikrinamas:\n",
    "        print('Neteisingas: paskutinis skaičius klaidingas.')\n",
    "        continue\n",
    "    print('TEISINGAS')"
   ]
  },
  {
   "cell_type": "markdown",
   "metadata": {},
   "source": [
    "### Daugiau apie aibes:\n",
    "[Kodėl aibės yra tokios](https://www.youtube.com/watch?v=Gp-qih4T9tA),\n",
    "\n",
    "[Visi aibių metodai](https://www.w3schools.com/python/python_sets_methods.asp),\n",
    "\n",
    "[Oficiali Python dokumentacija](https://docs.python.org/3/tutorial/datastructures.html#sets). \n",
    "- Net jei iš karto nesuprasite visų nuansų, tai ateityje bus esminė informacija."
   ]
  }
 ],
 "metadata": {
  "kernelspec": {
   "display_name": "venv",
   "language": "python",
   "name": "python3"
  },
  "language_info": {
   "codemirror_mode": {
    "name": "ipython",
    "version": 3
   },
   "file_extension": ".py",
   "mimetype": "text/x-python",
   "name": "python",
   "nbconvert_exporter": "python",
   "pygments_lexer": "ipython3",
   "version": "3.12.1"
  }
 },
 "nbformat": 4,
 "nbformat_minor": 2
}
