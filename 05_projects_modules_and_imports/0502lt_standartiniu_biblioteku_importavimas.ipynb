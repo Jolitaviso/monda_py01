{
 "cells": [
  {
   "cell_type": "markdown",
   "metadata": {},
   "source": [
    "# Standartinių bibliotekų importavimas"
   ]
  },
  {
   "cell_type": "markdown",
   "metadata": {},
   "source": [
    "## import this - \"The Zen of Python\" (Python'o dvasia)"
   ]
  },
  {
   "cell_type": "markdown",
   "metadata": {},
   "source": [
    "\"The Zen of Python\" (liet. „Python'o Dvasia“) yra Python programavimo kalbos filosofiją atspindinti poema, kurią sukūrė Tim Peters. Norėdami ją pamatyti, įvykdykite šią komandą:"
   ]
  },
  {
   "cell_type": "code",
   "execution_count": 1,
   "metadata": {},
   "outputs": [
    {
     "name": "stdout",
     "output_type": "stream",
     "text": [
      "The Zen of Python, by Tim Peters\n",
      "\n",
      "Beautiful is better than ugly.\n",
      "Explicit is better than implicit.\n",
      "Simple is better than complex.\n",
      "Complex is better than complicated.\n",
      "Flat is better than nested.\n",
      "Sparse is better than dense.\n",
      "Readability counts.\n",
      "Special cases aren't special enough to break the rules.\n",
      "Although practicality beats purity.\n",
      "Errors should never pass silently.\n",
      "Unless explicitly silenced.\n",
      "In the face of ambiguity, refuse the temptation to guess.\n",
      "There should be one-- and preferably only one --obvious way to do it.\n",
      "Although that way may not be obvious at first unless you're Dutch.\n",
      "Now is better than never.\n",
      "Although never is often better than *right* now.\n",
      "If the implementation is hard to explain, it's a bad idea.\n",
      "If the implementation is easy to explain, it may be a good idea.\n",
      "Namespaces are one honking great idea -- let's do more of those!\n"
     ]
    }
   ],
   "source": [
    "import this"
   ]
  },
  {
   "cell_type": "markdown",
   "metadata": {},
   "source": [
    "Poemos pagrindiniai principai pabrėžia:\n",
    "\n",
    "- Aiškumas yra geriau už dviprasmiškumą.\n",
    "- Paprastumas viršija komplikacijas.\n",
    "- \"Dvigubai geriau\" nėra toks geras kaip \"gerai pakanka\".\n",
    "- Praktika yra svarbesnė už teoriją."
   ]
  },
  {
   "cell_type": "markdown",
   "metadata": {},
   "source": [
    "## `import random` - atsitiktinių skaičių generatoriaus funkcijos"
   ]
  },
  {
   "cell_type": "code",
   "execution_count": 2,
   "metadata": {},
   "outputs": [
    {
     "name": "stdout",
     "output_type": "stream",
     "text": [
      "0.44771258622445465\n",
      "1\n",
      "c\n"
     ]
    }
   ],
   "source": [
    "import random\n",
    "\n",
    "# generuoja atsitiktinį (float) skaičių tarp 0.0 ir 1.0.\n",
    "print(random.random())\n",
    "\n",
    "# generuoja atsitiktinį sveikąjį skaičių (int) tarp 1 ir 10 imtinai.\n",
    "print(random.randint(1, 10))\n",
    "\n",
    "# atsitiktinai pasirenka elementą iš sekos, tokių kaip sąrašas.\n",
    "my_list = [\"a\", \"b\", \"c\", \"d\", \"e\"]\n",
    "print(random.choice(my_list))"
   ]
  },
  {
   "cell_type": "markdown",
   "metadata": {},
   "source": [
    "### Greita Užduotis 1: Python Funkcijos Sukūrimas\n",
    "\n",
    "Parašykite Python funkciją pavadinimu `print_and_sort_random_numbers`, kuri atliktų šiuos veiksmus:\n",
    "\n",
    "1. Sugeneruokite 10 atsitiktinių sveikųjų skaičių tarp 1 ir 100.\n",
    "1. Atspausdinkite pradinį atsitiktinių skaičių sąrašą.\n",
    "1. Išrikiuokite sąrašą didėjančia tvarka.\n",
    "1. Atspausdinkite surikiuotą sąrašą."
   ]
  },
  {
   "cell_type": "code",
   "execution_count": 22,
   "metadata": {},
   "outputs": [
    {
     "name": "stdout",
     "output_type": "stream",
     "text": [
      "Atsitiktiniai skaičiai [2, 61, 61, 28, 46, 47, 1, 36, 25, 42]\n",
      "Surušiuoti: [2, 61, 61, 28, 46, 47, 1, 36, 25, 42]\n"
     ]
    }
   ],
   "source": [
    "import random\n",
    "def print_and_sort_random_numbers():\n",
    "    random_numbers = []\n",
    "    for _ in range(10):\n",
    "        random_numbers.append(random.randint(1, 100))\n",
    "    \n",
    "    print(\"Atsitiktiniai skaičiai\", random_numbers)\n",
    "    \n",
    "    random_numbers.sort\n",
    "    \n",
    "    print(\"Surušiuoti:\", random_numbers)\n",
    "    \n",
    "print_and_sort_random_numbers()"
   ]
  },
  {
   "cell_type": "code",
   "execution_count": 12,
   "metadata": {},
   "outputs": [
    {
     "name": "stdout",
     "output_type": "stream",
     "text": [
      "Original list: [5, 18, 67, 24, 52, 66, 96, 66, 72, 55]\n",
      "Sorted list: [5, 18, 24, 52, 55, 66, 66, 67, 72, 96]\n"
     ]
    }
   ],
   "source": [
    "import random\n",
    "\n",
    "def print_and_sort_random_numbers():\n",
    "    # Generate 10 random integers between 1 and 100\n",
    "    random_numbers = [random.randint(1, 100) for _ in range(10)]\n",
    "\n",
    "    # Print the original list of random numbers\n",
    "    print(\"Original list:\", random_numbers)\n",
    "\n",
    "    # Sort the list in ascending order\n",
    "    random_numbers.sort()\n",
    "\n",
    "    # Print the sorted list\n",
    "    print(\"Sorted list:\", random_numbers)\n",
    "\n",
    "# Call the function to see the result\n",
    "print_and_sort_random_numbers()"
   ]
  },
  {
   "cell_type": "markdown",
   "metadata": {},
   "source": [
    "## `import math` - papildomos matematinės funkcijos"
   ]
  },
  {
   "cell_type": "markdown",
   "metadata": {},
   "source": [
    "Python'o `math` biblioteka suteikia prieigą prie papildomų matematinių funkcijų ir konstantų, tokių kaip π (pi) ir e. Štai keletas pavyzdžių:"
   ]
  },
  {
   "cell_type": "code",
   "execution_count": 23,
   "metadata": {},
   "outputs": [
    {
     "name": "stdout",
     "output_type": "stream",
     "text": [
      "1.0\n",
      "120\n",
      "3.0\n"
     ]
    }
   ],
   "source": [
    "import math\n",
    "\n",
    "# funkcija apskaičiuoja sinuso reikšmę\n",
    "print(math.sin(math.pi / 2))\n",
    "\n",
    "# funkcija apskaičiuoja faktorialą\n",
    "print(math.factorial(5))\n",
    "\n",
    "# funkcija apskaičiuoja kvadratinę šaknį\n",
    "print(math.sqrt(9))"
   ]
  },
  {
   "cell_type": "markdown",
   "metadata": {},
   "source": [
    "### Greita užduotis 2: Kauliukų žaidimas\n",
    "\n",
    "Sukurkite kauliukų žaidimą, kuris:\n",
    "\n",
    "- Sugeneruotų tris atsitiktinius skaičius nuo 1 iki 6\n",
    "- Jei vienas iš šių skaičių yra 5, atspausdinti „Pralaimėjai...“\n",
    "- Kitu atveju atspausdinti „Laimėjai!“\n",
    "- Patarimas: Naudokite ciklą"
   ]
  },
  {
   "cell_type": "code",
   "execution_count": 143,
   "metadata": {},
   "outputs": [
    {
     "name": "stdout",
     "output_type": "stream",
     "text": [
      "Jūsų skaičiai: [8, 4, 4]\n",
      "Laimėjote\n"
     ]
    }
   ],
   "source": [
    "import random\n",
    "\n",
    "def print_random_numbers():\n",
    "    random_numbers = []\n",
    "    for _ in range(3):\n",
    "        random_numbers.append(random.randint(1, 16))  \n",
    "    print(\"Jūsų skaičiai:\", random_numbers)\n",
    "    if random_numbers[0] == 5 or random_numbers[1] == 5 or random_numbers[2] == 5: \n",
    "        print(\"Pralaimėjote\")\n",
    "    else:\n",
    "        print(\"Laimėjote\")\n",
    "\n",
    "\n",
    "print_random_numbers()"
   ]
  },
  {
   "cell_type": "code",
   "execution_count": 142,
   "metadata": {},
   "outputs": [
    {
     "name": "stdout",
     "output_type": "stream",
     "text": [
      "Jūsų skaičiai: [12, 5, 9]\n",
      "Pralaimėjote\n"
     ]
    }
   ],
   "source": [
    "import random\n",
    "\n",
    "def print_random_numbers():\n",
    "    random_numbers = []\n",
    "    for _ in range(3):\n",
    "        random_numbers.append(random.randint(1, 16))  \n",
    "    print(\"Jūsų skaičiai:\", random_numbers)\n",
    "    if 5 in random_numbers: \n",
    "        print(\"Pralaimėjote\")\n",
    "    else:\n",
    "        print(\"Laimėjote\")\n",
    "\n",
    "\n",
    "print_random_numbers()"
   ]
  },
  {
   "cell_type": "code",
   "execution_count": 162,
   "metadata": {},
   "outputs": [
    {
     "name": "stdout",
     "output_type": "stream",
     "text": [
      "Kauliuko skaičius: 1\n",
      "Kauliuko skaičius: 2\n",
      "Kauliuko skaičius: 6\n",
      "Laimėjai!\n"
     ]
    }
   ],
   "source": [
    "import random\n",
    "\n",
    "def dice_game():\n",
    "    for _ in range(3):\n",
    "        roll = random.randint(1, 6)\n",
    "        print(f\"Kauliuko skaičius: {roll}\")\n",
    "        \n",
    "\n",
    "        if roll == 5:\n",
    "            print(\"Pralaimėjai...\")\n",
    "            return  \n",
    "        \n",
    "    print(\"Laimėjai!\")\n",
    "\n",
    "\n",
    "dice_game()"
   ]
  },
  {
   "cell_type": "code",
   "execution_count": 52,
   "metadata": {},
   "outputs": [
    {
     "name": "stdout",
     "output_type": "stream",
     "text": [
      "[2, 3, 1]\n",
      "WIN\n"
     ]
    }
   ],
   "source": [
    "#Balio pvz\n",
    "\n",
    "import random\n",
    "def dice_game():\n",
    "    number_list = []\n",
    "    count = 0\n",
    "    got_5 = False\n",
    "    while count <3:\n",
    "        random_number = random.randint(1, 6)\n",
    "        number_list.append(random_number)\n",
    "        count += 1\n",
    "    print(number_list)\n",
    "    for number in number_list:\n",
    "        if number == 5:\n",
    "            got_5 = True\n",
    "            break\n",
    "        else:\n",
    "            pass\n",
    "    if got_5:\n",
    "        print(\"LOSE\")\n",
    "    else:\n",
    "        print(\"WIN\")\n",
    "dice_game()"
   ]
  },
  {
   "cell_type": "code",
   "execution_count": 123,
   "metadata": {},
   "outputs": [
    {
     "name": "stdout",
     "output_type": "stream",
     "text": [
      "Three numbers will be generated.\n",
      "If any of them is 5, you lose!\n",
      "5\n",
      "You lose...\n"
     ]
    }
   ],
   "source": [
    "#example 1\n",
    "import random\n",
    "\n",
    "print('Three numbers will be generated.')\n",
    "print('If any of them is 5, you lose!')\n",
    "\n",
    "for attempt in range(3):\n",
    "    number = random.randint(1, 6)\n",
    "    print(number)\n",
    "    if number == 5:\n",
    "        print('You lose...')\n",
    "        break\n",
    "else:\n",
    "    print('You win!')"
   ]
  },
  {
   "cell_type": "markdown",
   "metadata": {},
   "source": [
    "## `import calendar` - kalendoriaus funkcijos"
   ]
  },
  {
   "cell_type": "markdown",
   "metadata": {},
   "source": [
    "Python'o `calendar` biblioteka suteikia galimybes dirbti su kalendoriais ir atlikti tokias operacijas kaip keliamųjų metų tikrinimą arba savaitės dienos nustatymą pagal datą. Štai keletas pavyzdžių:"
   ]
  },
  {
   "cell_type": "code",
   "execution_count": 164,
   "metadata": {},
   "outputs": [
    {
     "name": "stdout",
     "output_type": "stream",
     "text": [
      "False\n",
      "Tuesday\n",
      "(calendar.SATURDAY, 30)\n",
      "     April 2023\n",
      "Mo Tu We Th Fr Sa Su\n",
      "                1  2\n",
      " 3  4  5  6  7  8  9\n",
      "10 11 12 13 14 15 16\n",
      "17 18 19 20 21 22 23\n",
      "24 25 26 27 28 29 30\n",
      "\n"
     ]
    }
   ],
   "source": [
    "import calendar\n",
    "\n",
    "# Tikrinti, ar metai yra keliamieji\n",
    "print(calendar.isleap(2023))\n",
    "\n",
    "# Gaukite savaitės dienos pavadinimą pagal skaičių\n",
    "print(calendar.day_name[1]) # 'Tuesday'\n",
    "\n",
    "# Gaukite mėnesio dienų skaičių\n",
    "print(calendar.monthrange(2023, 4)) # (5, 30) - pirmoji balandžio diena yra šeštadienis (5), o balandžio mėnesyje yra 30 dienų\n",
    "\n",
    "# Atspausdinti mėnesio kalendorių\n",
    "print(calendar.month(2023, 4))"
   ]
  },
  {
   "cell_type": "markdown",
   "metadata": {},
   "source": [
    "`calendar` biblioteka turi daugiau funkcijų ir savybių, kurios padės jums dirbti su datomis ir laiku. Šie pavyzdžiai yra tik pradžia. Galite rasti daugiau informacijos apie `calendar` biblioteką [Python dokumentacijoje](https://docs.python.org/3/library/calendar.html)."
   ]
  },
  {
   "cell_type": "markdown",
   "metadata": {},
   "source": [
    "### Greita užduotis 3: `calendar` bibliotekos naudojimas"
   ]
  },
  {
   "cell_type": "markdown",
   "metadata": {},
   "source": [
    "Sukurkite Python funkciją, kuri vadinasi `print_month_calendar`.\n",
    "\n",
    "- Funkcija turėtų priimti du parametrus: metai ir menesis.\n",
    "- Funkcijos viduje, naudodami calendar modulį, sugeneruokite ir atspausdinkite nurodyto mėnesio kalendorių.\n",
    "- Apskaičiuokite ir atspausdinkite, kiek yra savaitgalio dienų (šeštadienių ir sekmadienių) nurodytame mėnesyje."
   ]
  },
  {
   "cell_type": "code",
   "execution_count": 203,
   "metadata": {},
   "outputs": [
    {
     "name": "stdout",
     "output_type": "stream",
     "text": [
      "    January 2024\n",
      "Mo Tu We Th Fr Sa Su\n",
      " 1  2  3  4  5  6  7\n",
      " 8  9 10 11 12 13 14\n",
      "15 16 17 18 19 20 21\n",
      "22 23 24 25 26 27 28\n",
      "29 30 31\n",
      "\n",
      "Weekend days: 8\n"
     ]
    }
   ],
   "source": [
    "import calendar\n",
    "\n",
    "def weekend_days_in_month(year, month):\n",
    "    print(calendar.month(year, month))\n",
    "    month_days = calendar.monthrange(year,month)[1]\n",
    "    weekend_days = 0 \n",
    "    for day in range(1, month_days + 1):\n",
    "        if calendar.weekday(year, month, day) in [5, 6]:\n",
    "            weekend_days += 1\n",
    "    print(f'Weekend days: {weekend_days}')\n",
    "    \n",
    "\n",
    "weekend_days_in_month(2024,1)"
   ]
  },
  {
   "cell_type": "code",
   "execution_count": 197,
   "metadata": {},
   "outputs": [
    {
     "name": "stdout",
     "output_type": "stream",
     "text": [
      "    January 2024\n",
      "Mo Tu We Th Fr Sa Su\n",
      " 1  2  3  4  5  6  7\n",
      " 8  9 10 11 12 13 14\n",
      "15 16 17 18 19 20 21\n",
      "22 23 24 25 26 27 28\n",
      "29 30 31\n",
      "Number of weekend days: 8\n"
     ]
    }
   ],
   "source": [
    "import calendar\n",
    "\n",
    "def print_month_calendar(year, month):\n",
    "    cal = calendar.TextCalendar(calendar.MONDAY)\n",
    "    \n",
    "    cal.prmonth(year, month)\n",
    "    \n",
    "    month_days = calendar.monthrange(year, month)[1]\n",
    "    \n",
    "    weekend_days = 0\n",
    "    for i in range(1, month_days + 1):\n",
    "        if calendar.weekday(year, month, i) in [calendar.SATURDAY, calendar.SUNDAY]:\n",
    "            weekend_days += 1\n",
    "\n",
    "    print(f\"Number of weekend days: {weekend_days}\")\n",
    "\n",
    "print_month_calendar(2024, 1)"
   ]
  },
  {
   "cell_type": "code",
   "execution_count": 198,
   "metadata": {},
   "outputs": [
    {
     "name": "stdout",
     "output_type": "stream",
     "text": [
      "    January 2024\n",
      "Mo Tu We Th Fr Sa Su\n",
      " 1  2  3  4  5  6  7\n",
      " 8  9 10 11 12 13 14\n",
      "15 16 17 18 19 20 21\n",
      "22 23 24 25 26 27 28\n",
      "29 30 31\n",
      "\n",
      "Number of weekend days in this month: 8\n"
     ]
    }
   ],
   "source": [
    "import calendar\n",
    "\n",
    "def print_monthly_calendar_counting_weekends(year, month):\n",
    "    print(calendar.month(year, month))\n",
    "    _, month_length = calendar.monthrange(year, month)\n",
    "    weekend_days = 0\n",
    "    for day in range(1, month_length + 1):\n",
    "        day_of_week = calendar.weekday(year, month, day)\n",
    "        if day_of_week == 5 or day_of_week == 6:\n",
    "            weekend_days += 1\n",
    "    print(f\"Number of weekend days in this month: {weekend_days}\")\n",
    "\n",
    "print_monthly_calendar_counting_weekends(2024, 1)"
   ]
  }
 ],
 "metadata": {
  "kernelspec": {
   "display_name": "venv",
   "language": "python",
   "name": "python3"
  },
  "language_info": {
   "codemirror_mode": {
    "name": "ipython",
    "version": 3
   },
   "file_extension": ".py",
   "mimetype": "text/x-python",
   "name": "python",
   "nbconvert_exporter": "python",
   "pygments_lexer": "ipython3",
   "version": "3.12.1"
  }
 },
 "nbformat": 4,
 "nbformat_minor": 2
}
