{
 "cells": [
  {
   "cell_type": "markdown",
   "metadata": {},
   "source": [
    "# Modulių kūrimas, importavimas"
   ]
  },
  {
   "cell_type": "markdown",
   "metadata": {},
   "source": [
    "Modulis yra Python programavimo kalbos sąvoka, apibūdinanti vieną failą, kuriame yra Python kodas. Moduliai padeda organizuoti ir suskirstyti kodą į atskiras dalis pagal funkcionalumą, kad jis būtų lengviau suprantamas ir tvarkingas.\n",
    "\n",
    "Tereikia sukurti naują Python failą (su .py plėtiniu) ir parašyti kodą jame. Pavyzdžiui, sukūrę failą pavadinimu `my_module.py`, mes sukuriame naują modulį, vadinamą `my_module`.\n",
    "\n",
    "Pavyzdys:\n",
    "\n",
    "my_module.py:"
   ]
  },
  {
   "cell_type": "code",
   "execution_count": 4,
   "metadata": {},
   "outputs": [],
   "source": [
    "def greet(name):\n",
    "    return f\"Sveikas, {name}!\"\n",
    "\n",
    "def addition(x, y):\n",
    "    return x + y\n",
    "\n",
    "class MyClass:\n",
    "    def __init__(self, x):\n",
    "        self.x = x\n",
    "\n",
    "    def square(self):\n",
    "        return self.x ** 2"
   ]
  },
  {
   "cell_type": "markdown",
   "metadata": {},
   "source": [
    "Šiame pavyzdyje mes sukūrėme modulį mano_modulis, kuriame yra funkcijos pasisveikinti ir sudetis, taip pat klasė ManoKlase. Kad naudotume šio modulio funkcijas ir klases kitame faile, turime jį importuoti."
   ]
  },
  {
   "cell_type": "markdown",
   "metadata": {},
   "source": [
    "## Funkcijos arba klasės importavimas"
   ]
  },
  {
   "cell_type": "markdown",
   "metadata": {},
   "source": [
    "Python leidžia importuoti konkrečias funkcijas ar klases iš modulių ar paketų. Tai padeda užtikrinti, kad importuojate tik tai, ko jums reikia, ir taip sumažinate atminties naudojimą. \n",
    "\n",
    "Pavyzdys:"
   ]
  },
  {
   "cell_type": "code",
   "execution_count": 5,
   "metadata": {},
   "outputs": [],
   "source": [
    "from my_module import MyClass\n",
    "from math import sqrt"
   ]
  },
  {
   "cell_type": "markdown",
   "metadata": {},
   "source": [
    "💡 `math` modulis yra standartinė Python biblioteka, skirta matematikos funkcijoms ir konstantoms. Funkcija `sqrt` yra kvadratinės šaknies funkcija. Ji priima vieną skaičių kaip argumentą ir grąžina jo kvadratinę šaknį."
   ]
  },
  {
   "cell_type": "markdown",
   "metadata": {},
   "source": [
    "### Greita užduotis 1:\n",
    "\n",
    "Modulio `matematika.py` kūrimas\n",
    "\n",
    "Sukurkite naują Python modulį su pavadinimu `matematika.py`. Jame turi būti įgyvendintos šios funkcijos:\n",
    "\n",
    "- `daugyba(x, y)`: Funkcija priima du argumentus, `x` ir `y`, ir grąžina jų sandaugą.\n",
    "- `dalyba(x, y)`: Funkcija priima du argumentus, `x` ir `y`, ir grąžina jų dalmens rezultatą.\n",
    "\n",
    "Tada importuokite šį modulį kitame Python faile ir panaudokite jo funkcijas skaičiavimams atlikti."
   ]
  },
  {
   "cell_type": "code",
   "execution_count": 13,
   "metadata": {},
   "outputs": [
    {
     "name": "stdout",
     "output_type": "stream",
     "text": [
      "30 0.8333333333333334\n"
     ]
    }
   ],
   "source": [
    "from matematics import multiply, divide\n",
    "\n",
    "atsakymas = multiply(5, 6)\n",
    "atsakymas1 = divide(5,6)\n",
    "print(atsakymas, atsakymas1)"
   ]
  },
  {
   "cell_type": "code",
   "execution_count": 8,
   "metadata": {},
   "outputs": [
    {
     "name": "stdout",
     "output_type": "stream",
     "text": [
      "30\n",
      "1.3333333333333333\n"
     ]
    }
   ],
   "source": [
    "import matematics \n",
    "\n",
    "print(matematics.multiply (5,6))\n",
    "print(matematics.divide(8,6))"
   ]
  },
  {
   "cell_type": "markdown",
   "metadata": {},
   "source": [
    "## Importuotų objektų pervadinimas su \"as\""
   ]
  },
  {
   "cell_type": "markdown",
   "metadata": {},
   "source": [
    "Kartais gali būti naudinga pervadinti importuotą objektą (modulį, funkciją ar klasę), kad jis būtų trumpesnis arba aiškesnis. Tai galima padaryti naudojant \"as\" raktažodį. \n",
    "\n",
    "Pavyzdys:"
   ]
  },
  {
   "cell_type": "code",
   "execution_count": 16,
   "metadata": {},
   "outputs": [
    {
     "name": "stdout",
     "output_type": "stream",
     "text": [
      "63\n",
      "True\n"
     ]
    }
   ],
   "source": [
    "import random as belenkas\n",
    "# from mano_modulis import IlgasKlasesPavadinimas as IKP\n",
    "from calendar import isleap as ar_keliamieji\n",
    "print(belenkas.randint(1,99))\n",
    "print(ar_keliamieji(2024))"
   ]
  },
  {
   "cell_type": "markdown",
   "metadata": {},
   "source": [
    "## Iš modulio importuojame viską su `*`"
   ]
  },
  {
   "cell_type": "markdown",
   "metadata": {},
   "source": [
    "Python leidžia importuoti visus modulio ar paketo elementus naudojant `*`. Nors tai gali būti patogu, šis būdas gali sukelti pavadinimų konfliktus, jei keli moduliai turi elementų su vienodais pavadinimais.\n",
    "\n",
    "Pavyzdys:"
   ]
  },
  {
   "cell_type": "code",
   "execution_count": 18,
   "metadata": {},
   "outputs": [
    {
     "name": "stdout",
     "output_type": "stream",
     "text": [
      "3.141592653589793\n"
     ]
    }
   ],
   "source": [
    "from math import *\n",
    "print(pi)"
   ]
  },
  {
   "cell_type": "markdown",
   "metadata": {},
   "source": [
    "## `dir()` funkcija"
   ]
  },
  {
   "cell_type": "markdown",
   "metadata": {},
   "source": [
    "Python `dir()` funkcija grąžina sąrašą, kuriame yra modulio ar paketo narių pavadinimai. Tai gali būti naudinga norint sužinoti, ką galima importuoti iš modulio ar paketo.\n",
    "\n",
    "Pavyzdys:"
   ]
  },
  {
   "cell_type": "code",
   "execution_count": 24,
   "metadata": {},
   "outputs": [
    {
     "name": "stdout",
     "output_type": "stream",
     "text": [
      "['__doc__', '__loader__', '__name__', '__package__', '__spec__', 'acos', 'acosh', 'asin', 'asinh', 'atan', 'atan2', 'atanh', 'cbrt', 'ceil', 'comb', 'copysign', 'cos', 'cosh', 'degrees', 'dist', 'e', 'erf', 'erfc', 'exp', 'exp2', 'expm1', 'fabs', 'factorial', 'floor', 'fmod', 'frexp', 'fsum', 'gamma', 'gcd', 'hypot', 'inf', 'isclose', 'isfinite', 'isinf', 'isnan', 'isqrt', 'lcm', 'ldexp', 'lgamma', 'log', 'log10', 'log1p', 'log2', 'modf', 'nan', 'nextafter', 'perm', 'pi', 'pow', 'prod', 'radians', 'remainder', 'sin', 'sinh', 'sqrt', 'sumprod', 'tan', 'tanh', 'tau', 'trunc', 'ulp']\n",
      "False nan\n",
      "Return the arc tangent (measured in radians) of x.\n",
      "\n",
      "The result is between -pi/2 and pi/2.\n"
     ]
    }
   ],
   "source": [
    "import math\n",
    "print(dir(math))\n",
    "print(isinf(inf/inf), inf/inf)\n",
    "print(atan.__doc__)"
   ]
  },
  {
   "cell_type": "code",
   "execution_count": 2,
   "metadata": {},
   "outputs": [
    {
     "name": "stdout",
     "output_type": "stream",
     "text": [
      "['MyClass', '__builtins__', '__cached__', '__doc__', '__file__', '__loader__', '__name__', '__package__', '__spec__', 'addition', 'greet']\n",
      "my_module\n"
     ]
    },
    {
     "ename": "AttributeError",
     "evalue": "module 'my_module' has no attribute 'gauss'",
     "output_type": "error",
     "traceback": [
      "\u001b[1;31m---------------------------------------------------------------------------\u001b[0m",
      "\u001b[1;31mAttributeError\u001b[0m                            Traceback (most recent call last)",
      "Cell \u001b[1;32mIn[2], line 4\u001b[0m\n\u001b[0;32m      2\u001b[0m \u001b[38;5;28mprint\u001b[39m(\u001b[38;5;28mdir\u001b[39m(my_module))\n\u001b[0;32m      3\u001b[0m \u001b[38;5;28mprint\u001b[39m(my_module\u001b[38;5;241m.\u001b[39m\u001b[38;5;18m__name__\u001b[39m)\n\u001b[1;32m----> 4\u001b[0m \u001b[38;5;28mprint\u001b[39m(\u001b[43mmy_module\u001b[49m\u001b[38;5;241;43m.\u001b[39;49m\u001b[43mgauss\u001b[49m\u001b[38;5;241m.\u001b[39m\u001b[38;5;18m__code__\u001b[39m)\n",
      "\u001b[1;31mAttributeError\u001b[0m: module 'my_module' has no attribute 'gauss'"
     ]
    }
   ],
   "source": [
    "import my_module\n",
    "print(dir(my_module))\n",
    "print(my_module.__name__)\n",
    "print(my_module.gauss.__code__)"
   ]
  },
  {
   "cell_type": "markdown",
   "metadata": {},
   "source": [
    "## Paketai, subpaketai ir `__init__.py` failai"
   ]
  },
  {
   "cell_type": "markdown",
   "metadata": {},
   "source": [
    "**Paketai** yra būdas organizuoti Python kodo modulius į struktūruotą hierarchiją. Paketai leidžia lengvai suskirstyti projekto funkcionalumą į susijusias dalis, taip padidinant kodo tvarką ir supratimą.\n",
    "Python paketas yra paprastai direktorija, kurioje yra `__init__.py` failas. Paketas gali turėti modulius, subpaketus ir jų `__init__.py` failus.\n",
    "\n",
    "**Subpaketai** yra paketų direktorijos, esančios kituose paketuose. Jie taip pat turi `__init__.py` failą ir gali turėti savo modulius bei kitus subpaketus.\n",
    "\n",
    "**`__init__.py`** failai yra specialūs Python failai, kuriuos interpretatorius naudoja, kad nustatytų direktoriją kaip paketą ar subpaketą. `__init__.py` failai gali būti tušti arba turėti kodą, pvz., importuoti kai kuriuos modulius, priskirti kintamuosius arba apibrėžti funkcijas ir klases. Importuojant paketą, `__init__.py` failai yra visada paleidžiami."
   ]
  },
  {
   "cell_type": "markdown",
   "metadata": {},
   "source": [
    "### Paketų pavadinimų taisyklės"
   ]
  },
  {
   "cell_type": "markdown",
   "metadata": {},
   "source": [
    "- Reikėtų vengti didžiųjų raidžių;\n",
    "- Katalogų pavadinimai neturėtų prasidėti skaičiais;\n",
    "- Pavadinimuose neturėtų būti tarpų ir ne lotyniškų simbolių;\n",
    "- Yra rekomenduojama laikytis kintamųjų pavadinimų sudarymo taisyklių.\n",
    "\n",
    "Šios rekomendacijos yra naudingos siekiant išvengti klaidų ar sunkumų tvarkant failų sistemas ir rašant kodą."
   ]
  },
  {
   "cell_type": "markdown",
   "metadata": {},
   "source": [
    "### Projekto pavyzdys"
   ]
  },
  {
   "cell_type": "markdown",
   "metadata": {},
   "source": [
    "Įsivaizduokime, kad turime šią katalogų ir failų struktūrą:\n",
    "\n",
    "\n",
    "```python\n",
    "projektas/\n",
    "    __init__.py\n",
    "    main.py\n",
    "    geometrija/\n",
    "        __init__.py\n",
    "        plotas.py\n",
    "        perimetras.py\n",
    "        dvimate/\n",
    "            __init__.py\n",
    "            apskritimas.py\n",
    "            kvadratas.py"
   ]
  },
  {
   "cell_type": "markdown",
   "metadata": {},
   "source": [
    "- `projektas` yra pagrindinis paketas, kuris turi modulį `main.py` ir subpaketą `geometrija`. \n",
    "- `geometrija` subpaketas turi modulius `plotas.py` ir `perimetras.py` bei subpaketą `dvimate`, kuris turi modulius `apskritimas.py` ir `kvadratas.py`. \n",
    "\n",
    "Atkreipkite dėmesį, kad `dvimate` subpaketo vadinti 2D negalima, nors gal ir patogiau, bet negalima."
   ]
  },
  {
   "cell_type": "markdown",
   "metadata": {},
   "source": [
    "## Absoliutus importavimas"
   ]
  },
  {
   "cell_type": "markdown",
   "metadata": {},
   "source": [
    "Absoliutus importavimas naudoja visą kelią nuo pagrindinio paketo arba modulio iki importuojamo elemento. Jis paprastai yra aiškesnis ir lengviau suprantamas.\n",
    "\n",
    "Pavyzdys:"
   ]
  },
  {
   "cell_type": "code",
   "execution_count": 31,
   "metadata": {},
   "outputs": [
    {
     "ename": "ModuleNotFoundError",
     "evalue": "No module named 'projektas'",
     "output_type": "error",
     "traceback": [
      "\u001b[1;31m---------------------------------------------------------------------------\u001b[0m",
      "\u001b[1;31mModuleNotFoundError\u001b[0m                       Traceback (most recent call last)",
      "Cell \u001b[1;32mIn[31], line 1\u001b[0m\n\u001b[1;32m----> 1\u001b[0m \u001b[38;5;28;01mfrom\u001b[39;00m \u001b[38;5;21;01mprojektas\u001b[39;00m\u001b[38;5;21;01m.\u001b[39;00m\u001b[38;5;21;01mgeometrija\u001b[39;00m\u001b[38;5;21;01m.\u001b[39;00m\u001b[38;5;21;01mplotas\u001b[39;00m \u001b[38;5;28;01mimport\u001b[39;00m trikampio_plotas\n\u001b[0;32m      2\u001b[0m \u001b[38;5;28;01mfrom\u001b[39;00m \u001b[38;5;21;01mprojektas\u001b[39;00m\u001b[38;5;21;01m.\u001b[39;00m\u001b[38;5;21;01mgeomentrija\u001b[39;00m\u001b[38;5;21;01m.\u001b[39;00m\u001b[38;5;21;01mdvimate\u001b[39;00m\u001b[38;5;21;01m.\u001b[39;00m\u001b[38;5;21;01mapskritimas\u001b[39;00m \u001b[38;5;28;01mimport\u001b[39;00m apskritimo_plotas\n",
      "\u001b[1;31mModuleNotFoundError\u001b[0m: No module named 'projektas'"
     ]
    }
   ],
   "source": [
    "from projektas.geometrija.plotas import trikampio_plotas\n",
    "from projektas.geomentrija.dvimate.apskritimas import apskritimo_plotas"
   ]
  },
  {
   "cell_type": "markdown",
   "metadata": {},
   "source": [
    "## Reliatyvus importavimas"
   ]
  },
  {
   "cell_type": "markdown",
   "metadata": {},
   "source": [
    "Reliatyvus importavimas naudoja taškus nurodyti paketų ar modulių hierarchiją atsižvelgiant į esamą vietą. Jis gali padėti išlaikyti perkeliamumą tarp projektų ir sumažinti kodo kartojimąsi.\n",
    "\n",
    "Taškas (.) reiškia esamą paketą, o du taškai (..) reiškia viršesnį lygio paketą.\n",
    "\n",
    "Pavyzdys:"
   ]
  },
  {
   "cell_type": "code",
   "execution_count": 32,
   "metadata": {},
   "outputs": [
    {
     "ename": "ModuleNotFoundError",
     "evalue": "No module named 'projektas'",
     "output_type": "error",
     "traceback": [
      "\u001b[1;31m---------------------------------------------------------------------------\u001b[0m",
      "\u001b[1;31mModuleNotFoundError\u001b[0m                       Traceback (most recent call last)",
      "Cell \u001b[1;32mIn[32], line 1\u001b[0m\n\u001b[1;32m----> 1\u001b[0m \u001b[38;5;28;01mfrom\u001b[39;00m \u001b[38;5;21;01mprojektas\u001b[39;00m\u001b[38;5;21;01m.\u001b[39;00m\u001b[38;5;21;01mplotas\u001b[39;00m \u001b[38;5;28;01mimport\u001b[39;00m trikampio_plotas, apskritimo_plotas\n",
      "\u001b[1;31mModuleNotFoundError\u001b[0m: No module named 'projektas'"
     ]
    }
   ],
   "source": [
    "from projektas.plotas import trikampio_plotas, apskritimo_plotas"
   ]
  },
  {
   "cell_type": "markdown",
   "metadata": {},
   "source": [
    "## Importas iš projekto paketų"
   ]
  },
  {
   "cell_type": "markdown",
   "metadata": {},
   "source": [
    "Importuojant modulius iš paketų ir subpaketų, naudojama taškinė sintaksė:"
   ]
  },
  {
   "cell_type": "code",
   "execution_count": 1,
   "metadata": {},
   "outputs": [
    {
     "ename": "ModuleNotFoundError",
     "evalue": "No module named 'projektas'",
     "output_type": "error",
     "traceback": [
      "\u001b[1;31m---------------------------------------------------------------------------\u001b[0m",
      "\u001b[1;31mModuleNotFoundError\u001b[0m                       Traceback (most recent call last)",
      "Cell \u001b[1;32mIn[1], line 1\u001b[0m\n\u001b[1;32m----> 1\u001b[0m \u001b[38;5;28;01mfrom\u001b[39;00m \u001b[38;5;21;01mprojektas\u001b[39;00m\u001b[38;5;21;01m.\u001b[39;00m\u001b[38;5;21;01mgeometrija\u001b[39;00m\u001b[38;5;21;01m.\u001b[39;00m\u001b[38;5;21;01mplotas\u001b[39;00m \u001b[38;5;28;01mimport\u001b[39;00m trikampio_plotas\n\u001b[0;32m      2\u001b[0m \u001b[38;5;28;01mfrom\u001b[39;00m \u001b[38;5;21;01mprojektas\u001b[39;00m\u001b[38;5;21;01m.\u001b[39;00m\u001b[38;5;21;01mgeometrija\u001b[39;00m\u001b[38;5;21;01m.\u001b[39;00m\u001b[38;5;21;01mdvimate\u001b[39;00m\u001b[38;5;21;01m.\u001b[39;00m\u001b[38;5;21;01mapskritimas\u001b[39;00m \u001b[38;5;28;01mimport\u001b[39;00m apskritimo_plotas\n",
      "\u001b[1;31mModuleNotFoundError\u001b[0m: No module named 'projektas'"
     ]
    }
   ],
   "source": [
    "from projektas.geometrija.plotas import trikampio_plotas\n",
    "from projektas.geometrija.dvimate.apskritimas import apskritimo_plotas"
   ]
  },
  {
   "cell_type": "markdown",
   "metadata": {},
   "source": [
    "`__init__.py` failų panaudojimas: Tarkime, kad `projektas/geometrija/__init__.py` failas turi šį kodą:"
   ]
  },
  {
   "cell_type": "code",
   "execution_count": 34,
   "metadata": {},
   "outputs": [
    {
     "ename": "ImportError",
     "evalue": "attempted relative import with no known parent package",
     "output_type": "error",
     "traceback": [
      "\u001b[1;31m---------------------------------------------------------------------------\u001b[0m",
      "\u001b[1;31mImportError\u001b[0m                               Traceback (most recent call last)",
      "Cell \u001b[1;32mIn[34], line 1\u001b[0m\n\u001b[1;32m----> 1\u001b[0m \u001b[38;5;28;01mfrom\u001b[39;00m \u001b[38;5;21;01m.\u001b[39;00m\u001b[38;5;21;01mplotas\u001b[39;00m \u001b[38;5;28;01mimport\u001b[39;00m \u001b[38;5;241m*\u001b[39m\n\u001b[0;32m      2\u001b[0m \u001b[38;5;28;01mfrom\u001b[39;00m \u001b[38;5;21;01m.\u001b[39;00m\u001b[38;5;21;01mperimetras\u001b[39;00m \u001b[38;5;28;01mimport\u001b[39;00m \u001b[38;5;241m*\u001b[39m\n\u001b[0;32m      3\u001b[0m \u001b[38;5;28;01mfrom\u001b[39;00m \u001b[38;5;21;01m.\u001b[39;00m\u001b[38;5;21;01mdvimate\u001b[39;00m\u001b[38;5;21;01m.\u001b[39;00m\u001b[38;5;21;01mapskritimas\u001b[39;00m \u001b[38;5;28;01mimport\u001b[39;00m \u001b[38;5;241m*\u001b[39m\n",
      "\u001b[1;31mImportError\u001b[0m: attempted relative import with no known parent package"
     ]
    }
   ],
   "source": [
    "from .plotas import *\n",
    "from .perimetras import *\n",
    "from .dvimate.apskritimas import *\n",
    "from .dvimate.kvadratas import *"
   ]
  },
  {
   "cell_type": "markdown",
   "metadata": {},
   "source": [
    "Dabar galime importuoti visas funkcijas tiesiog importuodami geometrija subpaketą:"
   ]
  },
  {
   "cell_type": "code",
   "execution_count": 35,
   "metadata": {},
   "outputs": [
    {
     "ename": "ModuleNotFoundError",
     "evalue": "No module named 'projektas'",
     "output_type": "error",
     "traceback": [
      "\u001b[1;31m---------------------------------------------------------------------------\u001b[0m",
      "\u001b[1;31mModuleNotFoundError\u001b[0m                       Traceback (most recent call last)",
      "Cell \u001b[1;32mIn[35], line 1\u001b[0m\n\u001b[1;32m----> 1\u001b[0m \u001b[38;5;28;01mfrom\u001b[39;00m \u001b[38;5;21;01mprojektas\u001b[39;00m\u001b[38;5;21;01m.\u001b[39;00m\u001b[38;5;21;01mgeometrija\u001b[39;00m \u001b[38;5;28;01mimport\u001b[39;00m trikampio_plotas, apskritimo_plotas\n",
      "\u001b[1;31mModuleNotFoundError\u001b[0m: No module named 'projektas'"
     ]
    }
   ],
   "source": [
    "from projektas.geometrija import trikampio_plotas, apskritimo_plotas"
   ]
  },
  {
   "cell_type": "markdown",
   "metadata": {},
   "source": [
    "### Greita užduotis 2: Python Paketo \"geometrija\" Sukūrimas\n",
    "\n",
    "Sukurkite paketą `geometrija`, kuris turės šiuos modulius:\n",
    "\n",
    "- apskritimas.py: turintis funkciją `apskritimo_plotas(r)` skirtą apskaičiuoti apskritimo plotą\n",
    "- kvadratas.py: turintis funkciją `kvadrato_plotas(a)` skirtą apskaičiuoti kvadrato plotą\n",
    "\n",
    "Importuokite šiuos modulius kitame faile, pakeiskite funkcijų pavadinimus pasitelkiant `as` ir panaudokite funkcijas skaičiavimams atlikti."
   ]
  },
  {
   "cell_type": "markdown",
   "metadata": {},
   "source": [
    "Sukurkite naują Python failą (pvz., `main.py`) ir importuokite iš šio paketo modulius `apskritimas` ir `kvadratas`. Pakeiskite importuojamų funkcijų pavadinimus naudodami `as` raktažodį, kad vėliau būtų lengviau atpažinti funkcijų šaltinius."
   ]
  },
  {
   "cell_type": "code",
   "execution_count": null,
   "metadata": {},
   "outputs": [],
   "source": []
  }
 ],
 "metadata": {
  "kernelspec": {
   "display_name": "venv",
   "language": "python",
   "name": "python3"
  },
  "language_info": {
   "codemirror_mode": {
    "name": "ipython",
    "version": 3
   },
   "file_extension": ".py",
   "mimetype": "text/x-python",
   "name": "python",
   "nbconvert_exporter": "python",
   "pygments_lexer": "ipython3",
   "version": "3.12.1"
  }
 },
 "nbformat": 4,
 "nbformat_minor": 2
}
