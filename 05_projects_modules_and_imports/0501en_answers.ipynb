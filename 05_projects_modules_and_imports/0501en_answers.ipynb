{
 "cells": [
  {
   "cell_type": "markdown",
   "metadata": {},
   "source": [
    "# `Quick assignment 1: Creating and using the \"math.py\" Module`"
   ]
  },
  {
   "cell_type": "markdown",
   "metadata": {},
   "source": [
    "### Task 1"
   ]
  },
  {
   "cell_type": "code",
   "execution_count": null,
   "metadata": {},
   "outputs": [],
   "source": [
    "# math.py\n",
    "def multiply(x, y):\n",
    "    return x * y\n",
    "\n",
    "def divide(x, y):\n",
    "    if y == 0:\n",
    "        return \"Cannot divide by zero!\"\n",
    "    return x / y"
   ]
  },
  {
   "cell_type": "markdown",
   "metadata": {},
   "source": [
    "### Task 2"
   ]
  },
  {
   "cell_type": "code",
   "execution_count": null,
   "metadata": {},
   "outputs": [],
   "source": [
    "# main.py (or any other Python file)\n",
    "from math import multiply, divide\n",
    "\n",
    "# Example calculations\n",
    "result1 = multiply(5, 3)\n",
    "result2 = divide(10, 2)\n",
    "\n",
    "print(\"Multiplication result:\", result1)\n",
    "print(\"Division result:\", result2)"
   ]
  },
  {
   "cell_type": "markdown",
   "metadata": {},
   "source": [
    "# `Quick Assignment 2: Creating the \"geometry\" Package and Modules`"
   ]
  },
  {
   "cell_type": "code",
   "execution_count": null,
   "metadata": {},
   "outputs": [],
   "source": [
    "# circle.py\n",
    "import math\n",
    "\n",
    "def circle_area(r):\n",
    "    return math.pi * (r ** 2)"
   ]
  },
  {
   "cell_type": "code",
   "execution_count": null,
   "metadata": {},
   "outputs": [],
   "source": [
    "# square.py\n",
    "def square_area(a):\n",
    "    return a ** 2\n"
   ]
  },
  {
   "cell_type": "markdown",
   "metadata": {},
   "source": [
    "Using the \"geometry\" Package Modules\n",
    "\n",
    "main.py (or any other Python file)"
   ]
  },
  {
   "cell_type": "code",
   "execution_count": null,
   "metadata": {},
   "outputs": [],
   "source": [
    "from geometry.circle import circle_area as calculate_circle_area\n",
    "from geometry.square import square_area as calculate_square_area\n",
    "\n",
    "# Example calculations\n",
    "radius = 5\n",
    "side_length = 4\n",
    "\n",
    "circle_result = calculate_circle_area(radius)\n",
    "square_result = calculate_square_area(side_length)\n",
    "\n",
    "print(\"Area of a circle with radius\", radius, \"is\", circle_result)\n",
    "print(\"Area of a square with side length\", side_length, \"is\", square_result)\n"
   ]
  }
 ],
 "metadata": {
  "kernelspec": {
   "display_name": "Python 3",
   "language": "python",
   "name": "python3"
  },
  "language_info": {
   "codemirror_mode": {
    "name": "ipython",
    "version": 3
   },
   "file_extension": ".py",
   "mimetype": "text/x-python",
   "name": "python",
   "nbconvert_exporter": "python",
   "pygments_lexer": "ipython3",
   "version": "3.12.1"
  }
 },
 "nbformat": 4,
 "nbformat_minor": 2
}
